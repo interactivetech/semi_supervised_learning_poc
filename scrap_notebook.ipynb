{
 "cells": [
  {
   "cell_type": "code",
   "execution_count": 1,
   "id": "5acad626-fca5-4192-b941-c57744ee7910",
   "metadata": {},
   "outputs": [],
   "source": [
    "# Learn to draw gaussian"
   ]
  },
  {
   "cell_type": "code",
   "execution_count": 66,
   "id": "4f2dbfbc-95a6-4c6b-a2d8-04329350e5b8",
   "metadata": {},
   "outputs": [],
   "source": [
    "import numpy as np\n",
    "import math\n",
    "import matplotlib.pyplot as plt\n",
    "import cv2"
   ]
  },
  {
   "cell_type": "code",
   "execution_count": 67,
   "id": "09bae1f3-3590-4f37-a723-7c23db40c195",
   "metadata": {},
   "outputs": [],
   "source": [
    "# !pip install opencv-python-headless"
   ]
  },
  {
   "cell_type": "code",
   "execution_count": 86,
   "id": "75dcb36c-7455-4367-81ae-a2461dfa1fd7",
   "metadata": {},
   "outputs": [],
   "source": [
    "def gaussian_radius(det_size, min_overlap=0.7):\n",
    "  height, width = det_size\n",
    "\n",
    "  a1  = 1\n",
    "  b1  = (height + width)\n",
    "  c1  = width * height * (1 - min_overlap) / (1 + min_overlap)\n",
    "  sq1 = np.sqrt(b1 ** 2 - 4 * a1 * c1)\n",
    "  r1  = (b1 + sq1) / 2\n",
    "\n",
    "  a2  = 4\n",
    "  b2  = 2 * (height + width)\n",
    "  c2  = (1 - min_overlap) * width * height\n",
    "  sq2 = np.sqrt(b2 ** 2 - 4 * a2 * c2)\n",
    "  r2  = (b2 + sq2) / 2\n",
    "\n",
    "  a3  = 4 * min_overlap\n",
    "  b3  = -2 * min_overlap * (height + width)\n",
    "  c3  = (min_overlap - 1) * width * height\n",
    "  sq3 = np.sqrt(b3 ** 2 - 4 * a3 * c3)\n",
    "  r3  = (b3 + sq3) / 2\n",
    "  return min(r1, r2, r3)\n",
    "\n",
    "def gaussian_radius2(det_size, min_overlap):\n",
    "    height, width = det_size\n",
    "\n",
    "    a1  = 1\n",
    "    b1  = (height + width)\n",
    "    c1  = width * height * (1 - min_overlap) / (1 + min_overlap)\n",
    "    sq1 = np.sqrt(b1 ** 2 - 4 * a1 * c1)\n",
    "    r1  = (b1 - sq1) / (2 * a1)\n",
    "\n",
    "    a2  = 4\n",
    "    b2  = 2 * (height + width)\n",
    "    c2  = (1 - min_overlap) * width * height\n",
    "    sq2 = np.sqrt(b2 ** 2 - 4 * a2 * c2)\n",
    "    r2  = (b2 - sq2) / (2 * a2)\n",
    "\n",
    "    a3  = 4 * min_overlap\n",
    "    b3  = -2 * min_overlap * (height + width)\n",
    "    c3  = (min_overlap - 1) * width * height\n",
    "    sq3 = np.sqrt(b3 ** 2 - 4 * a3 * c3)\n",
    "    r3  = (b3 + sq3) / (2 * a3)\n",
    "    return min(r1, r2, r3)\n",
    "def gaussian2D(shape, sigma=1):\n",
    "    m, n = [(ss - 1.) / 2. for ss in shape]\n",
    "    y, x = np.ogrid[-m:m+1,-n:n+1]\n",
    "\n",
    "    h = np.exp(-(x * x + y * y) / (2 * sigma * sigma))\n",
    "    h[h < np.finfo(h.dtype).eps * h.max()] = 0\n",
    "    return h\n",
    "\n",
    "def draw_umich_gaussian(heatmap, center, radius, k=1):\n",
    "  diameter = 2 * radius + 1\n",
    "  gaussian = gaussian2D((diameter, diameter), sigma=diameter / 6)*255\n",
    "  print(gaussian.shape)\n",
    "  x, y = int(center[0]), int(center[1])\n",
    "\n",
    "  height, width = heatmap.shape[0:2]\n",
    "    \n",
    "  left, right = min(x, radius), min(width - x, radius + 1)\n",
    "  top, bottom = min(y, radius), min(height - y, radius + 1)\n",
    "\n",
    "  masked_heatmap  = heatmap[y - top:y + bottom, x - left:x + right]\n",
    "  masked_gaussian = gaussian[radius - top:radius + bottom, radius - left:radius + right]\n",
    "  if min(masked_gaussian.shape) > 0 and min(masked_heatmap.shape) > 0: # TODO debug\n",
    "    np.maximum(masked_heatmap, masked_gaussian * k, out=masked_heatmap)\n",
    "  return heatmap"
   ]
  },
  {
   "cell_type": "code",
   "execution_count": 100,
   "id": "55ffd302-23cb-4ae5-963c-1748d08752da",
   "metadata": {},
   "outputs": [
    {
     "name": "stdout",
     "output_type": "stream",
     "text": [
      "(2, 4)\n",
      "(5, 5)\n",
      "(15, 15)\n"
     ]
    },
    {
     "data": {
      "text/plain": [
       "<matplotlib.image.AxesImage at 0x7f5acab32bb0>"
      ]
     },
     "execution_count": 100,
     "metadata": {},
     "output_type": "execute_result"
    },
    {
     "data": {
      "image/png": "[encoded data removed]",
      "text/plain": [
       "<Figure size 432x288 with 1 Axes>"
      ]
     },
     "metadata": {
      "needs_background": "light"
     },
     "output_type": "display_data"
    }
   ],
   "source": [
    "hm = np.zeros((128,128))\n",
    "cs = np.array([[60,60,32,32],[64,64,96,96]])\n",
    "# c = np.array([64,64,100,100])\n",
    "print(cs.shape)\n",
    "MODEL_SCALE=1\n",
    "for c in cs:\n",
    "    h, w = c[3]/MODEL_SCALE, c[2]/MODEL_SCALE\n",
    "    radius = gaussian_radius2((math.ceil(h), math.ceil(w)),min_overlap=0.7)\n",
    "    radius = max(0, int(radius))\n",
    "    # print(\"radius:\", radius)\n",
    "    draw_umich_gaussian(hm, [int(c[0])//MODEL_SCALE,int(c[1])//MODEL_SCALE], \n",
    "                            radius)\n",
    "    cv2.rectangle(hm,(c[0]-c[2]//2,c[0]-c[3]//2),(c[0]+c[2]//2,c[0]+c[3]//2),255)\n",
    "plt.imshow(hm,cmap='gray')"
   ]
  },
  {
   "cell_type": "code",
   "execution_count": null,
   "id": "c256d108-18bf-40ad-9f16-f3e9f3d2ce04",
   "metadata": {},
   "outputs": [],
   "source": []
  },
  {
   "cell_type": "code",
   "execution_count": null,
   "id": "fe6562b2-b6c8-4b1f-a5c9-4c65b3198874",
   "metadata": {},
   "outputs": [],
   "source": []
  }
 ],
 "metadata": {
  "kernelspec": {
   "display_name": "Python 3 (ipykernel)",
   "language": "python",
   "name": "python3"
  },
  "language_info": {
   "codemirror_mode": {
    "name": "ipython",
    "version": 3
   },
   "file_extension": ".py",
   "mimetype": "text/x-python",
   "name": "python",
   "nbconvert_exporter": "python",
   "pygments_lexer": "ipython3",
   "version": "3.8.13"
  }
 },
 "nbformat": 4,
 "nbformat_minor": 5
}
