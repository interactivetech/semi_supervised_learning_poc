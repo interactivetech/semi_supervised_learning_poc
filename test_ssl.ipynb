{
 "cells": [
  {
   "cell_type": "code",
   "execution_count": 1,
   "id": "d7fc035f-34f6-431c-ba21-6243686ba076",
   "metadata": {},
   "outputs": [
    {
     "name": "stderr",
     "output_type": "stream",
     "text": [
      "/opt/conda/envs/usb/lib/python3.8/site-packages/tqdm/auto.py:22: TqdmWarning: IProgress not found. Please update jupyter and ipywidgets. See https://ipywidgets.readthedocs.io/en/stable/user_install.html\n",
      "  from .autonotebook import tqdm as notebook_tqdm\n"
     ]
    }
   ],
   "source": [
    "from model import wrn_28_2\n",
    "import torch\n",
    "from tqdm import tqdm\n",
    "import torch.nn.functional as F\n",
    "from ema import EMA,EMADriver, set_ema_model"
   ]
  },
  {
   "cell_type": "code",
   "execution_count": 2,
   "id": "b38ec1fd-a767-47b6-980a-7ac9d27a219f",
   "metadata": {},
   "outputs": [
    {
     "data": {
      "text/plain": [
       "WideResNet(\n",
       "  (conv1): Conv2d(3, 16, kernel_size=(3, 3), stride=(1, 1), padding=(1, 1))\n",
       "  (block1): NetworkBlock(\n",
       "    (layer): Sequential(\n",
       "      (0): BasicBlock(\n",
       "        (bn1): BatchNorm2d(16, eps=0.001, momentum=0.001, affine=True, track_running_stats=True)\n",
       "        (relu1): LeakyReLU(negative_slope=0.1)\n",
       "        (conv1): Conv2d(16, 32, kernel_size=(3, 3), stride=(1, 1), padding=(1, 1))\n",
       "        (bn2): BatchNorm2d(32, eps=0.001, momentum=0.001, affine=True, track_running_stats=True)\n",
       "        (relu2): LeakyReLU(negative_slope=0.1)\n",
       "        (conv2): Conv2d(32, 32, kernel_size=(3, 3), stride=(1, 1), padding=(1, 1))\n",
       "        (convShortcut): Conv2d(16, 32, kernel_size=(1, 1), stride=(1, 1))\n",
       "      )\n",
       "      (1): BasicBlock(\n",
       "        (bn1): BatchNorm2d(32, eps=0.001, momentum=0.001, affine=True, track_running_stats=True)\n",
       "        (relu1): LeakyReLU(negative_slope=0.1)\n",
       "        (conv1): Conv2d(32, 32, kernel_size=(3, 3), stride=(1, 1), padding=(1, 1))\n",
       "        (bn2): BatchNorm2d(32, eps=0.001, momentum=0.001, affine=True, track_running_stats=True)\n",
       "        (relu2): LeakyReLU(negative_slope=0.1)\n",
       "        (conv2): Conv2d(32, 32, kernel_size=(3, 3), stride=(1, 1), padding=(1, 1))\n",
       "      )\n",
       "      (2): BasicBlock(\n",
       "        (bn1): BatchNorm2d(32, eps=0.001, momentum=0.001, affine=True, track_running_stats=True)\n",
       "        (relu1): LeakyReLU(negative_slope=0.1)\n",
       "        (conv1): Conv2d(32, 32, kernel_size=(3, 3), stride=(1, 1), padding=(1, 1))\n",
       "        (bn2): BatchNorm2d(32, eps=0.001, momentum=0.001, affine=True, track_running_stats=True)\n",
       "        (relu2): LeakyReLU(negative_slope=0.1)\n",
       "        (conv2): Conv2d(32, 32, kernel_size=(3, 3), stride=(1, 1), padding=(1, 1))\n",
       "      )\n",
       "      (3): BasicBlock(\n",
       "        (bn1): BatchNorm2d(32, eps=0.001, momentum=0.001, affine=True, track_running_stats=True)\n",
       "        (relu1): LeakyReLU(negative_slope=0.1)\n",
       "        (conv1): Conv2d(32, 32, kernel_size=(3, 3), stride=(1, 1), padding=(1, 1))\n",
       "        (bn2): BatchNorm2d(32, eps=0.001, momentum=0.001, affine=True, track_running_stats=True)\n",
       "        (relu2): LeakyReLU(negative_slope=0.1)\n",
       "        (conv2): Conv2d(32, 32, kernel_size=(3, 3), stride=(1, 1), padding=(1, 1))\n",
       "      )\n",
       "    )\n",
       "  )\n",
       "  (block2): NetworkBlock(\n",
       "    (layer): Sequential(\n",
       "      (0): BasicBlock(\n",
       "        (bn1): BatchNorm2d(32, eps=0.001, momentum=0.001, affine=True, track_running_stats=True)\n",
       "        (relu1): LeakyReLU(negative_slope=0.1)\n",
       "        (conv1): Conv2d(32, 64, kernel_size=(3, 3), stride=(2, 2), padding=(1, 1))\n",
       "        (bn2): BatchNorm2d(64, eps=0.001, momentum=0.001, affine=True, track_running_stats=True)\n",
       "        (relu2): LeakyReLU(negative_slope=0.1)\n",
       "        (conv2): Conv2d(64, 64, kernel_size=(3, 3), stride=(1, 1), padding=(1, 1))\n",
       "        (convShortcut): Conv2d(32, 64, kernel_size=(1, 1), stride=(2, 2))\n",
       "      )\n",
       "      (1): BasicBlock(\n",
       "        (bn1): BatchNorm2d(64, eps=0.001, momentum=0.001, affine=True, track_running_stats=True)\n",
       "        (relu1): LeakyReLU(negative_slope=0.1)\n",
       "        (conv1): Conv2d(64, 64, kernel_size=(3, 3), stride=(1, 1), padding=(1, 1))\n",
       "        (bn2): BatchNorm2d(64, eps=0.001, momentum=0.001, affine=True, track_running_stats=True)\n",
       "        (relu2): LeakyReLU(negative_slope=0.1)\n",
       "        (conv2): Conv2d(64, 64, kernel_size=(3, 3), stride=(1, 1), padding=(1, 1))\n",
       "      )\n",
       "      (2): BasicBlock(\n",
       "        (bn1): BatchNorm2d(64, eps=0.001, momentum=0.001, affine=True, track_running_stats=True)\n",
       "        (relu1): LeakyReLU(negative_slope=0.1)\n",
       "        (conv1): Conv2d(64, 64, kernel_size=(3, 3), stride=(1, 1), padding=(1, 1))\n",
       "        (bn2): BatchNorm2d(64, eps=0.001, momentum=0.001, affine=True, track_running_stats=True)\n",
       "        (relu2): LeakyReLU(negative_slope=0.1)\n",
       "        (conv2): Conv2d(64, 64, kernel_size=(3, 3), stride=(1, 1), padding=(1, 1))\n",
       "      )\n",
       "      (3): BasicBlock(\n",
       "        (bn1): BatchNorm2d(64, eps=0.001, momentum=0.001, affine=True, track_running_stats=True)\n",
       "        (relu1): LeakyReLU(negative_slope=0.1)\n",
       "        (conv1): Conv2d(64, 64, kernel_size=(3, 3), stride=(1, 1), padding=(1, 1))\n",
       "        (bn2): BatchNorm2d(64, eps=0.001, momentum=0.001, affine=True, track_running_stats=True)\n",
       "        (relu2): LeakyReLU(negative_slope=0.1)\n",
       "        (conv2): Conv2d(64, 64, kernel_size=(3, 3), stride=(1, 1), padding=(1, 1))\n",
       "      )\n",
       "    )\n",
       "  )\n",
       "  (block3): NetworkBlock(\n",
       "    (layer): Sequential(\n",
       "      (0): BasicBlock(\n",
       "        (bn1): BatchNorm2d(64, eps=0.001, momentum=0.001, affine=True, track_running_stats=True)\n",
       "        (relu1): LeakyReLU(negative_slope=0.1)\n",
       "        (conv1): Conv2d(64, 128, kernel_size=(3, 3), stride=(2, 2), padding=(1, 1))\n",
       "        (bn2): BatchNorm2d(128, eps=0.001, momentum=0.001, affine=True, track_running_stats=True)\n",
       "        (relu2): LeakyReLU(negative_slope=0.1)\n",
       "        (conv2): Conv2d(128, 128, kernel_size=(3, 3), stride=(1, 1), padding=(1, 1))\n",
       "        (convShortcut): Conv2d(64, 128, kernel_size=(1, 1), stride=(2, 2))\n",
       "      )\n",
       "      (1): BasicBlock(\n",
       "        (bn1): BatchNorm2d(128, eps=0.001, momentum=0.001, affine=True, track_running_stats=True)\n",
       "        (relu1): LeakyReLU(negative_slope=0.1)\n",
       "        (conv1): Conv2d(128, 128, kernel_size=(3, 3), stride=(1, 1), padding=(1, 1))\n",
       "        (bn2): BatchNorm2d(128, eps=0.001, momentum=0.001, affine=True, track_running_stats=True)\n",
       "        (relu2): LeakyReLU(negative_slope=0.1)\n",
       "        (conv2): Conv2d(128, 128, kernel_size=(3, 3), stride=(1, 1), padding=(1, 1))\n",
       "      )\n",
       "      (2): BasicBlock(\n",
       "        (bn1): BatchNorm2d(128, eps=0.001, momentum=0.001, affine=True, track_running_stats=True)\n",
       "        (relu1): LeakyReLU(negative_slope=0.1)\n",
       "        (conv1): Conv2d(128, 128, kernel_size=(3, 3), stride=(1, 1), padding=(1, 1))\n",
       "        (bn2): BatchNorm2d(128, eps=0.001, momentum=0.001, affine=True, track_running_stats=True)\n",
       "        (relu2): LeakyReLU(negative_slope=0.1)\n",
       "        (conv2): Conv2d(128, 128, kernel_size=(3, 3), stride=(1, 1), padding=(1, 1))\n",
       "      )\n",
       "      (3): BasicBlock(\n",
       "        (bn1): BatchNorm2d(128, eps=0.001, momentum=0.001, affine=True, track_running_stats=True)\n",
       "        (relu1): LeakyReLU(negative_slope=0.1)\n",
       "        (conv1): Conv2d(128, 128, kernel_size=(3, 3), stride=(1, 1), padding=(1, 1))\n",
       "        (bn2): BatchNorm2d(128, eps=0.001, momentum=0.001, affine=True, track_running_stats=True)\n",
       "        (relu2): LeakyReLU(negative_slope=0.1)\n",
       "        (conv2): Conv2d(128, 128, kernel_size=(3, 3), stride=(1, 1), padding=(1, 1))\n",
       "      )\n",
       "    )\n",
       "  )\n",
       "  (bn1): BatchNorm2d(128, eps=0.001, momentum=0.001, affine=True, track_running_stats=True)\n",
       "  (relu): LeakyReLU(negative_slope=0.1)\n",
       "  (fc): Linear(in_features=128, out_features=10, bias=True)\n",
       ")"
      ]
     },
     "execution_count": 2,
     "metadata": {},
     "output_type": "execute_result"
    }
   ],
   "source": [
    "m = wrn_28_2(pretrained=False,pretrained_path=None ,num_classes=10)\n",
    "m.to('cuda')"
   ]
  },
  {
   "cell_type": "code",
   "execution_count": null,
   "id": "604efc96-932f-4315-8f48-1f7e26c0cb83",
   "metadata": {},
   "outputs": [],
   "source": []
  },
  {
   "cell_type": "code",
   "execution_count": 3,
   "id": "8b9960f0-5a85-43e4-8690-708bb082bf59",
   "metadata": {},
   "outputs": [],
   "source": [
    "# for ind,x in enumerate(m.children()):\n",
    "#     print(ind,x)"
   ]
  },
  {
   "cell_type": "code",
   "execution_count": 4,
   "id": "dd8a8a61-8875-4d15-a4fd-aa2d686f2b40",
   "metadata": {},
   "outputs": [],
   "source": [
    "# !pip install torch"
   ]
  },
  {
   "cell_type": "code",
   "execution_count": 5,
   "id": "ce73b0a8-0796-4abb-b978-a79d00fae578",
   "metadata": {},
   "outputs": [],
   "source": [
    "from semilearn import get_dataset, get_data_loader, get_net_builder, get_algorithm, get_config, Trainer"
   ]
  },
  {
   "cell_type": "code",
   "execution_count": 6,
   "id": "16d21c2c-944a-42b2-abe9-7a96b1672843",
   "metadata": {},
   "outputs": [],
   "source": [
    "# config = {\n",
    "#     'algorithm': 'fixmatch',\n",
    "#     'net': 'wrn_28_2',\n",
    "#     'use_pretrain': False,  # todo: add pretrain\n",
    "#     'pretrain_path': None,\n",
    "\n",
    "#     # optimization configs\n",
    "#     'epoch': 3,\n",
    "#     'num_train_iter': 150,\n",
    "#     'num_eval_iter': 50,\n",
    "#     'optim': 'SGD',\n",
    "#     'lr': 0.03,\n",
    "#     'momentum': 0.9,\n",
    "#     'batch_size': 32,\n",
    "#     'eval_batch_size': 64,\n",
    "\n",
    "#     # dataset configs\n",
    "#     'dataset': 'cifar10',\n",
    "#     'num_labels': 40,\n",
    "#     'num_classes': 10,\n",
    "#     'img_size': 32,\n",
    "#     'crop_ratio': 0.875,\n",
    "#     'data_dir': './data',\n",
    "\n",
    "#     # algorithm specific configs\n",
    "#     'hard_label': True,\n",
    "#     'uratio': 3,\n",
    "#     'ulb_loss_ratio': 1.0,\n",
    "\n",
    "#     # device configs\n",
    "#     'gpu': 0,\n",
    "#     'world_size': 1,\n",
    "#     'distributed': False,\n",
    "# }\n",
    "# config = get_config(config)"
   ]
  },
  {
   "cell_type": "code",
   "execution_count": 7,
   "id": "eb025618-04a0-4a98-b22b-4a93422a013f",
   "metadata": {},
   "outputs": [],
   "source": [
    "# vars(config)"
   ]
  },
  {
   "cell_type": "code",
   "execution_count": 8,
   "id": "03a4274d-6ed9-42f1-b382-862f404250e4",
   "metadata": {},
   "outputs": [],
   "source": [
    "# dataset_dict = get_dataset(config, config.algorithm, config.dataset, config.num_labels, config.num_classes, data_dir=config.data_dir)\n",
    "# train_lb_loader = get_data_loader(config, dataset_dict['train_lb'], config.batch_size)"
   ]
  },
  {
   "cell_type": "code",
   "execution_count": 9,
   "id": "36593d2d-f01e-4650-b376-7a66378ac73f",
   "metadata": {},
   "outputs": [],
   "source": [
    "from semilearn.datasets.cv_datasets import get_cifar\n",
    "import argparse"
   ]
  },
  {
   "cell_type": "code",
   "execution_count": 10,
   "id": "9b11ead7-75b4-45f6-86a4-d26958759656",
   "metadata": {},
   "outputs": [],
   "source": [
    "ema = wrn_28_2(pretrained=False,pretrained_path=None ,num_classes=10)"
   ]
  },
  {
   "cell_type": "code",
   "execution_count": 11,
   "id": "5b1fedbb-b487-4b6b-a009-7b52112220d0",
   "metadata": {},
   "outputs": [],
   "source": [
    "ema = set_ema_model(ema, m)\n",
    "emaA = EMADriver(model=m,ema_model=ema,ema_m=0.999)\n",
    "emaA.before_run()"
   ]
  },
  {
   "cell_type": "code",
   "execution_count": 12,
   "id": "7291b35f-d921-47bc-9925-1cee2cafd25a",
   "metadata": {},
   "outputs": [
    {
     "name": "stdout",
     "output_type": "stream",
     "text": [
      "Files already downloaded and verified\n",
      "lb count: [40, 40, 40, 40, 40, 40, 40, 40, 40, 40]\n",
      "ulb count: [5000, 5000, 5000, 5000, 5000, 5000, 5000, 5000, 5000, 5000]\n",
      "Files already downloaded and verified\n"
     ]
    }
   ],
   "source": [
    "args_d = {'dataset': 'cifar10',\n",
    "         'num_classes': 10,\n",
    "         'train_sampler': 'RandomSampler',\n",
    "         'num_workers': 1,\n",
    "         'lb_imb_ratio': 1,\n",
    "         'ulb_imb_ratio': 1,\n",
    "          'batch_size': 1,\n",
    "         'ulb_num_labels': None,\n",
    "         'img_size': 32,\n",
    "         'crop_ratio': 0.875,\n",
    "         'num_labels': 40,\n",
    "         'seed': 1,\n",
    "         'epoch': 3,\n",
    "         'num_train_iter':150,\n",
    "         'net': 'wrn_28_8',\n",
    "         'optim': 'SGD',\n",
    "         'lr': 0.03,\n",
    "         'momentum': 0.9,\n",
    "         'weight_decay': 0.0005,\n",
    "         'layer_decay': 0.75,\n",
    "          'num_warmup_iter': 0,\n",
    "         'algorithm': 'fixmatch',\n",
    "         'data_dir': './data',\n",
    "         'uratio': 3,\n",
    "         'eval_batch_size': 64}\n",
    "\n",
    "parser = argparse.ArgumentParser(description='Semi-Supervised Learning (USB semilearn package)')\n",
    "args = parser.parse_args(\"\")\n",
    "# args\n",
    "for k in args_d:\n",
    "        setattr(args, k, args_d[k])\n",
    "lb_dset, ulb_dset, eval_dset = get_cifar(args,\n",
    "          alg=None, \n",
    "          name='cifar10',\n",
    "          num_labels=400,\n",
    "          num_classes=10,\n",
    "          data_dir='./data',\n",
    "          include_lb_to_ulb=True)"
   ]
  },
  {
   "cell_type": "code",
   "execution_count": 13,
   "id": "b305cd1d-fc8f-4c7e-be5c-6cca8f529eee",
   "metadata": {},
   "outputs": [
    {
     "name": "stdout",
     "output_type": "stream",
     "text": [
      "Files already downloaded and verified\n",
      "lb count: [4, 4, 4, 4, 4, 4, 4, 4, 4, 4]\n",
      "ulb count: [5000, 5000, 5000, 5000, 5000, 5000, 5000, 5000, 5000, 5000]\n",
      "Files already downloaded and verified\n"
     ]
    }
   ],
   "source": [
    "dataset_dict = get_dataset(args, args.algorithm, args.dataset, args.num_labels, args.num_classes, data_dir=args.data_dir)\n",
    "train_lb_loader = get_data_loader(args, dataset_dict['train_lb'], args.batch_size)"
   ]
  },
  {
   "cell_type": "code",
   "execution_count": 14,
   "id": "dec3bd12-689f-4057-99e7-cc1e973b047b",
   "metadata": {},
   "outputs": [
    {
     "data": {
      "text/plain": [
       "{'idx_lb': 0,\n",
       " 'x_lb': tensor([[[ 0.1597,  0.1597,  0.0227,  ...,  0.4337,  0.4851,  0.5022],\n",
       "          [ 0.0398,  0.0741,  0.0741,  ...,  0.3823,  0.4166,  0.4166],\n",
       "          [ 0.1597,  0.0741,  0.0569,  ...,  0.1426,  0.1939,  0.3652],\n",
       "          ...,\n",
       "          [-0.5938, -0.6623, -0.7308,  ..., -0.6109, -0.7650, -0.8849],\n",
       "          [-1.0733, -1.0219, -1.0390,  ..., -0.4397, -0.5424, -0.7650],\n",
       "          [-0.8507, -0.8507, -0.8507,  ..., -0.5596, -0.5938, -0.6281]],\n",
       " \n",
       "         [[ 0.6429,  0.6429,  0.5028,  ...,  0.9230,  0.9405,  0.9755],\n",
       "          [ 0.5203,  0.5553,  0.5378,  ...,  0.9055,  0.9230,  0.9230],\n",
       "          [ 0.6078,  0.5553,  0.5553,  ...,  0.6954,  0.7129,  0.8880],\n",
       "          ...,\n",
       "          [-0.3025, -0.3375, -0.3725,  ..., -0.2850, -0.4426, -0.5126],\n",
       "          [-0.5651, -0.4776, -0.4951,  ..., -0.1099, -0.1450, -0.2850],\n",
       "          [-0.3550, -0.3550, -0.3550,  ..., -0.1625, -0.1450, -0.1800]],\n",
       " \n",
       "         [[ 1.0714,  1.0539,  0.9842,  ...,  1.3328,  1.3677,  1.3851],\n",
       "          [ 0.9319,  0.9668,  0.9842,  ...,  1.3328,  1.3502,  1.3328],\n",
       "          [ 1.0191,  0.9668,  0.9842,  ...,  1.1411,  1.1759,  1.3154],\n",
       "          ...,\n",
       "          [-0.9678, -1.0376, -1.0550,  ..., -1.0201, -1.1944, -1.2816],\n",
       "          [-1.2990, -1.2293, -1.2816,  ..., -0.8633, -0.9156, -1.1421],\n",
       "          [-1.2119, -1.2119, -1.2119,  ..., -1.1596, -1.1944, -1.1770]]]),\n",
       " 'y_lb': 0}"
      ]
     },
     "execution_count": 14,
     "metadata": {},
     "output_type": "execute_result"
    }
   ],
   "source": [
    "lb_dset[0]"
   ]
  },
  {
   "cell_type": "code",
   "execution_count": 15,
   "id": "dc418891-e170-4863-9131-dbe03d02bb33",
   "metadata": {},
   "outputs": [],
   "source": [
    "train_lb_loader = get_data_loader(args, dataset_dict['train_lb'], args.batch_size)\n",
    "train_ulb_loader = get_data_loader(args, dataset_dict['train_ulb'], int(args.batch_size * args.uratio))\n",
    "eval_loader = get_data_loader(args, dataset_dict['eval'], args.eval_batch_size)"
   ]
  },
  {
   "cell_type": "code",
   "execution_count": 16,
   "id": "1ee158e8-b186-4d5f-bbf9-045e274c2b9c",
   "metadata": {},
   "outputs": [
    {
     "name": "stdout",
     "output_type": "stream",
     "text": [
      "dict_keys(['idx_lb', 'x_lb', 'y_lb'])\n"
     ]
    }
   ],
   "source": [
    "for x in train_lb_loader:\n",
    "    print(x.keys())\n",
    "    break"
   ]
  },
  {
   "cell_type": "code",
   "execution_count": 17,
   "id": "70cea823-9a5e-4394-9866-3b5cda5de835",
   "metadata": {},
   "outputs": [
    {
     "name": "stdout",
     "output_type": "stream",
     "text": [
      "dict_keys(['idx_lb', 'x_lb', 'y_lb']) dict_keys(['idx_ulb', 'x_ulb_w', 'x_ulb_s'])\n"
     ]
    }
   ],
   "source": [
    "for data_lb, data_ulb in zip(train_lb_loader, train_ulb_loader):\n",
    "    print(data_lb.keys(),data_ulb.keys())\n",
    "    break"
   ]
  },
  {
   "cell_type": "code",
   "execution_count": 18,
   "id": "2a92e871-6d25-438c-af90-930934fc4667",
   "metadata": {},
   "outputs": [],
   "source": [
    "from semilearn.core.utils import get_dataset, get_data_loader, get_optimizer, get_cosine_schedule_with_warmup"
   ]
  },
  {
   "cell_type": "code",
   "execution_count": 19,
   "id": "c7b1bfaa-1d46-4e75-ab8f-66b9f475e5aa",
   "metadata": {},
   "outputs": [],
   "source": [
    "optimizer = get_optimizer(m, args.optim, args.lr, args.momentum, args.weight_decay, args.layer_decay)\n",
    "scheduler = get_cosine_schedule_with_warmup(optimizer,\n",
    "                                            args.num_train_iter,\n",
    "                                            num_warmup_steps=args.num_warmup_iter)"
   ]
  },
  {
   "cell_type": "code",
   "execution_count": 20,
   "id": "01b0fd63-0ba2-47f7-8d45-1893665cb40f",
   "metadata": {},
   "outputs": [],
   "source": [
    "## Train"
   ]
  },
  {
   "cell_type": "code",
   "execution_count": 21,
   "id": "5c42ab2b-799e-4fd9-91d5-33c76e8c0fda",
   "metadata": {},
   "outputs": [],
   "source": [
    "# torch.device('cuda')"
   ]
  },
  {
   "cell_type": "code",
   "execution_count": 22,
   "id": "7d5c5730-d943-4eed-b125-d9d902170917",
   "metadata": {},
   "outputs": [],
   "source": [
    "# data_lb['x_lb'].shape"
   ]
  },
  {
   "cell_type": "code",
   "execution_count": 23,
   "id": "cece56ea-cd6f-4daa-a7ea-4ee4773c23cf",
   "metadata": {},
   "outputs": [],
   "source": [
    "# !export CUDA_LAUNCH_BLOCKING=1"
   ]
  },
  {
   "cell_type": "code",
   "execution_count": 24,
   "id": "af86f37a-bea6-43d7-aeba-faabafeb8c6c",
   "metadata": {},
   "outputs": [
    {
     "name": "stdout",
     "output_type": "stream",
     "text": [
      "cuda:0\n"
     ]
    }
   ],
   "source": [
    "device = torch.device('cuda:0')\n",
    "print(device)\n"
   ]
  },
  {
   "cell_type": "code",
   "execution_count": null,
   "id": "f7696b3c-29d0-465e-baaa-9cb292812f63",
   "metadata": {},
   "outputs": [],
   "source": []
  },
  {
   "cell_type": "code",
   "execution_count": 25,
   "id": "be15d676-42d0-4ce4-aa35-70885bec8edb",
   "metadata": {},
   "outputs": [],
   "source": [
    "loss_ce = torch.nn.CrossEntropyLoss()"
   ]
  },
  {
   "cell_type": "code",
   "execution_count": 28,
   "id": "40666cf4-284f-46c6-bec8-292e2dfbf2a0",
   "metadata": {},
   "outputs": [
    {
     "name": "stderr",
     "output_type": "stream",
     "text": [
      "100%|██████████| 100/100 [04:43<00:00,  2.84s/it]\n"
     ]
    }
   ],
   "source": [
    "\n",
    "# m.to(device)\n",
    "# ema.to(device)\n",
    "m.train()\n",
    "ema.train()\n",
    "def trainer(train_lb_loader, train_ulb_loader,m,epochs=10):\n",
    "    losses = []\n",
    "    steps = []\n",
    "    total_steps = 0\n",
    "    for _ in tqdm(range(100)):\n",
    "        for ind,(data_lb, data_ulb) in enumerate(zip(train_lb_loader, train_ulb_loader)):\n",
    "            x = data_lb['x_lb'].to(device)\n",
    "            y = data_lb['y_lb'].to(device)\n",
    "            optimizer.zero_grad()\n",
    "\n",
    "            out = m(x)\n",
    "            out = out['logits']\n",
    "            loss = loss_ce(out,y)\n",
    "\n",
    "            loss.backward()\n",
    "            optimizer.step()\n",
    "            scheduler.step()\n",
    "            if total_steps%10==0:\n",
    "                with torch.no_grad():\n",
    "                    losses.append(loss.item())\n",
    "                    steps.append(total_steps)\n",
    "                    # print(loss.item())\n",
    "            total_steps+=1\n",
    "            emaA.after_train_step()\n",
    "    return steps,losses\n",
    "\n",
    "steps,losses=trainer(train_lb_loader, train_ulb_loader,m,epochs=10)\n",
    "    "
   ]
  },
  {
   "cell_type": "code",
   "execution_count": 29,
   "id": "81fd66a6-9a63-453e-b44b-f56d9d0e183b",
   "metadata": {},
   "outputs": [],
   "source": [
    "# !python -m torch.utils.collect_env"
   ]
  },
  {
   "cell_type": "code",
   "execution_count": 30,
   "id": "466d8143-3ea1-4920-a2a4-32eed5e026f7",
   "metadata": {},
   "outputs": [],
   "source": [
    "import matplotlib.pyplot as plt"
   ]
  },
  {
   "cell_type": "code",
   "execution_count": 31,
   "id": "4ae7230c-99a3-4c7f-8faa-c6511b506f09",
   "metadata": {},
   "outputs": [
    {
     "data": {
      "text/plain": [
       "[<matplotlib.lines.Line2D at 0x7f0ae3598100>]"
      ]
     },
     "execution_count": 31,
     "metadata": {},
     "output_type": "execute_result"
    },
    {
     "data": {
      "image/png": "[encoded data removed]",
      "text/plain": [
       "<Figure size 640x480 with 1 Axes>"
      ]
     },
     "metadata": {},
     "output_type": "display_data"
    }
   ],
   "source": [
    "plt.plot(steps,losses)"
   ]
  },
  {
   "cell_type": "code",
   "execution_count": 32,
   "id": "4636aeb7-d773-462d-9a0c-6a912321d6f5",
   "metadata": {},
   "outputs": [],
   "source": [
    "def predict(model,ema,data_loader,device, use_ema_model=False, return_gt=False):\n",
    "        model.to(device)\n",
    "        model.eval()\n",
    "\n",
    "        if use_ema_model:\n",
    "            ema.apply_shadow()\n",
    "\n",
    "        y_true = []\n",
    "        y_pred = []\n",
    "        y_logits = []\n",
    "        total_loss = 0.0\n",
    "        total_num = 0.0\n",
    "        with torch.no_grad():\n",
    "            for data in tqdm(data_loader,total=len(data_loader)):\n",
    "                x = data['x_lb']\n",
    "                y = data['y_lb']\n",
    "                num_batch = y.shape[0]\n",
    "                total_num += num_batch\n",
    "                if isinstance(x, dict):\n",
    "                    x = {k: v.cuda(device) for k, v in x.items()}\n",
    "                else:\n",
    "                    x = x.cuda(device)\n",
    "                y = y.cuda(device)\n",
    "\n",
    "                logits = model(x)['logits']\n",
    "                loss = F.cross_entropy(logits, y, reduction='mean')\n",
    "                y_true.extend(y.cpu().tolist())\n",
    "                y_pred.extend(torch.max(logits, dim=-1)[1].cpu().tolist())\n",
    "                y_logits.append(torch.softmax(logits, dim=-1).cpu().numpy())\n",
    "                total_loss += loss.item() * num_batch\n",
    "        y_true = np.array(y_true)\n",
    "        y_pred = np.array(y_pred)\n",
    "        y_logits = np.concatenate(y_logits)\n",
    "        total_loss /= total_num\n",
    "        if use_ema_model:\n",
    "            ema.restore()\n",
    "        model.train()\n",
    "        \n",
    "        if return_gt:\n",
    "            return y_pred, y_logits, y_true, total_loss\n",
    "        else:\n",
    "            return y_pred, y_logits, total_loss"
   ]
  },
  {
   "cell_type": "code",
   "execution_count": 33,
   "id": "6e33e683-953d-47ff-9b6d-06a3fad5f6c3",
   "metadata": {},
   "outputs": [
    {
     "name": "stdout",
     "output_type": "stream",
     "text": [
      "cuda:0\n"
     ]
    }
   ],
   "source": [
    "print(device)"
   ]
  },
  {
   "cell_type": "code",
   "execution_count": 34,
   "id": "4db9dcc4-f897-475e-809b-64fcc31f8f1a",
   "metadata": {},
   "outputs": [],
   "source": [
    "import numpy as np"
   ]
  },
  {
   "cell_type": "code",
   "execution_count": 35,
   "id": "eb2bb5b3-3a96-4ffc-bbcd-94997f1114f0",
   "metadata": {},
   "outputs": [
    {
     "name": "stderr",
     "output_type": "stream",
     "text": [
      "100%|██████████| 50/50 [00:02<00:00, 23.68it/s]\n"
     ]
    }
   ],
   "source": [
    "y_pred, y_logits, y_true, total_loss = predict(m,emaA.ema,eval_loader,device,return_gt=True,use_ema_model=False)"
   ]
  },
  {
   "cell_type": "code",
   "execution_count": 38,
   "id": "c72f2f78-667a-4f33-b3ea-3333cb734687",
   "metadata": {},
   "outputs": [],
   "source": [
    "## Metrics"
   ]
  },
  {
   "cell_type": "code",
   "execution_count": 39,
   "id": "5792d3a4-7a83-45d5-a724-d77aa8aab422",
   "metadata": {},
   "outputs": [],
   "source": [
    "from sklearn.metrics import accuracy_score, balanced_accuracy_score, precision_score, recall_score, f1_score, confusion_matrix\n"
   ]
  },
  {
   "cell_type": "code",
   "execution_count": 40,
   "id": "63906cf8-fc1e-41fa-b898-7f91c205d624",
   "metadata": {},
   "outputs": [
    {
     "name": "stdout",
     "output_type": "stream",
     "text": [
      "40.09900234222412\n"
     ]
    }
   ],
   "source": [
    "# y_true = data_lb['y_lb']\n",
    "# y_pred = data_lb['y_lb']\n",
    "print(total_loss)\n",
    "top1 = accuracy_score(y_true, y_pred)\n",
    "balanced_top1 = balanced_accuracy_score(y_true, y_pred)\n",
    "precision = precision_score(y_true, y_pred, average='macro')\n",
    "recall = recall_score(y_true, y_pred, average='macro')\n",
    "F1 = f1_score(y_true, y_pred, average='macro')\n",
    "cf_mat = confusion_matrix(y_true, y_pred, normalize='true')"
   ]
  },
  {
   "cell_type": "code",
   "execution_count": 41,
   "id": "93bc3694-6cce-4a15-a45f-5f19a3ee4aa1",
   "metadata": {},
   "outputs": [
    {
     "data": {
      "text/plain": [
       "(0.0834375,\n",
       " 0.08483787662315159,\n",
       " 0.06651175904449783,\n",
       " 0.08483787662315159,\n",
       " 0.034964838787514205,\n",
       " array([[0.        , 0.00638978, 0.83386581, 0.00319489, 0.1086262 ,\n",
       "         0.01916933, 0.        , 0.01916933, 0.        , 0.00958466],\n",
       "        [0.        , 0.        , 0.9969419 , 0.        , 0.0030581 ,\n",
       "         0.        , 0.        , 0.        , 0.        , 0.        ],\n",
       "        [0.08571429, 0.00952381, 0.69206349, 0.00952381, 0.03809524,\n",
       "         0.13968254, 0.        , 0.01587302, 0.        , 0.00952381],\n",
       "        [0.03625378, 0.00302115, 0.82477341, 0.00906344, 0.02719033,\n",
       "         0.07250755, 0.        , 0.00906344, 0.00906344, 0.00906344],\n",
       "        [0.10491803, 0.04918033, 0.55409836, 0.01311475, 0.01967213,\n",
       "         0.19344262, 0.        , 0.04262295, 0.00655738, 0.01639344],\n",
       "        [0.01916933, 0.        , 0.7827476 , 0.00319489, 0.05111821,\n",
       "         0.11821086, 0.        , 0.02236422, 0.00319489, 0.        ],\n",
       "        [0.11858974, 0.00961538, 0.70192308, 0.00320513, 0.00320513,\n",
       "         0.125     , 0.        , 0.01282051, 0.00320513, 0.0224359 ],\n",
       "        [0.01602564, 0.        , 0.92948718, 0.00320513, 0.00961538,\n",
       "         0.02884615, 0.        , 0.00641026, 0.00320513, 0.00320513],\n",
       "        [0.00295858, 0.        , 0.9112426 , 0.00295858, 0.0591716 ,\n",
       "         0.00887574, 0.        , 0.00887574, 0.00295858, 0.00295858],\n",
       "        [0.        , 0.        , 0.99101796, 0.        , 0.00299401,\n",
       "         0.00299401, 0.00299401, 0.        , 0.        , 0.        ]]))"
      ]
     },
     "execution_count": 41,
     "metadata": {},
     "output_type": "execute_result"
    }
   ],
   "source": [
    "top1,balanced_top1, precision, recall, F1, cf_mat"
   ]
  },
  {
   "cell_type": "code",
   "execution_count": 42,
   "id": "87710539-0f2f-4897-8c60-d126f9e90cc6",
   "metadata": {},
   "outputs": [],
   "source": [
    "# EMA"
   ]
  },
  {
   "cell_type": "code",
   "execution_count": 43,
   "id": "2b975ef1-9a04-4319-995e-97007923a896",
   "metadata": {},
   "outputs": [
    {
     "name": "stderr",
     "output_type": "stream",
     "text": [
      "100%|██████████| 50/50 [00:02<00:00, 23.56it/s]"
     ]
    },
    {
     "name": "stdout",
     "output_type": "stream",
     "text": [
      "5.8733140563964845\n"
     ]
    },
    {
     "name": "stderr",
     "output_type": "stream",
     "text": [
      "\n"
     ]
    }
   ],
   "source": [
    "y_pred, y_logits, y_true, total_loss = predict(m,emaA.ema,eval_loader,device,return_gt=True,use_ema_model=True)\n",
    "print(total_loss)\n",
    "top1 = accuracy_score(y_true, y_pred)\n",
    "balanced_top1 = balanced_accuracy_score(y_true, y_pred)\n",
    "precision = precision_score(y_true, y_pred, average='macro')\n",
    "recall = recall_score(y_true, y_pred, average='macro')\n",
    "F1 = f1_score(y_true, y_pred, average='macro')\n",
    "cf_mat = confusion_matrix(y_true, y_pred, normalize='true')\n"
   ]
  },
  {
   "cell_type": "code",
   "execution_count": 44,
   "id": "09c50f32-572f-469e-94ff-5993e1de36df",
   "metadata": {},
   "outputs": [
    {
     "data": {
      "text/plain": [
       "(0.0721875,\n",
       " 0.07203717660633867,\n",
       " 0.10675670596571737,\n",
       " 0.07203717660633867,\n",
       " 0.06955822026499106,\n",
       " array([[0.00638978, 0.00638978, 0.15335463, 0.02236422, 0.4313099 ,\n",
       "         0.00319489, 0.        , 0.15974441, 0.04472843, 0.17252396],\n",
       "        [0.00611621, 0.02752294, 0.45565749, 0.05504587, 0.25382263,\n",
       "         0.01834862, 0.0030581 , 0.0795107 , 0.05198777, 0.04892966],\n",
       "        [0.01904762, 0.00952381, 0.13650794, 0.06666667, 0.15238095,\n",
       "         0.02222222, 0.        , 0.05714286, 0.32698413, 0.20952381],\n",
       "        [0.02719033, 0.00302115, 0.17522659, 0.17220544, 0.09365559,\n",
       "         0.02719033, 0.        , 0.07854985, 0.17220544, 0.25075529],\n",
       "        [0.01639344, 0.        , 0.05901639, 0.10491803, 0.03606557,\n",
       "         0.01967213, 0.        , 0.05245902, 0.49508197, 0.21639344],\n",
       "        [0.00958466, 0.01277955, 0.12460064, 0.20447284, 0.07028754,\n",
       "         0.03514377, 0.00319489, 0.08626198, 0.17571885, 0.27795527],\n",
       "        [0.05128205, 0.01602564, 0.12179487, 0.06089744, 0.0224359 ,\n",
       "         0.00961538, 0.        , 0.04166667, 0.5       , 0.17628205],\n",
       "        [0.00320513, 0.00641026, 0.17948718, 0.07692308, 0.19551282,\n",
       "         0.0224359 , 0.        , 0.20192308, 0.13141026, 0.18269231],\n",
       "        [0.        , 0.01183432, 0.21301775, 0.02662722, 0.39349112,\n",
       "         0.01183432, 0.        , 0.15976331, 0.0147929 , 0.16863905],\n",
       "        [0.        , 0.00299401, 0.26646707, 0.02694611, 0.33233533,\n",
       "         0.01497006, 0.00299401, 0.18263473, 0.08083832, 0.08982036]]))"
      ]
     },
     "execution_count": 44,
     "metadata": {},
     "output_type": "execute_result"
    }
   ],
   "source": [
    "top1,balanced_top1, precision, recall, F1, cf_mat"
   ]
  },
  {
   "cell_type": "code",
   "execution_count": null,
   "id": "3b56b183-fd8f-40b3-91af-77f204a9ed8e",
   "metadata": {},
   "outputs": [],
   "source": []
  }
 ],
 "metadata": {
  "kernelspec": {
   "display_name": "usb",
   "language": "python",
   "name": "usb"
  },
  "language_info": {
   "codemirror_mode": {
    "name": "ipython",
    "version": 3
   },
   "file_extension": ".py",
   "mimetype": "text/x-python",
   "name": "python",
   "nbconvert_exporter": "python",
   "pygments_lexer": "ipython3",
   "version": "3.8.13"
  }
 },
 "nbformat": 4,
 "nbformat_minor": 5
}
