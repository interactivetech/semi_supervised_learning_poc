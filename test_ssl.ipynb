{
 "cells": [
  {
   "cell_type": "code",
   "execution_count": 1,
   "id": "60a67bbe-a282-4912-a340-57ccbb611925",
   "metadata": {},
   "outputs": [],
   "source": [
    "%load_ext autoreload\n",
    "%autoreload 2"
   ]
  },
  {
   "cell_type": "code",
   "execution_count": 2,
   "id": "d7fc035f-34f6-431c-ba21-6243686ba076",
   "metadata": {},
   "outputs": [
    {
     "name": "stderr",
     "output_type": "stream",
     "text": [
      "/opt/conda/envs/usb/lib/python3.8/site-packages/tqdm/auto.py:22: TqdmWarning: IProgress not found. Please update jupyter and ipywidgets. See https://ipywidgets.readthedocs.io/en/stable/user_install.html\n",
      "  from .autonotebook import tqdm as notebook_tqdm\n"
     ]
    }
   ],
   "source": [
    "from model import wrn_28_2\n",
    "import torch\n",
    "from tqdm import tqdm\n",
    "import torch.nn.functional as F\n",
    "from ema import EMA,EMADriver, set_ema_model\n",
    "from train import trainer\n",
    "from eval import predict, eval\n",
    "from tqdm import tqdm"
   ]
  },
  {
   "cell_type": "code",
   "execution_count": 3,
   "id": "b38ec1fd-a767-47b6-980a-7ac9d27a219f",
   "metadata": {},
   "outputs": [],
   "source": [
    "m = wrn_28_2(pretrained=False,pretrained_path=None ,num_classes=10)\n",
    "_=m.to('cuda')"
   ]
  },
  {
   "cell_type": "code",
   "execution_count": null,
   "id": "604efc96-932f-4315-8f48-1f7e26c0cb83",
   "metadata": {},
   "outputs": [],
   "source": []
  },
  {
   "cell_type": "code",
   "execution_count": 4,
   "id": "8b9960f0-5a85-43e4-8690-708bb082bf59",
   "metadata": {},
   "outputs": [],
   "source": [
    "# for ind,x in enumerate(m.children()):\n",
    "#     print(ind,x)"
   ]
  },
  {
   "cell_type": "code",
   "execution_count": 5,
   "id": "dd8a8a61-8875-4d15-a4fd-aa2d686f2b40",
   "metadata": {},
   "outputs": [],
   "source": [
    "# !pip install torch"
   ]
  },
  {
   "cell_type": "code",
   "execution_count": 6,
   "id": "ce73b0a8-0796-4abb-b978-a79d00fae578",
   "metadata": {},
   "outputs": [],
   "source": [
    "from semilearn import get_dataset, get_data_loader, get_net_builder, get_algorithm, get_config, Trainer"
   ]
  },
  {
   "cell_type": "code",
   "execution_count": 7,
   "id": "16d21c2c-944a-42b2-abe9-7a96b1672843",
   "metadata": {},
   "outputs": [],
   "source": [
    "# config = {\n",
    "#     'algorithm': 'fixmatch',\n",
    "#     'net': 'wrn_28_2',\n",
    "#     'use_pretrain': False,  # todo: add pretrain\n",
    "#     'pretrain_path': None,\n",
    "\n",
    "#     # optimization configs\n",
    "#     'epoch': 3,\n",
    "#     'num_train_iter': 150,\n",
    "#     'num_eval_iter': 50,\n",
    "#     'optim': 'SGD',\n",
    "#     'lr': 0.03,\n",
    "#     'momentum': 0.9,\n",
    "#     'batch_size': 32,\n",
    "#     'eval_batch_size': 64,\n",
    "\n",
    "#     # dataset configs\n",
    "#     'dataset': 'cifar10',\n",
    "#     'num_labels': 40,\n",
    "#     'num_classes': 10,\n",
    "#     'img_size': 32,\n",
    "#     'crop_ratio': 0.875,\n",
    "#     'data_dir': './data',\n",
    "\n",
    "#     # algorithm specific configs\n",
    "#     'hard_label': True,\n",
    "#     'uratio': 3,\n",
    "#     'ulb_loss_ratio': 1.0,\n",
    "\n",
    "#     # device configs\n",
    "#     'gpu': 0,\n",
    "#     'world_size': 1,\n",
    "#     'distributed': False,\n",
    "# }\n",
    "# config = get_config(config)"
   ]
  },
  {
   "cell_type": "code",
   "execution_count": 8,
   "id": "eb025618-04a0-4a98-b22b-4a93422a013f",
   "metadata": {},
   "outputs": [],
   "source": [
    "# vars(config)"
   ]
  },
  {
   "cell_type": "code",
   "execution_count": 9,
   "id": "03a4274d-6ed9-42f1-b382-862f404250e4",
   "metadata": {},
   "outputs": [],
   "source": [
    "# dataset_dict = get_dataset(config, config.algorithm, config.dataset, config.num_labels, config.num_classes, data_dir=config.data_dir)\n",
    "# train_lb_loader = get_data_loader(config, dataset_dict['train_lb'], config.batch_size)"
   ]
  },
  {
   "cell_type": "code",
   "execution_count": 10,
   "id": "36593d2d-f01e-4650-b376-7a66378ac73f",
   "metadata": {},
   "outputs": [],
   "source": [
    "from semilearn.datasets.cv_datasets import get_cifar\n",
    "import argparse"
   ]
  },
  {
   "cell_type": "code",
   "execution_count": 11,
   "id": "9b11ead7-75b4-45f6-86a4-d26958759656",
   "metadata": {},
   "outputs": [],
   "source": [
    "ema = wrn_28_2(pretrained=False,pretrained_path=None ,num_classes=10)"
   ]
  },
  {
   "cell_type": "code",
   "execution_count": 12,
   "id": "5b1fedbb-b487-4b6b-a009-7b52112220d0",
   "metadata": {},
   "outputs": [],
   "source": [
    "ema = set_ema_model(ema, m)\n",
    "emaA = EMADriver(model=m,ema_model=ema,ema_m=0.999)\n",
    "# emaA = EMADriver(model=m,ema_model=ema,ema_m=0.999)\n",
    "emaA.before_run()"
   ]
  },
  {
   "cell_type": "code",
   "execution_count": 13,
   "id": "7291b35f-d921-47bc-9925-1cee2cafd25a",
   "metadata": {},
   "outputs": [],
   "source": [
    "args_d = {'dataset': 'cifar10',\n",
    "         'num_classes': 10,\n",
    "         'train_sampler': 'RandomSampler',\n",
    "         'num_workers': 8,\n",
    "         'lb_imb_ratio': 1,\n",
    "         'ulb_imb_ratio':1.0,\n",
    "          'batch_size': 32,\n",
    "         'ulb_num_labels': 30,\n",
    "         'img_size': 32,\n",
    "         'crop_ratio': 0.875,\n",
    "         'num_labels': 30,\n",
    "         'seed': 1,\n",
    "         'epoch': 3,\n",
    "         'num_train_iter':150,\n",
    "         'net': 'wrn_28_8',\n",
    "         'optim': 'SGD',\n",
    "         'lr': 0.03,\n",
    "         'momentum': 0.9,\n",
    "         'weight_decay': 0.0005,\n",
    "         'layer_decay': 0.75,\n",
    "          'num_warmup_iter': 0,\n",
    "         'algorithm': 'fixmatch',\n",
    "         'data_dir': './data',\n",
    "         'uratio': 3,\n",
    "         'eval_batch_size': 64}\n",
    "\n",
    "parser = argparse.ArgumentParser(description='Semi-Supervised Learning (USB semilearn package)')\n",
    "args = parser.parse_args(\"\")\n",
    "# args\n",
    "for k in args_d:\n",
    "        setattr(args, k, args_d[k])\n",
    "# lb_dset, ulb_dset, eval_dset = get_cifar(args,\n",
    "#           alg=None, \n",
    "#           name='cifar10',\n",
    "#           num_labels=4000,\n",
    "#           num_classes=10,\n",
    "#           data_dir='./data',\n",
    "#           include_lb_to_ulb=True)"
   ]
  },
  {
   "cell_type": "code",
   "execution_count": 14,
   "id": "b305cd1d-fc8f-4c7e-be5c-6cca8f529eee",
   "metadata": {},
   "outputs": [
    {
     "name": "stdout",
     "output_type": "stream",
     "text": [
      "Files already downloaded and verified\n",
      "lb count: [3, 3, 3, 3, 3, 3, 3, 3, 3, 3]\n",
      "ulb count: [3, 3, 3, 3, 3, 3, 3, 3, 3, 3]\n",
      "Files already downloaded and verified\n"
     ]
    }
   ],
   "source": [
    "dataset_dict = get_dataset(args, \n",
    "                           args.algorithm, \n",
    "                           args.dataset, \n",
    "                           args.num_labels, \n",
    "                           args.num_classes, \n",
    "                           data_dir=args.data_dir,\n",
    "                          include_lb_to_ulb=False)\n",
    "train_lb_loader = get_data_loader(args, dataset_dict['train_lb'], args.batch_size)"
   ]
  },
  {
   "cell_type": "code",
   "execution_count": 15,
   "id": "b84df2d6-66b2-4a5f-bb6c-1f072f98d4e0",
   "metadata": {},
   "outputs": [],
   "source": [
    "# dataset_dict['train_lb'].idx"
   ]
  },
  {
   "cell_type": "code",
   "execution_count": 16,
   "id": "dec3bd12-689f-4057-99e7-cc1e973b047b",
   "metadata": {},
   "outputs": [],
   "source": [
    "# lb_dset[0]"
   ]
  },
  {
   "cell_type": "code",
   "execution_count": 17,
   "id": "dc418891-e170-4863-9131-dbe03d02bb33",
   "metadata": {},
   "outputs": [],
   "source": [
    "train_lb_loader = get_data_loader(args, dataset_dict['train_lb'], args.batch_size)\n",
    "train_ulb_loader = get_data_loader(args, dataset_dict['train_ulb'], int(args.batch_size * args.uratio))\n",
    "eval_loader = get_data_loader(args, dataset_dict['eval'], args.eval_batch_size)"
   ]
  },
  {
   "cell_type": "code",
   "execution_count": 18,
   "id": "1ee158e8-b186-4d5f-bbf9-045e274c2b9c",
   "metadata": {},
   "outputs": [
    {
     "name": "stdout",
     "output_type": "stream",
     "text": [
      "dict_keys(['idx_lb', 'x_lb', 'y_lb'])\n"
     ]
    }
   ],
   "source": [
    "for x in train_lb_loader:\n",
    "    print(x.keys())\n",
    "    break"
   ]
  },
  {
   "cell_type": "code",
   "execution_count": 19,
   "id": "70cea823-9a5e-4394-9866-3b5cda5de835",
   "metadata": {},
   "outputs": [
    {
     "name": "stdout",
     "output_type": "stream",
     "text": [
      "dict_keys(['idx_lb', 'x_lb', 'y_lb']) dict_keys(['idx_ulb', 'x_ulb_w', 'x_ulb_s'])\n"
     ]
    }
   ],
   "source": [
    "for data_lb, data_ulb in zip(train_lb_loader, train_ulb_loader):\n",
    "    print(data_lb.keys(),data_ulb.keys())\n",
    "    break"
   ]
  },
  {
   "cell_type": "code",
   "execution_count": 20,
   "id": "2a92e871-6d25-438c-af90-930934fc4667",
   "metadata": {},
   "outputs": [],
   "source": [
    "from semilearn.core.utils import get_dataset, get_data_loader, get_optimizer, get_cosine_schedule_with_warmup"
   ]
  },
  {
   "cell_type": "code",
   "execution_count": 21,
   "id": "c7b1bfaa-1d46-4e75-ab8f-66b9f475e5aa",
   "metadata": {},
   "outputs": [],
   "source": [
    "optimizer = get_optimizer(m, args.optim, args.lr, args.momentum, args.weight_decay, args.layer_decay)\n",
    "scheduler = get_cosine_schedule_with_warmup(optimizer,\n",
    "                                            args.num_train_iter,\n",
    "                                            num_warmup_steps=args.num_warmup_iter)"
   ]
  },
  {
   "cell_type": "code",
   "execution_count": 22,
   "id": "01b0fd63-0ba2-47f7-8d45-1893665cb40f",
   "metadata": {},
   "outputs": [],
   "source": [
    "## Train"
   ]
  },
  {
   "cell_type": "code",
   "execution_count": 23,
   "id": "5c42ab2b-799e-4fd9-91d5-33c76e8c0fda",
   "metadata": {},
   "outputs": [],
   "source": [
    "# torch.device('cuda')"
   ]
  },
  {
   "cell_type": "code",
   "execution_count": 24,
   "id": "7d5c5730-d943-4eed-b125-d9d902170917",
   "metadata": {},
   "outputs": [],
   "source": [
    "# data_lb['x_lb'].shape"
   ]
  },
  {
   "cell_type": "code",
   "execution_count": 25,
   "id": "cece56ea-cd6f-4daa-a7ea-4ee4773c23cf",
   "metadata": {},
   "outputs": [],
   "source": [
    "# !export CUDA_LAUNCH_BLOCKING=1"
   ]
  },
  {
   "cell_type": "code",
   "execution_count": 26,
   "id": "af86f37a-bea6-43d7-aeba-faabafeb8c6c",
   "metadata": {},
   "outputs": [
    {
     "name": "stdout",
     "output_type": "stream",
     "text": [
      "cuda:0\n"
     ]
    }
   ],
   "source": [
    "device = torch.device('cuda:0')\n",
    "print(device)\n"
   ]
  },
  {
   "cell_type": "code",
   "execution_count": null,
   "id": "f7696b3c-29d0-465e-baaa-9cb292812f63",
   "metadata": {},
   "outputs": [],
   "source": []
  },
  {
   "cell_type": "code",
   "execution_count": 27,
   "id": "be15d676-42d0-4ce4-aa35-70885bec8edb",
   "metadata": {},
   "outputs": [],
   "source": [
    "loss_ce = torch.nn.CrossEntropyLoss()"
   ]
  },
  {
   "cell_type": "code",
   "execution_count": 28,
   "id": "40666cf4-284f-46c6-bec8-292e2dfbf2a0",
   "metadata": {},
   "outputs": [
    {
     "name": "stderr",
     "output_type": "stream",
     "text": [
      "100%|██████████| 10/10 [00:57<00:00,  5.75s/it]\n"
     ]
    }
   ],
   "source": [
    "\n",
    "\n",
    "# m.train()\n",
    "# ema.train()\n",
    "\n",
    "\n",
    "steps,losses=trainer(train_lb_loader,\n",
    "                     m,\n",
    "                     emaA,\n",
    "                     loss_ce,\n",
    "                     scheduler, \n",
    "                     optimizer,\n",
    "                     train_ulb_loader,\n",
    "                     device,epochs=10)\n",
    "    "
   ]
  },
  {
   "cell_type": "code",
   "execution_count": 29,
   "id": "81fd66a6-9a63-453e-b44b-f56d9d0e183b",
   "metadata": {},
   "outputs": [],
   "source": [
    "# !python -m torch.utils.collect_env"
   ]
  },
  {
   "cell_type": "code",
   "execution_count": 30,
   "id": "466d8143-3ea1-4920-a2a4-32eed5e026f7",
   "metadata": {},
   "outputs": [],
   "source": [
    "import matplotlib.pyplot as plt"
   ]
  },
  {
   "cell_type": "code",
   "execution_count": 31,
   "id": "4ae7230c-99a3-4c7f-8faa-c6511b506f09",
   "metadata": {},
   "outputs": [
    {
     "data": {
      "text/plain": [
       "[<matplotlib.lines.Line2D at 0x7f675f3357f0>]"
      ]
     },
     "execution_count": 31,
     "metadata": {},
     "output_type": "execute_result"
    },
    {
     "data": {
      "image/png": "[encoded data removed]",
      "text/plain": [
       "<Figure size 640x480 with 1 Axes>"
      ]
     },
     "metadata": {},
     "output_type": "display_data"
    }
   ],
   "source": [
    "plt.plot(steps,losses)"
   ]
  },
  {
   "cell_type": "code",
   "execution_count": 32,
   "id": "4636aeb7-d773-462d-9a0c-6a912321d6f5",
   "metadata": {},
   "outputs": [],
   "source": [
    "# import torch.nn.functional as F"
   ]
  },
  {
   "cell_type": "code",
   "execution_count": 33,
   "id": "6e33e683-953d-47ff-9b6d-06a3fad5f6c3",
   "metadata": {},
   "outputs": [
    {
     "name": "stdout",
     "output_type": "stream",
     "text": [
      "cuda:0\n"
     ]
    }
   ],
   "source": [
    "print(device)"
   ]
  },
  {
   "cell_type": "code",
   "execution_count": 34,
   "id": "4db9dcc4-f897-475e-809b-64fcc31f8f1a",
   "metadata": {},
   "outputs": [],
   "source": [
    "import numpy as np"
   ]
  },
  {
   "cell_type": "code",
   "execution_count": 35,
   "id": "eb2bb5b3-3a96-4ffc-bbcd-94997f1114f0",
   "metadata": {},
   "outputs": [
    {
     "name": "stderr",
     "output_type": "stream",
     "text": [
      "100%|██████████| 50/50 [00:01<00:00, 25.33it/s]\n"
     ]
    }
   ],
   "source": [
    "y_pred, y_logits, y_true, total_loss = predict(m,emaA.ema,eval_loader,device,return_gt=True,use_ema_model=False)"
   ]
  },
  {
   "cell_type": "code",
   "execution_count": 36,
   "id": "c72f2f78-667a-4f33-b3ea-3333cb734687",
   "metadata": {},
   "outputs": [],
   "source": [
    "## Metrics"
   ]
  },
  {
   "cell_type": "code",
   "execution_count": null,
   "id": "5792d3a4-7a83-45d5-a724-d77aa8aab422",
   "metadata": {},
   "outputs": [],
   "source": []
  },
  {
   "cell_type": "code",
   "execution_count": 37,
   "id": "63906cf8-fc1e-41fa-b898-7f91c205d624",
   "metadata": {},
   "outputs": [
    {
     "name": "stdout",
     "output_type": "stream",
     "text": [
      "9.42121774673462\n"
     ]
    }
   ],
   "source": [
    "# y_true = data_lb['y_lb']\n",
    "# y_pred = data_lb['y_lb']\n",
    "print(total_loss)\n"
   ]
  },
  {
   "cell_type": "code",
   "execution_count": 38,
   "id": "93bc3694-6cce-4a15-a45f-5f19a3ee4aa1",
   "metadata": {},
   "outputs": [
    {
     "name": "stderr",
     "output_type": "stream",
     "text": [
      "100%|██████████| 50/50 [00:01<00:00, 25.26it/s]\n",
      "/opt/conda/envs/usb/lib/python3.8/site-packages/sklearn/metrics/_classification.py:1334: UndefinedMetricWarning: Precision is ill-defined and being set to 0.0 in labels with no predicted samples. Use `zero_division` parameter to control this behavior.\n",
      "  _warn_prf(average, modifier, msg_start, len(result))\n"
     ]
    }
   ],
   "source": [
    "top1,balanced_top1, precision, recall, F1, cf_mat  = eval(m,emaA.ema,eval_loader,device,return_gt=True,use_ema_model=False)\n",
    "top1,balanced_top1, precision, recall, F1, cf_mat\n",
    "no_ema = {\n",
    "    'top1':top1,\n",
    "    'balanced_top1':balanced_top1,\n",
    "    'precision':precision,\n",
    "    'recall':recall,\n",
    "    'F1':F1,\n",
    "    'cf_mat':cf_mat\n",
    "}"
   ]
  },
  {
   "cell_type": "code",
   "execution_count": 39,
   "id": "87710539-0f2f-4897-8c60-d126f9e90cc6",
   "metadata": {},
   "outputs": [],
   "source": [
    "# EMA"
   ]
  },
  {
   "cell_type": "code",
   "execution_count": 40,
   "id": "2b975ef1-9a04-4319-995e-97007923a896",
   "metadata": {},
   "outputs": [
    {
     "name": "stderr",
     "output_type": "stream",
     "text": [
      "100%|██████████| 50/50 [00:01<00:00, 25.13it/s]\n",
      "/opt/conda/envs/usb/lib/python3.8/site-packages/sklearn/metrics/_classification.py:1334: UndefinedMetricWarning: Precision is ill-defined and being set to 0.0 in labels with no predicted samples. Use `zero_division` parameter to control this behavior.\n",
      "  _warn_prf(average, modifier, msg_start, len(result))\n"
     ]
    }
   ],
   "source": [
    "top1,balanced_top1, precision, recall, F1, cf_mat  = eval(m,emaA.ema,eval_loader,device,return_gt=True,use_ema_model=True)\n",
    "ema = {\n",
    "    'top1':top1,\n",
    "    'balanced_top1':balanced_top1,\n",
    "    'precision':precision,\n",
    "    'recall':recall,\n",
    "    'F1':F1,\n",
    "    'cf_mat':cf_mat\n",
    "}"
   ]
  },
  {
   "cell_type": "code",
   "execution_count": 41,
   "id": "09c50f32-572f-469e-94ff-5993e1de36df",
   "metadata": {},
   "outputs": [],
   "source": [
    "# top1,balanced_top1, precision, recall, F1, cf_mat"
   ]
  },
  {
   "cell_type": "code",
   "execution_count": 42,
   "id": "3b56b183-fd8f-40b3-91af-77f204a9ed8e",
   "metadata": {},
   "outputs": [
    {
     "name": "stdout",
     "output_type": "stream",
     "text": [
      "top1 0.1175 0.140625\n"
     ]
    },
    {
     "data": {
      "image/png": "[encoded data removed]",
      "text/plain": [
       "<Figure size 640x480 with 1 Axes>"
      ]
     },
     "metadata": {},
     "output_type": "display_data"
    },
    {
     "name": "stdout",
     "output_type": "stream",
     "text": [
      "balanced_top1 0.11981542178117391 0.13993435790634948\n"
     ]
    },
    {
     "data": {
      "image/png": "[encoded data removed]",
      "text/plain": [
       "<Figure size 640x480 with 1 Axes>"
      ]
     },
     "metadata": {},
     "output_type": "display_data"
    },
    {
     "name": "stdout",
     "output_type": "stream",
     "text": [
      "precision 0.1192666220335499 0.16544232834570652\n"
     ]
    },
    {
     "data": {
      "image/png": "[encoded data removed]",
      "text/plain": [
       "<Figure size 640x480 with 1 Axes>"
      ]
     },
     "metadata": {},
     "output_type": "display_data"
    },
    {
     "name": "stdout",
     "output_type": "stream",
     "text": [
      "recall 0.11981542178117391 0.13993435790634948\n"
     ]
    },
    {
     "data": {
      "image/png": "[encoded data removed]",
      "text/plain": [
       "<Figure size 640x480 with 1 Axes>"
      ]
     },
     "metadata": {},
     "output_type": "display_data"
    },
    {
     "name": "stdout",
     "output_type": "stream",
     "text": [
      "F1 0.06397764515145091 0.11063476178513665\n"
     ]
    },
    {
     "data": {
      "image/png": "[encoded data removed]",
      "text/plain": [
       "<Figure size 640x480 with 1 Axes>"
      ]
     },
     "metadata": {},
     "output_type": "display_data"
    }
   ],
   "source": [
    "for k in ema.keys():\n",
    "    if k!='cf_mat':\n",
    "        print(k,no_ema[k],ema[k])\n",
    "        plt.bar(['no_ema','ema'],[no_ema[k],ema[k]])\n",
    "        plt.title(\"{} No EMA vs EMA\".format(k))\n",
    "        plt.show()"
   ]
  },
  {
   "cell_type": "code",
   "execution_count": 43,
   "id": "3611fd86-e9b1-47a2-99f6-a1b35c222e12",
   "metadata": {},
   "outputs": [],
   "source": [
    "# Misc"
   ]
  },
  {
   "cell_type": "code",
   "execution_count": 44,
   "id": "92c36dc0-8deb-4091-80dc-89f6ef1eea71",
   "metadata": {},
   "outputs": [],
   "source": [
    "from flexmatch import PseudoLabelingHook"
   ]
  },
  {
   "cell_type": "code",
   "execution_count": 45,
   "id": "e9cc42ad-bb36-45ab-b978-c76cb9b625ad",
   "metadata": {},
   "outputs": [],
   "source": [
    "p = PseudoLabelingHook()"
   ]
  },
  {
   "cell_type": "code",
   "execution_count": 46,
   "id": "689b0b46-83a3-4b83-b06e-469ba14d173a",
   "metadata": {},
   "outputs": [],
   "source": [
    "import torch"
   ]
  },
  {
   "cell_type": "code",
   "execution_count": 47,
   "id": "dd5ac8bd-6c59-4c81-8ff1-39d3b927365a",
   "metadata": {},
   "outputs": [
    {
     "data": {
      "text/plain": [
       "0.011111111111111112"
      ]
     },
     "execution_count": 47,
     "metadata": {},
     "output_type": "execute_result"
    }
   ],
   "source": [
    "import math\n",
    "math.exp(math.log(1/90.))"
   ]
  },
  {
   "cell_type": "code",
   "execution_count": 48,
   "id": "5017802a-67db-4774-9e75-5463eca08102",
   "metadata": {},
   "outputs": [
    {
     "data": {
      "text/plain": [
       "torch.Size([1, 2])"
      ]
     },
     "execution_count": 48,
     "metadata": {},
     "output_type": "execute_result"
    }
   ],
   "source": [
    "# logit_test = torch.Tensor([0.9,1/90.,1/90.,1/90.,1/90.,1/90.,1/90.,1/90.,1/90.,1/90.])\n",
    "# logit_test = torch.Tensor([math.log(0.9),\n",
    "#                            math.log(1/90.),\n",
    "#                            math.log(1/90.),\n",
    "#                            math.log(1/90.),\n",
    "#                            math.log(1/90.),\n",
    "#                            math.log(1/90.),\n",
    "#                            math.log(1/90.),\n",
    "#                            math.log(1/90.),\n",
    "#                            math.log(1/90.),\n",
    "#                            math.log(1/90.)]).reshape(1,-1)# Need to be at least 2 dimensional\n",
    "logit_test = torch.Tensor([math.log(0.9),\n",
    "                           math.log(0.1)]).reshape(1,-1)# Need to be at least 2 dimensional\n",
    "logit_test.shape"
   ]
  },
  {
   "cell_type": "code",
   "execution_count": 51,
   "id": "f1f0b5e9-4bde-469e-a0b8-f3db41ea2489",
   "metadata": {},
   "outputs": [
    {
     "data": {
      "text/plain": [
       "-0.10536051565782628"
      ]
     },
     "execution_count": 49,
     "metadata": {},
     "output_type": "execute_result"
    }
   ],
   "source": [
    "math.log(0.9)"
   ]
  },
  {
   "cell_type": "code",
   "execution_count": 54,
   "id": "0ad8d3cb-5b7d-4861-9b55-26654ebd7e05",
   "metadata": {},
   "outputs": [
    {
     "data": {
      "text/plain": [
       "-2.3025850929940455"
      ]
     },
     "execution_count": 50,
     "metadata": {},
     "output_type": "execute_result"
    }
   ],
   "source": [
    "math.log(0.1)"
   ]
  },
  {
   "cell_type": "code",
   "execution_count": 52,
   "id": "f2d4f2fa-e103-44ab-9840-01324952a740",
   "metadata": {},
   "outputs": [
    {
     "data": {
      "text/plain": [
       "-4.499809670330265"
      ]
     },
     "execution_count": 51,
     "metadata": {},
     "output_type": "execute_result"
    }
   ],
   "source": [
    "math.log(1/90.)"
   ]
  },
  {
   "cell_type": "code",
   "execution_count": 53,
   "id": "41f242fe-f517-412e-88d4-ccde0245918b",
   "metadata": {},
   "outputs": [
    {
     "data": {
      "text/plain": [
       "-2.995732273553991"
      ]
     },
     "execution_count": 52,
     "metadata": {},
     "output_type": "execute_result"
    }
   ],
   "source": [
    "math.log(0.1/2.)\n"
   ]
  },
  {
   "cell_type": "code",
   "execution_count": 43,
   "id": "84097825-9bba-4447-a7c7-e68b2dc198b8",
   "metadata": {},
   "outputs": [
    {
     "data": {
      "text/plain": [
       "tensor([[0.9000, 0.0111, 0.0111, 0.0111, 0.0111, 0.0111, 0.0111, 0.0111, 0.0111,\n",
       "         0.0111]])"
      ]
     },
     "execution_count": 43,
     "metadata": {},
     "output_type": "execute_result"
    }
   ],
   "source": [
    "torch.softmax(logit_test,dim=-1)"
   ]
  },
  {
   "cell_type": "code",
   "execution_count": 68,
   "id": "56131ab0-f805-4d73-8eb6-2c45b58aeac2",
   "metadata": {},
   "outputs": [
    {
     "name": "stdout",
     "output_type": "stream",
     "text": [
      "tensor([[-0.1054, -2.3026]])\n"
     ]
    },
    {
     "data": {
      "text/plain": [
       "tensor([[0.9900, 0.0100]])"
      ]
     },
     "execution_count": 68,
     "metadata": {},
     "output_type": "execute_result"
    }
   ],
   "source": [
    "print(logit_test)\n",
    "p.gen_ulb_targets(logits=logit_test,\n",
    "                  use_hard_label=True, \n",
    "                  T=1.0,\n",
    "                  softmax=True, # whether to compute softmax for logits, input must be logits\n",
    "                  label_smoothing=0.01)"
   ]
  },
  {
   "cell_type": "code",
   "execution_count": 101,
   "id": "85134c99-d2c4-45d9-84e4-55f4943bb05d",
   "metadata": {},
   "outputs": [
    {
     "name": "stdout",
     "output_type": "stream",
     "text": [
      "tensor(8.7715e-10)\n",
      "tensor(1.)\n"
     ]
    }
   ],
   "source": [
    "res = p.gen_ulb_targets(logits=logit_test,\n",
    "                  use_hard_label=False, \n",
    "                  T=math.log(0.9),\n",
    "                  softmax=True, # whether to compute softmax for logits, input must be logits\n",
    "                  label_smoothing=0.01)\n",
    "for i in res[0]:\n",
    "    print(i)"
   ]
  },
  {
   "cell_type": "code",
   "execution_count": 102,
   "id": "1c5eedaf-5c57-4eb4-b295-a9cb71aaef20",
   "metadata": {},
   "outputs": [],
   "source": [
    "# Flexmatch masking"
   ]
  },
  {
   "cell_type": "code",
   "execution_count": 50,
   "id": "9033777c-700d-484d-86d3-a30abaf65bc6",
   "metadata": {},
   "outputs": [
    {
     "name": "stdout",
     "output_type": "stream",
     "text": [
      "dict_keys(['idx_ulb', 'x_ulb_w', 'x_ulb_s'])\n",
      "torch.Size([96, 3, 32, 32])\n",
      "torch.Size([96, 3, 32, 32])\n",
      "dict_keys(['idx_ulb', 'x_ulb_w', 'x_ulb_s'])\n",
      "torch.Size([96, 3, 32, 32])\n",
      "torch.Size([96, 3, 32, 32])\n",
      "dict_keys(['idx_ulb', 'x_ulb_w', 'x_ulb_s'])\n",
      "torch.Size([96, 3, 32, 32])\n",
      "torch.Size([96, 3, 32, 32])\n",
      "dict_keys(['idx_ulb', 'x_ulb_w', 'x_ulb_s'])\n",
      "torch.Size([96, 3, 32, 32])\n",
      "torch.Size([96, 3, 32, 32])\n",
      "dict_keys(['idx_ulb', 'x_ulb_w', 'x_ulb_s'])\n",
      "torch.Size([96, 3, 32, 32])\n",
      "torch.Size([96, 3, 32, 32])\n"
     ]
    }
   ],
   "source": [
    "for ind,(data_lb, data_ulb) in enumerate(zip(train_lb_loader, train_ulb_loader)):\n",
    "    print(data_ulb.keys())\n",
    "    idx_ulb = data_ulb['idx_ulb'].to(device)\n",
    "    x_ulb_w = data_ulb['x_ulb_w'].to(device)\n",
    "    x_ulb_s = data_ulb['x_ulb_s'].to(device)\n",
    "    with torch.no_grad():\n",
    "        out = m(x_ulb_w)\n",
    "        out = out['logits']\n",
    "    # print(idx_ulb)\n",
    "    print(x_ulb_w.shape)\n",
    "    print(x_ulb_s.shape)\n",
    "    if ind>3:\n",
    "        break"
   ]
  },
  {
   "cell_type": "code",
   "execution_count": 53,
   "id": "5f229b15-bc3b-4f0a-a79c-eebba57ad1eb",
   "metadata": {},
   "outputs": [],
   "source": [
    "from flexmatch import FlexMatchThresholdingHook"
   ]
  },
  {
   "cell_type": "code",
   "execution_count": 56,
   "id": "6c9d190b-4641-480f-b5e8-15ca838d87aa",
   "metadata": {},
   "outputs": [],
   "source": [
    "T=0.5\n",
    "thresh_warmup=True\n",
    "p_cutoff=0.95\n",
    "t = FlexMatchThresholdingHook(ulb_dest_len=len(dataset_dict['train_ulb']),\n",
    "                              T=T,\n",
    "                              p_cutoff=p_cutoff,\n",
    "                              num_classes=10,\n",
    "                              thresh_warmup=thresh_warmup)"
   ]
  },
  {
   "cell_type": "code",
   "execution_count": 57,
   "id": "6eab9cb6-b68e-4ab2-9143-dbd4627fb164",
   "metadata": {},
   "outputs": [],
   "source": [
    "# t.p_cutoff"
   ]
  },
  {
   "cell_type": "code",
   "execution_count": 58,
   "id": "b178e200-96d9-4920-9a72-8cd444ddf1e4",
   "metadata": {},
   "outputs": [
    {
     "data": {
      "text/plain": [
       "tensor([1., 1., 1., 1., 1., 1., 1., 1., 1., 1., 1., 1., 1., 1., 1., 1., 1., 1.,\n",
       "        1., 1., 1., 1., 1., 1., 1., 1., 1., 1., 1., 1., 1., 1., 1., 1., 1., 1.,\n",
       "        1., 1., 1., 1., 1., 1., 1., 1., 1., 1., 1., 1., 1., 1., 1., 1., 1., 1.,\n",
       "        1., 1., 1., 1., 1., 1., 1., 1., 1., 1., 1., 1., 1., 1., 1., 1., 1., 1.,\n",
       "        1., 1., 1., 1., 1., 1., 1., 1., 1., 1., 1., 1., 1., 1., 1., 1., 1., 1.,\n",
       "        1., 1., 1., 1., 1., 1.], device='cuda:0')"
      ]
     },
     "execution_count": 58,
     "metadata": {},
     "output_type": "execute_result"
    }
   ],
   "source": [
    "t.masking( out, idx_ulb, softmax_x_ulb=True)"
   ]
  },
  {
   "cell_type": "code",
   "execution_count": 59,
   "id": "9379ec88-e32a-478f-a93b-b8cc7a67761f",
   "metadata": {},
   "outputs": [
    {
     "data": {
      "text/plain": [
       "30"
      ]
     },
     "execution_count": 59,
     "metadata": {},
     "output_type": "execute_result"
    }
   ],
   "source": [
    "len(dataset_dict['train_ulb'])"
   ]
  },
  {
   "cell_type": "code",
   "execution_count": 60,
   "id": "e4de80a0-b8d3-447c-803a-893589e548a1",
   "metadata": {},
   "outputs": [],
   "source": [
    "#FlexMatch"
   ]
  },
  {
   "cell_type": "code",
   "execution_count": 101,
   "id": "392b30ec-e76a-4234-bda0-0086dfa301f7",
   "metadata": {},
   "outputs": [],
   "source": [
    "from flexmatch import FlexMatch"
   ]
  },
  {
   "cell_type": "code",
   "execution_count": 102,
   "id": "a6fc5a8d-1f14-482c-96e8-7597937f7247",
   "metadata": {},
   "outputs": [],
   "source": [
    "f = FlexMatch(T, \n",
    "             p_cutoff, \n",
    "             ulb_dest_len=len(dataset_dict['train_ulb']),\n",
    "             num_classes=10,\n",
    "             model=m)"
   ]
  },
  {
   "cell_type": "code",
   "execution_count": 103,
   "id": "74a0f253-4b21-47ee-84a0-a37f564d0277",
   "metadata": {},
   "outputs": [],
   "source": [
    "# f.train_step()"
   ]
  },
  {
   "cell_type": "code",
   "execution_count": 104,
   "id": "f290a959-18ad-49f0-b507-540efafa3a75",
   "metadata": {},
   "outputs": [
    {
     "name": "stdout",
     "output_type": "stream",
     "text": [
      "dict_keys(['idx_lb', 'x_lb', 'y_lb'])\n",
      "{'train/sup_loss': 0.10724622011184692, 'train/unsup_loss': 4.223443984985352, 'train/total_loss': 4.330690383911133, 'train/mask_ratio': 1.0}\n"
     ]
    }
   ],
   "source": [
    "for ind,(data_lb, data_ulb) in enumerate(zip(train_lb_loader, train_ulb_loader)):\n",
    "    print(data_lb.keys())\n",
    "    idx_lb = data_lb['idx_lb'].to(device)\n",
    "    x_lb = data_lb['x_lb'].to(device)\n",
    "    y_lb = data_lb['y_lb'].to(device)\n",
    "    idx_ulb = data_ulb['idx_ulb'].to(device)\n",
    "    x_ulb_w = data_ulb['x_ulb_w'].to(device)\n",
    "    x_ulb_s = data_ulb['x_ulb_s'].to(device)\n",
    "    loss = f.train_step( x_lb, y_lb, idx_ulb, x_ulb_w, x_ulb_s)\n",
    "    print(loss)\n",
    "    break"
   ]
  },
  {
   "cell_type": "code",
   "execution_count": null,
   "id": "6e950a68-ae60-41d0-adad-16f96d211199",
   "metadata": {},
   "outputs": [],
   "source": []
  }
 ],
 "metadata": {
  "kernelspec": {
   "display_name": "usb",
   "language": "python",
   "name": "usb"
  },
  "language_info": {
   "codemirror_mode": {
    "name": "ipython",
    "version": 3
   },
   "file_extension": ".py",
   "mimetype": "text/x-python",
   "name": "python",
   "nbconvert_exporter": "python",
   "pygments_lexer": "ipython3",
   "version": "3.8.13"
  }
 },
 "nbformat": 4,
 "nbformat_minor": 5
}
