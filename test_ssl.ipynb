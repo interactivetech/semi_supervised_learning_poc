{
 "cells": [
  {
   "cell_type": "code",
   "execution_count": 1,
   "id": "d7fc035f-34f6-431c-ba21-6243686ba076",
   "metadata": {},
   "outputs": [
    {
     "name": "stderr",
     "output_type": "stream",
     "text": [
      "/opt/conda/envs/usb/lib/python3.8/site-packages/tqdm/auto.py:22: TqdmWarning: IProgress not found. Please update jupyter and ipywidgets. See https://ipywidgets.readthedocs.io/en/stable/user_install.html\n",
      "  from .autonotebook import tqdm as notebook_tqdm\n"
     ]
    }
   ],
   "source": [
    "from model import wrn_28_2\n",
    "import torch\n",
    "from tqdm import tqdm"
   ]
  },
  {
   "cell_type": "code",
   "execution_count": 2,
   "id": "b38ec1fd-a767-47b6-980a-7ac9d27a219f",
   "metadata": {},
   "outputs": [],
   "source": [
    "m = wrn_28_2(pretrained=False,pretrained_path=None ,num_classes=10)"
   ]
  },
  {
   "cell_type": "code",
   "execution_count": 3,
   "id": "604efc96-932f-4315-8f48-1f7e26c0cb83",
   "metadata": {},
   "outputs": [],
   "source": [
    "# import torch.nn as nn\n",
    "# import torch.nn.functional as F\n",
    "\n",
    "\n",
    "# class Net(nn.Module):\n",
    "#     def __init__(self):\n",
    "#         super().__init__()\n",
    "#         self.conv1 = nn.Conv2d(3, 6, 5)\n",
    "#         self.pool = nn.MaxPool2d(2, 2)\n",
    "#         self.conv2 = nn.Conv2d(6, 16, 5)\n",
    "#         self.fc1 = nn.Linear(16 * 5 * 5, 120)\n",
    "#         self.fc2 = nn.Linear(120, 84)\n",
    "#         self.fc3 = nn.Linear(84, 10)\n",
    "\n",
    "#     def forward(self, x):\n",
    "#         x = self.pool(F.relu(self.conv1(x)))\n",
    "#         x = self.pool(F.relu(self.conv2(x)))\n",
    "#         x = torch.flatten(x, 1) # flatten all dimensions except batch\n",
    "#         x = F.relu(self.fc1(x))\n",
    "#         x = F.relu(self.fc2(x))\n",
    "#         x = self.fc3(x)\n",
    "#         return x\n",
    "\n",
    "\n",
    "# m = Net()"
   ]
  },
  {
   "cell_type": "code",
   "execution_count": 4,
   "id": "8b9960f0-5a85-43e4-8690-708bb082bf59",
   "metadata": {},
   "outputs": [
    {
     "name": "stdout",
     "output_type": "stream",
     "text": [
      "0 Conv2d(3, 16, kernel_size=(3, 3), stride=(1, 1), padding=(1, 1))\n",
      "1 NetworkBlock(\n",
      "  (layer): Sequential(\n",
      "    (0): BasicBlock(\n",
      "      (bn1): BatchNorm2d(16, eps=0.001, momentum=0.001, affine=True, track_running_stats=True)\n",
      "      (relu1): LeakyReLU(negative_slope=0.1)\n",
      "      (conv1): Conv2d(16, 32, kernel_size=(3, 3), stride=(1, 1), padding=(1, 1))\n",
      "      (bn2): BatchNorm2d(32, eps=0.001, momentum=0.001, affine=True, track_running_stats=True)\n",
      "      (relu2): LeakyReLU(negative_slope=0.1)\n",
      "      (conv2): Conv2d(32, 32, kernel_size=(3, 3), stride=(1, 1), padding=(1, 1))\n",
      "      (convShortcut): Conv2d(16, 32, kernel_size=(1, 1), stride=(1, 1))\n",
      "    )\n",
      "    (1): BasicBlock(\n",
      "      (bn1): BatchNorm2d(32, eps=0.001, momentum=0.001, affine=True, track_running_stats=True)\n",
      "      (relu1): LeakyReLU(negative_slope=0.1)\n",
      "      (conv1): Conv2d(32, 32, kernel_size=(3, 3), stride=(1, 1), padding=(1, 1))\n",
      "      (bn2): BatchNorm2d(32, eps=0.001, momentum=0.001, affine=True, track_running_stats=True)\n",
      "      (relu2): LeakyReLU(negative_slope=0.1)\n",
      "      (conv2): Conv2d(32, 32, kernel_size=(3, 3), stride=(1, 1), padding=(1, 1))\n",
      "    )\n",
      "    (2): BasicBlock(\n",
      "      (bn1): BatchNorm2d(32, eps=0.001, momentum=0.001, affine=True, track_running_stats=True)\n",
      "      (relu1): LeakyReLU(negative_slope=0.1)\n",
      "      (conv1): Conv2d(32, 32, kernel_size=(3, 3), stride=(1, 1), padding=(1, 1))\n",
      "      (bn2): BatchNorm2d(32, eps=0.001, momentum=0.001, affine=True, track_running_stats=True)\n",
      "      (relu2): LeakyReLU(negative_slope=0.1)\n",
      "      (conv2): Conv2d(32, 32, kernel_size=(3, 3), stride=(1, 1), padding=(1, 1))\n",
      "    )\n",
      "    (3): BasicBlock(\n",
      "      (bn1): BatchNorm2d(32, eps=0.001, momentum=0.001, affine=True, track_running_stats=True)\n",
      "      (relu1): LeakyReLU(negative_slope=0.1)\n",
      "      (conv1): Conv2d(32, 32, kernel_size=(3, 3), stride=(1, 1), padding=(1, 1))\n",
      "      (bn2): BatchNorm2d(32, eps=0.001, momentum=0.001, affine=True, track_running_stats=True)\n",
      "      (relu2): LeakyReLU(negative_slope=0.1)\n",
      "      (conv2): Conv2d(32, 32, kernel_size=(3, 3), stride=(1, 1), padding=(1, 1))\n",
      "    )\n",
      "  )\n",
      ")\n",
      "2 NetworkBlock(\n",
      "  (layer): Sequential(\n",
      "    (0): BasicBlock(\n",
      "      (bn1): BatchNorm2d(32, eps=0.001, momentum=0.001, affine=True, track_running_stats=True)\n",
      "      (relu1): LeakyReLU(negative_slope=0.1)\n",
      "      (conv1): Conv2d(32, 64, kernel_size=(3, 3), stride=(2, 2), padding=(1, 1))\n",
      "      (bn2): BatchNorm2d(64, eps=0.001, momentum=0.001, affine=True, track_running_stats=True)\n",
      "      (relu2): LeakyReLU(negative_slope=0.1)\n",
      "      (conv2): Conv2d(64, 64, kernel_size=(3, 3), stride=(1, 1), padding=(1, 1))\n",
      "      (convShortcut): Conv2d(32, 64, kernel_size=(1, 1), stride=(2, 2))\n",
      "    )\n",
      "    (1): BasicBlock(\n",
      "      (bn1): BatchNorm2d(64, eps=0.001, momentum=0.001, affine=True, track_running_stats=True)\n",
      "      (relu1): LeakyReLU(negative_slope=0.1)\n",
      "      (conv1): Conv2d(64, 64, kernel_size=(3, 3), stride=(1, 1), padding=(1, 1))\n",
      "      (bn2): BatchNorm2d(64, eps=0.001, momentum=0.001, affine=True, track_running_stats=True)\n",
      "      (relu2): LeakyReLU(negative_slope=0.1)\n",
      "      (conv2): Conv2d(64, 64, kernel_size=(3, 3), stride=(1, 1), padding=(1, 1))\n",
      "    )\n",
      "    (2): BasicBlock(\n",
      "      (bn1): BatchNorm2d(64, eps=0.001, momentum=0.001, affine=True, track_running_stats=True)\n",
      "      (relu1): LeakyReLU(negative_slope=0.1)\n",
      "      (conv1): Conv2d(64, 64, kernel_size=(3, 3), stride=(1, 1), padding=(1, 1))\n",
      "      (bn2): BatchNorm2d(64, eps=0.001, momentum=0.001, affine=True, track_running_stats=True)\n",
      "      (relu2): LeakyReLU(negative_slope=0.1)\n",
      "      (conv2): Conv2d(64, 64, kernel_size=(3, 3), stride=(1, 1), padding=(1, 1))\n",
      "    )\n",
      "    (3): BasicBlock(\n",
      "      (bn1): BatchNorm2d(64, eps=0.001, momentum=0.001, affine=True, track_running_stats=True)\n",
      "      (relu1): LeakyReLU(negative_slope=0.1)\n",
      "      (conv1): Conv2d(64, 64, kernel_size=(3, 3), stride=(1, 1), padding=(1, 1))\n",
      "      (bn2): BatchNorm2d(64, eps=0.001, momentum=0.001, affine=True, track_running_stats=True)\n",
      "      (relu2): LeakyReLU(negative_slope=0.1)\n",
      "      (conv2): Conv2d(64, 64, kernel_size=(3, 3), stride=(1, 1), padding=(1, 1))\n",
      "    )\n",
      "  )\n",
      ")\n",
      "3 NetworkBlock(\n",
      "  (layer): Sequential(\n",
      "    (0): BasicBlock(\n",
      "      (bn1): BatchNorm2d(64, eps=0.001, momentum=0.001, affine=True, track_running_stats=True)\n",
      "      (relu1): LeakyReLU(negative_slope=0.1)\n",
      "      (conv1): Conv2d(64, 128, kernel_size=(3, 3), stride=(2, 2), padding=(1, 1))\n",
      "      (bn2): BatchNorm2d(128, eps=0.001, momentum=0.001, affine=True, track_running_stats=True)\n",
      "      (relu2): LeakyReLU(negative_slope=0.1)\n",
      "      (conv2): Conv2d(128, 128, kernel_size=(3, 3), stride=(1, 1), padding=(1, 1))\n",
      "      (convShortcut): Conv2d(64, 128, kernel_size=(1, 1), stride=(2, 2))\n",
      "    )\n",
      "    (1): BasicBlock(\n",
      "      (bn1): BatchNorm2d(128, eps=0.001, momentum=0.001, affine=True, track_running_stats=True)\n",
      "      (relu1): LeakyReLU(negative_slope=0.1)\n",
      "      (conv1): Conv2d(128, 128, kernel_size=(3, 3), stride=(1, 1), padding=(1, 1))\n",
      "      (bn2): BatchNorm2d(128, eps=0.001, momentum=0.001, affine=True, track_running_stats=True)\n",
      "      (relu2): LeakyReLU(negative_slope=0.1)\n",
      "      (conv2): Conv2d(128, 128, kernel_size=(3, 3), stride=(1, 1), padding=(1, 1))\n",
      "    )\n",
      "    (2): BasicBlock(\n",
      "      (bn1): BatchNorm2d(128, eps=0.001, momentum=0.001, affine=True, track_running_stats=True)\n",
      "      (relu1): LeakyReLU(negative_slope=0.1)\n",
      "      (conv1): Conv2d(128, 128, kernel_size=(3, 3), stride=(1, 1), padding=(1, 1))\n",
      "      (bn2): BatchNorm2d(128, eps=0.001, momentum=0.001, affine=True, track_running_stats=True)\n",
      "      (relu2): LeakyReLU(negative_slope=0.1)\n",
      "      (conv2): Conv2d(128, 128, kernel_size=(3, 3), stride=(1, 1), padding=(1, 1))\n",
      "    )\n",
      "    (3): BasicBlock(\n",
      "      (bn1): BatchNorm2d(128, eps=0.001, momentum=0.001, affine=True, track_running_stats=True)\n",
      "      (relu1): LeakyReLU(negative_slope=0.1)\n",
      "      (conv1): Conv2d(128, 128, kernel_size=(3, 3), stride=(1, 1), padding=(1, 1))\n",
      "      (bn2): BatchNorm2d(128, eps=0.001, momentum=0.001, affine=True, track_running_stats=True)\n",
      "      (relu2): LeakyReLU(negative_slope=0.1)\n",
      "      (conv2): Conv2d(128, 128, kernel_size=(3, 3), stride=(1, 1), padding=(1, 1))\n",
      "    )\n",
      "  )\n",
      ")\n",
      "4 BatchNorm2d(128, eps=0.001, momentum=0.001, affine=True, track_running_stats=True)\n",
      "5 LeakyReLU(negative_slope=0.1)\n",
      "6 Linear(in_features=128, out_features=10, bias=True)\n"
     ]
    }
   ],
   "source": [
    "for ind,x in enumerate(m.children()):\n",
    "    print(ind,x)"
   ]
  },
  {
   "cell_type": "code",
   "execution_count": 5,
   "id": "dd8a8a61-8875-4d15-a4fd-aa2d686f2b40",
   "metadata": {},
   "outputs": [],
   "source": [
    "# !pip install torch"
   ]
  },
  {
   "cell_type": "code",
   "execution_count": 6,
   "id": "ce73b0a8-0796-4abb-b978-a79d00fae578",
   "metadata": {},
   "outputs": [],
   "source": [
    "from semilearn import get_dataset, get_data_loader, get_net_builder, get_algorithm, get_config, Trainer"
   ]
  },
  {
   "cell_type": "code",
   "execution_count": 7,
   "id": "16d21c2c-944a-42b2-abe9-7a96b1672843",
   "metadata": {},
   "outputs": [
    {
     "name": "stderr",
     "output_type": "stream",
     "text": [
      "/bin/sh: 1: netstat: not found\n"
     ]
    }
   ],
   "source": [
    "config = {\n",
    "    'algorithm': 'fixmatch',\n",
    "    'net': 'wrn_28_2',\n",
    "    'use_pretrain': False,  # todo: add pretrain\n",
    "    'pretrain_path': None,\n",
    "\n",
    "    # optimization configs\n",
    "    'epoch': 3,\n",
    "    'num_train_iter': 150,\n",
    "    'num_eval_iter': 50,\n",
    "    'optim': 'SGD',\n",
    "    'lr': 0.03,\n",
    "    'momentum': 0.9,\n",
    "    'batch_size': 32,\n",
    "    'eval_batch_size': 64,\n",
    "\n",
    "    # dataset configs\n",
    "    'dataset': 'cifar10',\n",
    "    'num_labels': 40,\n",
    "    'num_classes': 10,\n",
    "    'img_size': 32,\n",
    "    'crop_ratio': 0.875,\n",
    "    'data_dir': './data',\n",
    "\n",
    "    # algorithm specific configs\n",
    "    'hard_label': True,\n",
    "    'uratio': 3,\n",
    "    'ulb_loss_ratio': 1.0,\n",
    "\n",
    "    # device configs\n",
    "    'gpu': 0,\n",
    "    'world_size': 1,\n",
    "    'distributed': False,\n",
    "}\n",
    "config = get_config(config)"
   ]
  },
  {
   "cell_type": "code",
   "execution_count": 8,
   "id": "eb025618-04a0-4a98-b22b-4a93422a013f",
   "metadata": {},
   "outputs": [
    {
     "data": {
      "text/plain": [
       "{'save_dir': './saved_models',\n",
       " 'save_name': 'fixmatch',\n",
       " 'resume': False,\n",
       " 'load_path': None,\n",
       " 'overwrite': True,\n",
       " 'use_tensorboard': False,\n",
       " 'epoch': 3,\n",
       " 'num_train_iter': 150,\n",
       " 'num_warmup_iter': 0,\n",
       " 'num_eval_iter': 50,\n",
       " 'num_log_iter': 5,\n",
       " 'num_labels': 40,\n",
       " 'batch_size': 32,\n",
       " 'uratio': 3,\n",
       " 'eval_batch_size': 64,\n",
       " 'ema_m': 0.999,\n",
       " 'ulb_loss_ratio': 1.0,\n",
       " 'optim': 'SGD',\n",
       " 'lr': 0.03,\n",
       " 'momentum': 0.9,\n",
       " 'weight_decay': 0.0005,\n",
       " 'layer_decay': 0.75,\n",
       " 'net': 'wrn_28_2',\n",
       " 'net_from_name': False,\n",
       " 'use_pretrain': False,\n",
       " 'pretrain_path': None,\n",
       " 'algorithm': 'fixmatch',\n",
       " 'use_cat': False,\n",
       " 'use_amp': False,\n",
       " 'clip_grad': 0,\n",
       " 'imb_algorithm': None,\n",
       " 'data_dir': './data',\n",
       " 'dataset': 'cifar10',\n",
       " 'num_classes': 10,\n",
       " 'train_sampler': 'RandomSampler',\n",
       " 'num_workers': 1,\n",
       " 'lb_imb_ratio': 1,\n",
       " 'ulb_imb_ratio': 1,\n",
       " 'ulb_num_labels': None,\n",
       " 'img_size': 32,\n",
       " 'crop_ratio': 0.875,\n",
       " 'max_length': 512,\n",
       " 'max_length_seconds': 4.0,\n",
       " 'sample_rate': 16000,\n",
       " 'world_size': 1,\n",
       " 'rank': 0,\n",
       " 'dist_url': 'tcp://127.0.0.1:26590',\n",
       " 'dist_backend': 'nccl',\n",
       " 'seed': 1,\n",
       " 'gpu': 0,\n",
       " 'multiprocessing_distributed': False,\n",
       " 'c': '',\n",
       " 'hard_label': True,\n",
       " 'T': 0.5,\n",
       " 'p_cutoff': 0.95,\n",
       " 'distributed': False}"
      ]
     },
     "execution_count": 8,
     "metadata": {},
     "output_type": "execute_result"
    }
   ],
   "source": [
    "vars(config)"
   ]
  },
  {
   "cell_type": "code",
   "execution_count": 9,
   "id": "03a4274d-6ed9-42f1-b382-862f404250e4",
   "metadata": {},
   "outputs": [
    {
     "name": "stdout",
     "output_type": "stream",
     "text": [
      "Files already downloaded and verified\n",
      "lb count: [4, 4, 4, 4, 4, 4, 4, 4, 4, 4]\n",
      "ulb count: [5000, 5000, 5000, 5000, 5000, 5000, 5000, 5000, 5000, 5000]\n",
      "Files already downloaded and verified\n"
     ]
    }
   ],
   "source": [
    "dataset_dict = get_dataset(config, config.algorithm, config.dataset, config.num_labels, config.num_classes, data_dir=config.data_dir)\n",
    "train_lb_loader = get_data_loader(config, dataset_dict['train_lb'], config.batch_size)"
   ]
  },
  {
   "cell_type": "code",
   "execution_count": 10,
   "id": "36593d2d-f01e-4650-b376-7a66378ac73f",
   "metadata": {},
   "outputs": [],
   "source": [
    "from semilearn.datasets.cv_datasets import get_cifar\n",
    "import argparse"
   ]
  },
  {
   "cell_type": "code",
   "execution_count": 11,
   "id": "7291b35f-d921-47bc-9925-1cee2cafd25a",
   "metadata": {},
   "outputs": [
    {
     "name": "stdout",
     "output_type": "stream",
     "text": [
      "Files already downloaded and verified\n",
      "lb count: [4, 4, 4, 4, 4, 4, 4, 4, 4, 4]\n",
      "ulb count: [5000, 5000, 5000, 5000, 5000, 5000, 5000, 5000, 5000, 5000]\n",
      "Files already downloaded and verified\n"
     ]
    }
   ],
   "source": [
    "args_d = {'dataset': 'cifar10',\n",
    "         'num_classes': 10,\n",
    "         'train_sampler': 'RandomSampler',\n",
    "         'num_workers': 1,\n",
    "         'lb_imb_ratio': 1,\n",
    "         'ulb_imb_ratio': 1,\n",
    "          'batch_size': 1,\n",
    "         'ulb_num_labels': None,\n",
    "         'img_size': 32,\n",
    "         'crop_ratio': 0.875,\n",
    "         'num_labels': 40,\n",
    "         'seed': 1,\n",
    "         'epoch': 3,\n",
    "         'num_train_iter':150,\n",
    "         'net': 'wrn_28_8',\n",
    "         'optim': 'SGD',\n",
    "         'lr': 0.03,\n",
    "         'momentum': 0.9,\n",
    "         'weight_decay': 0.0005,\n",
    "         'layer_decay': 0.75,\n",
    "          'num_warmup_iter': 0}\n",
    "\n",
    "parser = argparse.ArgumentParser(description='Semi-Supervised Learning (USB semilearn package)')\n",
    "args = parser.parse_args(\"\")\n",
    "# args\n",
    "for k in args_d:\n",
    "        setattr(args, k, args_d[k])\n",
    "lb_dset, ulb_dset, eval_dset = get_cifar(args,\n",
    "          alg=None, \n",
    "          name='cifar10',\n",
    "          num_labels=40,\n",
    "          num_classes=10,\n",
    "          data_dir='./data',\n",
    "          include_lb_to_ulb=True)"
   ]
  },
  {
   "cell_type": "code",
   "execution_count": 12,
   "id": "dec3bd12-689f-4057-99e7-cc1e973b047b",
   "metadata": {},
   "outputs": [
    {
     "data": {
      "text/plain": [
       "{'idx_lb': 0,\n",
       " 'x_lb': tensor([[[-1.1247, -1.1589, -1.1247,  ..., -1.0390, -1.0733, -1.1075],\n",
       "          [-1.0904, -1.1247, -1.0904,  ..., -1.0562, -1.0904, -1.1418],\n",
       "          [-1.1247, -1.1589, -1.1247,  ..., -1.0390, -1.0733, -1.1075],\n",
       "          ...,\n",
       "          [ 0.3652,  0.3309,  0.3652,  ...,  0.5022,  0.3481,  0.0912],\n",
       "          [ 0.3652,  0.3652,  0.3652,  ...,  0.5022,  0.3309, -0.1657],\n",
       "          [ 0.4337,  0.3652,  0.4337,  ...,  0.6563,  0.4851, -0.0458]],\n",
       " \n",
       "         [[-0.8452, -0.8803, -0.8452,  ..., -0.7577, -0.7927, -0.8277],\n",
       "          [-0.8803, -0.8978, -0.8803,  ..., -0.7752, -0.8102, -0.8627],\n",
       "          [-0.8452, -0.8803, -0.8452,  ..., -0.7577, -0.7927, -0.8277],\n",
       "          ...,\n",
       "          [ 0.4153,  0.3803,  0.4153,  ...,  0.4503,  0.3803,  0.1877],\n",
       "          [ 0.4153,  0.3978,  0.4153,  ...,  0.4853,  0.3803, -0.0924],\n",
       "          [ 0.4853,  0.4153,  0.4853,  ...,  0.6429,  0.5028, -0.0574]],\n",
       " \n",
       "         [[-0.2010, -0.2881, -0.2010,  ..., -0.0615, -0.0964, -0.1312],\n",
       "          [-0.2184, -0.3055, -0.2184,  ..., -0.0790, -0.1138, -0.1661],\n",
       "          [-0.2010, -0.2881, -0.2010,  ..., -0.0615, -0.0964, -0.1312],\n",
       "          ...,\n",
       "          [ 1.0539,  1.0017,  1.0539,  ...,  1.1759,  1.0888,  0.8274],\n",
       "          [ 1.0539,  1.0365,  1.0539,  ...,  1.2457,  1.1237,  0.5136],\n",
       "          [ 1.1062,  1.0365,  1.1062,  ...,  1.3328,  1.1759,  0.5834]]]),\n",
       " 'y_lb': 0}"
      ]
     },
     "execution_count": 12,
     "metadata": {},
     "output_type": "execute_result"
    }
   ],
   "source": [
    "lb_dset[0]"
   ]
  },
  {
   "cell_type": "code",
   "execution_count": 13,
   "id": "dc418891-e170-4863-9131-dbe03d02bb33",
   "metadata": {},
   "outputs": [],
   "source": [
    "train_lb_loader = get_data_loader(args, dataset_dict['train_lb'], config.batch_size)\n",
    "train_ulb_loader = get_data_loader(args, dataset_dict['train_ulb'], int(config.batch_size * config.uratio))\n",
    "eval_loader = get_data_loader(args, dataset_dict['eval'], config.eval_batch_size)"
   ]
  },
  {
   "cell_type": "code",
   "execution_count": 14,
   "id": "1ee158e8-b186-4d5f-bbf9-045e274c2b9c",
   "metadata": {},
   "outputs": [
    {
     "name": "stdout",
     "output_type": "stream",
     "text": [
      "dict_keys(['idx_lb', 'x_lb', 'y_lb'])\n"
     ]
    }
   ],
   "source": [
    "for x in train_lb_loader:\n",
    "    print(x.keys())\n",
    "    break"
   ]
  },
  {
   "cell_type": "code",
   "execution_count": 15,
   "id": "70cea823-9a5e-4394-9866-3b5cda5de835",
   "metadata": {},
   "outputs": [
    {
     "name": "stdout",
     "output_type": "stream",
     "text": [
      "dict_keys(['idx_lb', 'x_lb', 'y_lb']) dict_keys(['idx_ulb', 'x_ulb_w', 'x_ulb_s'])\n"
     ]
    }
   ],
   "source": [
    "for data_lb, data_ulb in zip(train_lb_loader, train_ulb_loader):\n",
    "    print(data_lb.keys(),data_ulb.keys())\n",
    "    break"
   ]
  },
  {
   "cell_type": "code",
   "execution_count": 16,
   "id": "2a92e871-6d25-438c-af90-930934fc4667",
   "metadata": {},
   "outputs": [],
   "source": [
    "from semilearn.core.utils import get_dataset, get_data_loader, get_optimizer, get_cosine_schedule_with_warmup"
   ]
  },
  {
   "cell_type": "code",
   "execution_count": 17,
   "id": "c7b1bfaa-1d46-4e75-ab8f-66b9f475e5aa",
   "metadata": {},
   "outputs": [],
   "source": [
    "optimizer = get_optimizer(m, args.optim, args.lr, args.momentum, args.weight_decay, args.layer_decay)\n",
    "scheduler = get_cosine_schedule_with_warmup(optimizer,\n",
    "                                            args.num_train_iter,\n",
    "                                            num_warmup_steps=args.num_warmup_iter)"
   ]
  },
  {
   "cell_type": "code",
   "execution_count": 18,
   "id": "13884bdc-005f-467c-93d2-9ae9834343ab",
   "metadata": {},
   "outputs": [
    {
     "name": "stdout",
     "output_type": "stream",
     "text": [
      "Fri Sep 30 23:50:13 2022       \n",
      "+-----------------------------------------------------------------------------+\n",
      "| NVIDIA-SMI 470.74       Driver Version: 470.74       CUDA Version: 11.4     |\n",
      "|-------------------------------+----------------------+----------------------+\n",
      "| GPU  Name        Persistence-M| Bus-Id        Disp.A | Volatile Uncorr. ECC |\n",
      "| Fan  Temp  Perf  Pwr:Usage/Cap|         Memory-Usage | GPU-Util  Compute M. |\n",
      "|                               |                      |               MIG M. |\n",
      "|===============================+======================+======================|\n",
      "|   0  Tesla K80           On   | 00000000:00:1A.0 Off |                    0 |\n",
      "| N/A   41C    P8    25W / 149W |      0MiB / 11441MiB |      0%      Default |\n",
      "|                               |                      |                  N/A |\n",
      "+-------------------------------+----------------------+----------------------+\n",
      "                                                                               \n",
      "+-----------------------------------------------------------------------------+\n",
      "| Processes:                                                                  |\n",
      "|  GPU   GI   CI        PID   Type   Process name                  GPU Memory |\n",
      "|        ID   ID                                                   Usage      |\n",
      "|=============================================================================|\n",
      "|  No running processes found                                                 |\n",
      "+-----------------------------------------------------------------------------+\n"
     ]
    }
   ],
   "source": [
    "!nvidia-smi"
   ]
  },
  {
   "cell_type": "code",
   "execution_count": 19,
   "id": "fafc0940-892c-41f6-ab34-5a2f0435d6d4",
   "metadata": {},
   "outputs": [],
   "source": [
    "# optimizer"
   ]
  },
  {
   "cell_type": "code",
   "execution_count": 20,
   "id": "01b0fd63-0ba2-47f7-8d45-1893665cb40f",
   "metadata": {},
   "outputs": [],
   "source": [
    "## Train"
   ]
  },
  {
   "cell_type": "code",
   "execution_count": 21,
   "id": "5c42ab2b-799e-4fd9-91d5-33c76e8c0fda",
   "metadata": {},
   "outputs": [
    {
     "data": {
      "text/plain": [
       "device(type='cuda')"
      ]
     },
     "execution_count": 21,
     "metadata": {},
     "output_type": "execute_result"
    }
   ],
   "source": [
    "torch.device('cuda')"
   ]
  },
  {
   "cell_type": "code",
   "execution_count": 22,
   "id": "7d5c5730-d943-4eed-b125-d9d902170917",
   "metadata": {},
   "outputs": [
    {
     "data": {
      "text/plain": [
       "torch.Size([32, 3, 32, 32])"
      ]
     },
     "execution_count": 22,
     "metadata": {},
     "output_type": "execute_result"
    }
   ],
   "source": [
    "data_lb['x_lb'].shape"
   ]
  },
  {
   "cell_type": "code",
   "execution_count": 23,
   "id": "cece56ea-cd6f-4daa-a7ea-4ee4773c23cf",
   "metadata": {},
   "outputs": [],
   "source": [
    "!export CUDA_LAUNCH_BLOCKING=1"
   ]
  },
  {
   "cell_type": "code",
   "execution_count": 24,
   "id": "af86f37a-bea6-43d7-aeba-faabafeb8c6c",
   "metadata": {},
   "outputs": [
    {
     "name": "stdout",
     "output_type": "stream",
     "text": [
      "cuda:0\n"
     ]
    }
   ],
   "source": [
    "device = torch.device('cuda:0')\n",
    "print(device)\n"
   ]
  },
  {
   "cell_type": "code",
   "execution_count": null,
   "id": "f7696b3c-29d0-465e-baaa-9cb292812f63",
   "metadata": {},
   "outputs": [],
   "source": []
  },
  {
   "cell_type": "code",
   "execution_count": 28,
   "id": "be15d676-42d0-4ce4-aa35-70885bec8edb",
   "metadata": {},
   "outputs": [],
   "source": [
    "loss_ce = torch.nn.CrossEntropyLoss()"
   ]
  },
  {
   "cell_type": "code",
   "execution_count": 40,
   "id": "40666cf4-284f-46c6-bec8-292e2dfbf2a0",
   "metadata": {},
   "outputs": [
    {
     "name": "stderr",
     "output_type": "stream",
     "text": [
      "  6%|▌         | 3/50 [00:00<00:06,  7.69it/s]"
     ]
    },
    {
     "name": "stdout",
     "output_type": "stream",
     "text": [
      "0.35790538787841797\n"
     ]
    },
    {
     "name": "stderr",
     "output_type": "stream",
     "text": [
      " 28%|██▊       | 14/50 [00:01<00:03, 11.42it/s]"
     ]
    },
    {
     "name": "stdout",
     "output_type": "stream",
     "text": [
      "0.17122308909893036\n"
     ]
    },
    {
     "name": "stderr",
     "output_type": "stream",
     "text": [
      " 48%|████▊     | 24/50 [00:02<00:02, 11.99it/s]"
     ]
    },
    {
     "name": "stdout",
     "output_type": "stream",
     "text": [
      "0.09291090071201324\n"
     ]
    },
    {
     "name": "stderr",
     "output_type": "stream",
     "text": [
      " 68%|██████▊   | 34/50 [00:03<00:01, 12.08it/s]"
     ]
    },
    {
     "name": "stdout",
     "output_type": "stream",
     "text": [
      "0.12983696162700653\n"
     ]
    },
    {
     "name": "stderr",
     "output_type": "stream",
     "text": [
      " 88%|████████▊ | 44/50 [00:03<00:00, 12.09it/s]"
     ]
    },
    {
     "name": "stdout",
     "output_type": "stream",
     "text": [
      "0.08037547022104263\n"
     ]
    },
    {
     "name": "stderr",
     "output_type": "stream",
     "text": [
      "100%|██████████| 50/50 [00:04<00:00, 11.34it/s]\n",
      "  6%|▌         | 3/50 [00:00<00:05,  9.27it/s]"
     ]
    },
    {
     "name": "stdout",
     "output_type": "stream",
     "text": [
      "0.057102058082818985\n"
     ]
    },
    {
     "name": "stderr",
     "output_type": "stream",
     "text": [
      " 26%|██▌       | 13/50 [00:01<00:03, 12.15it/s]"
     ]
    },
    {
     "name": "stdout",
     "output_type": "stream",
     "text": [
      "0.04083210602402687\n"
     ]
    },
    {
     "name": "stderr",
     "output_type": "stream",
     "text": [
      " 46%|████▌     | 23/50 [00:02<00:02, 12.42it/s]"
     ]
    },
    {
     "name": "stdout",
     "output_type": "stream",
     "text": [
      "0.02651546709239483\n"
     ]
    },
    {
     "name": "stderr",
     "output_type": "stream",
     "text": [
      " 66%|██████▌   | 33/50 [00:02<00:01, 12.46it/s]"
     ]
    },
    {
     "name": "stdout",
     "output_type": "stream",
     "text": [
      "0.01804865337908268\n"
     ]
    },
    {
     "name": "stderr",
     "output_type": "stream",
     "text": [
      " 86%|████████▌ | 43/50 [00:03<00:00, 12.46it/s]"
     ]
    },
    {
     "name": "stdout",
     "output_type": "stream",
     "text": [
      "0.03177899122238159\n"
     ]
    },
    {
     "name": "stderr",
     "output_type": "stream",
     "text": [
      "100%|██████████| 50/50 [00:04<00:00, 11.69it/s]\n",
      "  6%|▌         | 3/50 [00:00<00:05,  8.50it/s]"
     ]
    },
    {
     "name": "stdout",
     "output_type": "stream",
     "text": [
      "0.025146279484033585\n"
     ]
    },
    {
     "name": "stderr",
     "output_type": "stream",
     "text": [
      " 26%|██▌       | 13/50 [00:01<00:03, 12.08it/s]"
     ]
    },
    {
     "name": "stdout",
     "output_type": "stream",
     "text": [
      "0.015523211099207401\n"
     ]
    },
    {
     "name": "stderr",
     "output_type": "stream",
     "text": [
      " 46%|████▌     | 23/50 [00:02<00:02, 12.40it/s]"
     ]
    },
    {
     "name": "stdout",
     "output_type": "stream",
     "text": [
      "0.01704743318259716\n"
     ]
    },
    {
     "name": "stderr",
     "output_type": "stream",
     "text": [
      " 66%|██████▌   | 33/50 [00:02<00:01, 12.43it/s]"
     ]
    },
    {
     "name": "stdout",
     "output_type": "stream",
     "text": [
      "0.019976675510406494\n"
     ]
    },
    {
     "name": "stderr",
     "output_type": "stream",
     "text": [
      " 86%|████████▌ | 43/50 [00:03<00:00, 12.47it/s]"
     ]
    },
    {
     "name": "stdout",
     "output_type": "stream",
     "text": [
      "0.024985460564494133\n"
     ]
    },
    {
     "name": "stderr",
     "output_type": "stream",
     "text": [
      "100%|██████████| 50/50 [00:04<00:00, 11.64it/s]\n",
      "  6%|▌         | 3/50 [00:00<00:05,  8.87it/s]"
     ]
    },
    {
     "name": "stdout",
     "output_type": "stream",
     "text": [
      "0.022653279826045036\n"
     ]
    },
    {
     "name": "stderr",
     "output_type": "stream",
     "text": [
      " 26%|██▌       | 13/50 [00:01<00:03, 12.08it/s]"
     ]
    },
    {
     "name": "stdout",
     "output_type": "stream",
     "text": [
      "0.012158519588410854\n"
     ]
    },
    {
     "name": "stderr",
     "output_type": "stream",
     "text": [
      " 46%|████▌     | 23/50 [00:02<00:02, 12.39it/s]"
     ]
    },
    {
     "name": "stdout",
     "output_type": "stream",
     "text": [
      "0.013177406042814255\n"
     ]
    },
    {
     "name": "stderr",
     "output_type": "stream",
     "text": [
      " 66%|██████▌   | 33/50 [00:02<00:01, 12.45it/s]"
     ]
    },
    {
     "name": "stdout",
     "output_type": "stream",
     "text": [
      "0.018100274726748466\n"
     ]
    },
    {
     "name": "stderr",
     "output_type": "stream",
     "text": [
      " 86%|████████▌ | 43/50 [00:03<00:00, 12.47it/s]"
     ]
    },
    {
     "name": "stdout",
     "output_type": "stream",
     "text": [
      "0.025411535054445267\n"
     ]
    },
    {
     "name": "stderr",
     "output_type": "stream",
     "text": [
      "100%|██████████| 50/50 [00:04<00:00, 11.65it/s]\n",
      "  6%|▌         | 3/50 [00:00<00:05,  9.04it/s]"
     ]
    },
    {
     "name": "stdout",
     "output_type": "stream",
     "text": [
      "0.01565208099782467\n"
     ]
    },
    {
     "name": "stderr",
     "output_type": "stream",
     "text": [
      " 26%|██▌       | 13/50 [00:01<00:03, 12.13it/s]"
     ]
    },
    {
     "name": "stdout",
     "output_type": "stream",
     "text": [
      "0.029687833040952682\n"
     ]
    },
    {
     "name": "stderr",
     "output_type": "stream",
     "text": [
      " 46%|████▌     | 23/50 [00:02<00:02, 12.43it/s]"
     ]
    },
    {
     "name": "stdout",
     "output_type": "stream",
     "text": [
      "0.019200457260012627\n"
     ]
    },
    {
     "name": "stderr",
     "output_type": "stream",
     "text": [
      " 66%|██████▌   | 33/50 [00:02<00:01, 12.46it/s]"
     ]
    },
    {
     "name": "stdout",
     "output_type": "stream",
     "text": [
      "0.018933434039354324\n"
     ]
    },
    {
     "name": "stderr",
     "output_type": "stream",
     "text": [
      " 86%|████████▌ | 43/50 [00:03<00:00, 12.47it/s]"
     ]
    },
    {
     "name": "stdout",
     "output_type": "stream",
     "text": [
      "0.023487690836191177\n"
     ]
    },
    {
     "name": "stderr",
     "output_type": "stream",
     "text": [
      "100%|██████████| 50/50 [00:04<00:00, 11.67it/s]\n",
      "  6%|▌         | 3/50 [00:00<00:05,  8.91it/s]"
     ]
    },
    {
     "name": "stdout",
     "output_type": "stream",
     "text": [
      "0.024988293647766113\n"
     ]
    },
    {
     "name": "stderr",
     "output_type": "stream",
     "text": [
      " 26%|██▌       | 13/50 [00:01<00:03, 12.10it/s]"
     ]
    },
    {
     "name": "stdout",
     "output_type": "stream",
     "text": [
      "0.013894477859139442\n"
     ]
    },
    {
     "name": "stderr",
     "output_type": "stream",
     "text": [
      " 46%|████▌     | 23/50 [00:02<00:02, 12.37it/s]"
     ]
    },
    {
     "name": "stdout",
     "output_type": "stream",
     "text": [
      "0.02184283919632435\n"
     ]
    },
    {
     "name": "stderr",
     "output_type": "stream",
     "text": [
      " 66%|██████▌   | 33/50 [00:02<00:01, 12.46it/s]"
     ]
    },
    {
     "name": "stdout",
     "output_type": "stream",
     "text": [
      "0.017003439366817474\n"
     ]
    },
    {
     "name": "stderr",
     "output_type": "stream",
     "text": [
      " 86%|████████▌ | 43/50 [00:03<00:00, 12.43it/s]"
     ]
    },
    {
     "name": "stdout",
     "output_type": "stream",
     "text": [
      "0.012971651740372181\n"
     ]
    },
    {
     "name": "stderr",
     "output_type": "stream",
     "text": [
      "100%|██████████| 50/50 [00:04<00:00, 11.65it/s]\n",
      "  6%|▌         | 3/50 [00:00<00:05,  9.22it/s]"
     ]
    },
    {
     "name": "stdout",
     "output_type": "stream",
     "text": [
      "0.01976165920495987\n"
     ]
    },
    {
     "name": "stderr",
     "output_type": "stream",
     "text": [
      " 26%|██▌       | 13/50 [00:01<00:03, 12.15it/s]"
     ]
    },
    {
     "name": "stdout",
     "output_type": "stream",
     "text": [
      "0.014297637157142162\n"
     ]
    },
    {
     "name": "stderr",
     "output_type": "stream",
     "text": [
      " 46%|████▌     | 23/50 [00:02<00:02, 12.40it/s]"
     ]
    },
    {
     "name": "stdout",
     "output_type": "stream",
     "text": [
      "0.01612614095211029\n"
     ]
    },
    {
     "name": "stderr",
     "output_type": "stream",
     "text": [
      " 66%|██████▌   | 33/50 [00:02<00:01, 12.46it/s]"
     ]
    },
    {
     "name": "stdout",
     "output_type": "stream",
     "text": [
      "0.015744715929031372\n"
     ]
    },
    {
     "name": "stderr",
     "output_type": "stream",
     "text": [
      " 86%|████████▌ | 43/50 [00:03<00:00, 12.46it/s]"
     ]
    },
    {
     "name": "stdout",
     "output_type": "stream",
     "text": [
      "0.017003817483782768\n"
     ]
    },
    {
     "name": "stderr",
     "output_type": "stream",
     "text": [
      "100%|██████████| 50/50 [00:04<00:00, 11.68it/s]\n",
      "  6%|▌         | 3/50 [00:00<00:05,  8.44it/s]"
     ]
    },
    {
     "name": "stdout",
     "output_type": "stream",
     "text": [
      "0.032481614500284195\n"
     ]
    },
    {
     "name": "stderr",
     "output_type": "stream",
     "text": [
      " 26%|██▌       | 13/50 [00:01<00:03, 12.02it/s]"
     ]
    },
    {
     "name": "stdout",
     "output_type": "stream",
     "text": [
      "0.014207342639565468\n"
     ]
    },
    {
     "name": "stderr",
     "output_type": "stream",
     "text": [
      " 46%|████▌     | 23/50 [00:02<00:02, 12.39it/s]"
     ]
    },
    {
     "name": "stdout",
     "output_type": "stream",
     "text": [
      "0.034614045172929764\n"
     ]
    },
    {
     "name": "stderr",
     "output_type": "stream",
     "text": [
      " 66%|██████▌   | 33/50 [00:02<00:01, 12.45it/s]"
     ]
    },
    {
     "name": "stdout",
     "output_type": "stream",
     "text": [
      "0.02325829677283764\n"
     ]
    },
    {
     "name": "stderr",
     "output_type": "stream",
     "text": [
      " 86%|████████▌ | 43/50 [00:03<00:00, 12.46it/s]"
     ]
    },
    {
     "name": "stdout",
     "output_type": "stream",
     "text": [
      "0.018480056896805763\n"
     ]
    },
    {
     "name": "stderr",
     "output_type": "stream",
     "text": [
      "100%|██████████| 50/50 [00:04<00:00, 11.57it/s]\n",
      "  6%|▌         | 3/50 [00:00<00:05,  9.29it/s]"
     ]
    },
    {
     "name": "stdout",
     "output_type": "stream",
     "text": [
      "0.020197603851556778\n"
     ]
    },
    {
     "name": "stderr",
     "output_type": "stream",
     "text": [
      " 26%|██▌       | 13/50 [00:01<00:03, 12.14it/s]"
     ]
    },
    {
     "name": "stdout",
     "output_type": "stream",
     "text": [
      "0.021965384483337402\n"
     ]
    },
    {
     "name": "stderr",
     "output_type": "stream",
     "text": [
      " 46%|████▌     | 23/50 [00:02<00:02, 12.39it/s]"
     ]
    },
    {
     "name": "stdout",
     "output_type": "stream",
     "text": [
      "0.019124524667859077\n"
     ]
    },
    {
     "name": "stderr",
     "output_type": "stream",
     "text": [
      " 66%|██████▌   | 33/50 [00:02<00:01, 12.44it/s]"
     ]
    },
    {
     "name": "stdout",
     "output_type": "stream",
     "text": [
      "0.017034487798810005\n"
     ]
    },
    {
     "name": "stderr",
     "output_type": "stream",
     "text": [
      " 86%|████████▌ | 43/50 [00:03<00:00, 12.44it/s]"
     ]
    },
    {
     "name": "stdout",
     "output_type": "stream",
     "text": [
      "0.01863049529492855\n"
     ]
    },
    {
     "name": "stderr",
     "output_type": "stream",
     "text": [
      "100%|██████████| 50/50 [00:04<00:00, 11.68it/s]\n",
      "  6%|▌         | 3/50 [00:00<00:05,  9.04it/s]"
     ]
    },
    {
     "name": "stdout",
     "output_type": "stream",
     "text": [
      "0.024107791483402252\n"
     ]
    },
    {
     "name": "stderr",
     "output_type": "stream",
     "text": [
      " 26%|██▌       | 13/50 [00:01<00:03, 12.10it/s]"
     ]
    },
    {
     "name": "stdout",
     "output_type": "stream",
     "text": [
      "0.014390499331057072\n"
     ]
    },
    {
     "name": "stderr",
     "output_type": "stream",
     "text": [
      " 46%|████▌     | 23/50 [00:02<00:02, 12.41it/s]"
     ]
    },
    {
     "name": "stdout",
     "output_type": "stream",
     "text": [
      "0.026999911293387413\n"
     ]
    },
    {
     "name": "stderr",
     "output_type": "stream",
     "text": [
      " 66%|██████▌   | 33/50 [00:02<00:01, 12.46it/s]"
     ]
    },
    {
     "name": "stdout",
     "output_type": "stream",
     "text": [
      "0.015095085836946964\n"
     ]
    },
    {
     "name": "stderr",
     "output_type": "stream",
     "text": [
      " 86%|████████▌ | 43/50 [00:03<00:00, 12.45it/s]"
     ]
    },
    {
     "name": "stdout",
     "output_type": "stream",
     "text": [
      "0.02013203874230385\n"
     ]
    },
    {
     "name": "stderr",
     "output_type": "stream",
     "text": [
      "100%|██████████| 50/50 [00:04<00:00, 11.64it/s]\n"
     ]
    }
   ],
   "source": [
    "\n",
    "m.to(device)\n",
    "m.train()\n",
    "for _ in range(10):\n",
    "    for ind,(data_lb, data_ulb) in tqdm(enumerate(zip(train_lb_loader, train_ulb_loader)),total=len(train_lb_loader)):\n",
    "        x = data_lb['x_lb'].to(device)\n",
    "        y = data_lb['y_lb'].to(device)\n",
    "        optimizer.zero_grad()\n",
    "\n",
    "        out = m(x)\n",
    "        out = out['logits']\n",
    "        loss = loss_ce(out,y)\n",
    "\n",
    "        loss.backward()\n",
    "        optimizer.step()\n",
    "        scheduler.step()\n",
    "        if ind%10==0:\n",
    "            with torch.no_grad():\n",
    "                print(loss.item())\n",
    "    "
   ]
  },
  {
   "cell_type": "code",
   "execution_count": 41,
   "id": "81fd66a6-9a63-453e-b44b-f56d9d0e183b",
   "metadata": {},
   "outputs": [],
   "source": [
    "# !python -m torch.utils.collect_env"
   ]
  },
  {
   "cell_type": "code",
   "execution_count": null,
   "id": "466d8143-3ea1-4920-a2a4-32eed5e026f7",
   "metadata": {},
   "outputs": [],
   "source": []
  },
  {
   "cell_type": "code",
   "execution_count": 42,
   "id": "4636aeb7-d773-462d-9a0c-6a912321d6f5",
   "metadata": {},
   "outputs": [],
   "source": [
    "def predict(model,data_loader,device, use_ema_model=False, return_gt=False):\n",
    "        model.to(device)\n",
    "        model.eval()\n",
    "\n",
    "        if use_ema_model:\n",
    "            self.algorithm.ema.apply_shadow()\n",
    "\n",
    "        y_true = []\n",
    "        y_pred = []\n",
    "        y_logits = []\n",
    "        with torch.no_grad():\n",
    "            for data in tqdm(data_loader,total=len(data_loader)):\n",
    "                x = data['x_lb']\n",
    "                y = data['y_lb']\n",
    "\n",
    "                if isinstance(x, dict):\n",
    "                    x = {k: v.cuda(device) for k, v in x.items()}\n",
    "                else:\n",
    "                    x = x.cuda(device)\n",
    "                y = y.cuda(device)\n",
    "\n",
    "                logits = model(x)['logits']\n",
    "                    \n",
    "                y_true.extend(y.cpu().tolist())\n",
    "                y_pred.extend(torch.max(logits, dim=-1)[1].cpu().tolist())\n",
    "                y_logits.append(torch.softmax(logits, dim=-1).cpu().numpy())\n",
    "        y_true = np.array(y_true)\n",
    "        y_pred = np.array(y_pred)\n",
    "        y_logits = np.concatenate(y_logits)\n",
    "\n",
    "        if use_ema_model:\n",
    "            self.algorithm.ema.restore()\n",
    "        model.train()\n",
    "        \n",
    "        if return_gt:\n",
    "            return y_pred, y_logits, y_true\n",
    "        else:\n",
    "            return y_pred, y_logits"
   ]
  },
  {
   "cell_type": "code",
   "execution_count": 43,
   "id": "6e33e683-953d-47ff-9b6d-06a3fad5f6c3",
   "metadata": {},
   "outputs": [
    {
     "name": "stdout",
     "output_type": "stream",
     "text": [
      "cuda:0\n"
     ]
    }
   ],
   "source": [
    "print(device)"
   ]
  },
  {
   "cell_type": "code",
   "execution_count": 44,
   "id": "4db9dcc4-f897-475e-809b-64fcc31f8f1a",
   "metadata": {},
   "outputs": [],
   "source": [
    "import numpy as np"
   ]
  },
  {
   "cell_type": "code",
   "execution_count": 45,
   "id": "eb2bb5b3-3a96-4ffc-bbcd-94997f1114f0",
   "metadata": {},
   "outputs": [
    {
     "name": "stderr",
     "output_type": "stream",
     "text": [
      "100%|██████████| 50/50 [00:02<00:00, 24.10it/s]\n"
     ]
    }
   ],
   "source": [
    "y_pred, y_logits, y_true = predict(m,eval_loader,device,return_gt=True)"
   ]
  },
  {
   "cell_type": "code",
   "execution_count": 46,
   "id": "c72f2f78-667a-4f33-b3ea-3333cb734687",
   "metadata": {},
   "outputs": [],
   "source": [
    "## Metrics"
   ]
  },
  {
   "cell_type": "code",
   "execution_count": 47,
   "id": "5792d3a4-7a83-45d5-a724-d77aa8aab422",
   "metadata": {},
   "outputs": [],
   "source": [
    "from sklearn.metrics import accuracy_score, precision_score, recall_score, f1_score, confusion_matrix"
   ]
  },
  {
   "cell_type": "code",
   "execution_count": 48,
   "id": "63906cf8-fc1e-41fa-b898-7f91c205d624",
   "metadata": {},
   "outputs": [],
   "source": [
    "# y_true = data_lb['y_lb']\n",
    "# y_pred = data_lb['y_lb']\n",
    "top1 = accuracy_score(y_true, y_pred)\n",
    "precision = precision_score(y_true, y_pred, average='macro')\n",
    "recall = recall_score(y_true, y_pred, average='macro')\n",
    "f1 = f1_score(y_true, y_pred, average='macro')\n",
    "cf_mat = confusion_matrix(y_true, y_pred, normalize='true')"
   ]
  },
  {
   "cell_type": "code",
   "execution_count": 49,
   "id": "93bc3694-6cce-4a15-a45f-5f19a3ee4aa1",
   "metadata": {},
   "outputs": [
    {
     "data": {
      "text/plain": [
       "(0.1375,\n",
       " 0.1991554842591709,\n",
       " 0.13501015820563506,\n",
       " 0.07389710276788139,\n",
       " array([[0.00319489, 0.46325879, 0.00638978, 0.03514377, 0.00319489,\n",
       "         0.00319489, 0.00319489, 0.01916933, 0.00319489, 0.4600639 ],\n",
       "        [0.        , 0.82568807, 0.        , 0.0030581 , 0.        ,\n",
       "         0.        , 0.        , 0.0030581 , 0.        , 0.16819572],\n",
       "        [0.        , 0.46031746, 0.0031746 , 0.15238095, 0.        ,\n",
       "         0.00634921, 0.00952381, 0.2       , 0.        , 0.16825397],\n",
       "        [0.        , 0.60120846, 0.00302115, 0.10876133, 0.        ,\n",
       "         0.01812689, 0.0060423 , 0.13897281, 0.        , 0.12386707],\n",
       "        [0.        , 0.35737705, 0.04262295, 0.19672131, 0.        ,\n",
       "         0.01639344, 0.03278689, 0.26557377, 0.        , 0.08852459],\n",
       "        [0.        , 0.50798722, 0.00638978, 0.12460064, 0.        ,\n",
       "         0.02236422, 0.02555911, 0.11182109, 0.        , 0.20127796],\n",
       "        [0.        , 0.42628205, 0.01282051, 0.13782051, 0.        ,\n",
       "         0.        , 0.00961538, 0.31730769, 0.00320513, 0.09294872],\n",
       "        [0.        , 0.57051282, 0.00320513, 0.04487179, 0.        ,\n",
       "         0.00320513, 0.00320513, 0.18269231, 0.        , 0.19230769],\n",
       "        [0.        , 0.63313609, 0.        , 0.01775148, 0.        ,\n",
       "         0.        , 0.00591716, 0.00591716, 0.        , 0.33727811],\n",
       "        [0.        , 0.78143713, 0.        , 0.00299401, 0.        ,\n",
       "         0.        , 0.        , 0.01796407, 0.00299401, 0.19461078]]))"
      ]
     },
     "execution_count": 49,
     "metadata": {},
     "output_type": "execute_result"
    }
   ],
   "source": [
    "top1, precision, recall, f1, cf_mat"
   ]
  },
  {
   "cell_type": "code",
   "execution_count": null,
   "id": "09c50f32-572f-469e-94ff-5993e1de36df",
   "metadata": {},
   "outputs": [],
   "source": []
  }
 ],
 "metadata": {
  "kernelspec": {
   "display_name": "usb",
   "language": "python",
   "name": "usb"
  },
  "language_info": {
   "codemirror_mode": {
    "name": "ipython",
    "version": 3
   },
   "file_extension": ".py",
   "mimetype": "text/x-python",
   "name": "python",
   "nbconvert_exporter": "python",
   "pygments_lexer": "ipython3",
   "version": "3.8.13"
  }
 },
 "nbformat": 4,
 "nbformat_minor": 5
}
