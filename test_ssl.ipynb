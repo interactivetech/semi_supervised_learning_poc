{
 "cells": [
  {
   "cell_type": "code",
   "execution_count": 1,
   "id": "60a67bbe-a282-4912-a340-57ccbb611925",
   "metadata": {},
   "outputs": [],
   "source": [
    "%load_ext autoreload\n",
    "%autoreload 2"
   ]
  },
  {
   "cell_type": "code",
   "execution_count": 2,
   "id": "d7fc035f-34f6-431c-ba21-6243686ba076",
   "metadata": {},
   "outputs": [
    {
     "name": "stderr",
     "output_type": "stream",
     "text": [
      "/opt/conda/envs/usb/lib/python3.8/site-packages/tqdm/auto.py:22: TqdmWarning: IProgress not found. Please update jupyter and ipywidgets. See https://ipywidgets.readthedocs.io/en/stable/user_install.html\n",
      "  from .autonotebook import tqdm as notebook_tqdm\n"
     ]
    }
   ],
   "source": [
    "from model import wrn_28_2\n",
    "import torch\n",
    "from tqdm import tqdm\n",
    "import torch.nn.functional as F\n",
    "from ema import EMA,EMADriver, set_ema_model\n",
    "from train import trainer\n",
    "from eval import predict, eval\n",
    "from tqdm import tqdm\n",
    "from semilearn import get_dataset, get_data_loader, get_net_builder, get_algorithm, get_config, Trainer\n",
    "from semilearn.datasets.cv_datasets import get_cifar\n",
    "import argparse\n",
    "from semilearn.core.utils import get_dataset, get_data_loader, get_optimizer, get_cosine_schedule_with_warmup\n",
    "import matplotlib.pyplot as plt\n",
    "from flexmatch import FlexMatch"
   ]
  },
  {
   "cell_type": "code",
   "execution_count": 3,
   "id": "16d21c2c-944a-42b2-abe9-7a96b1672843",
   "metadata": {},
   "outputs": [],
   "source": [
    "# config = {\n",
    "#     'algorithm': 'fixmatch',\n",
    "#     'net': 'wrn_28_2',\n",
    "#     'use_pretrain': False,  # todo: add pretrain\n",
    "#     'pretrain_path': None,\n",
    "\n",
    "#     # optimization configs\n",
    "#     'epoch': 3,\n",
    "#     'num_train_iter': 150,\n",
    "#     'num_eval_iter': 50,\n",
    "#     'optim': 'SGD',\n",
    "#     'lr': 0.03,\n",
    "#     'momentum': 0.9,\n",
    "#     'batch_size': 32,\n",
    "#     'eval_batch_size': 64,\n",
    "\n",
    "#     # dataset configs\n",
    "#     'dataset': 'cifar10',\n",
    "#     'num_labels': 40,\n",
    "#     'num_classes': 10,\n",
    "#     'img_size': 32,\n",
    "#     'crop_ratio': 0.875,\n",
    "#     'data_dir': './data',\n",
    "\n",
    "#     # algorithm specific configs\n",
    "#     'hard_label': True,\n",
    "#     'uratio': 3,\n",
    "#     'ulb_loss_ratio': 1.0,\n",
    "\n",
    "#     # device configs\n",
    "#     'gpu': 0,\n",
    "#     'world_size': 1,\n",
    "#     'distributed': False,\n",
    "# }\n",
    "# config = get_config(config)\n",
    "# vars(config)\n",
    "# dataset_dict = get_dataset(config, config.algorithm, config.dataset, config.num_labels, config.num_classes, data_dir=config.data_dir)\n",
    "# train_lb_loader = get_data_loader(config, dataset_dict['train_lb'], config.batch_size)"
   ]
  },
  {
   "cell_type": "code",
   "execution_count": 4,
   "id": "5b1fedbb-b487-4b6b-a009-7b52112220d0",
   "metadata": {},
   "outputs": [
    {
     "name": "stdout",
     "output_type": "stream",
     "text": [
      "Files already downloaded and verified\n",
      "lb count: [3, 3, 3, 3, 3, 3, 3, 3, 3, 3]\n",
      "ulb count: [15, 15, 15, 15, 15, 15, 15, 15, 15, 15]\n",
      "Files already downloaded and verified\n"
     ]
    }
   ],
   "source": [
    "device = torch.device('cuda:0')\n",
    "\n",
    "m = wrn_28_2(pretrained=False,pretrained_path=None ,num_classes=10)\n",
    "_=m.to(device)\n",
    "ema = wrn_28_2(pretrained=False,pretrained_path=None ,num_classes=10)\n",
    "ema = set_ema_model(ema, m)\n",
    "emaA = EMADriver(model=m,ema_model=ema,ema_m=0.999)\n",
    "# emaA = EMADriver(model=m,ema_model=ema,ema_m=0.999)\n",
    "emaA.before_run()\n",
    "args_d = {'dataset': 'cifar10',\n",
    "         'num_classes': 10,\n",
    "         'train_sampler': 'RandomSampler',\n",
    "         'num_workers': 8,\n",
    "         'lb_imb_ratio': 1,\n",
    "         'ulb_imb_ratio':1.0,\n",
    "          'batch_size': 32,\n",
    "         'ulb_num_labels': 150,\n",
    "         'img_size': 32,\n",
    "         'crop_ratio': 0.875,\n",
    "         'num_labels': 30,\n",
    "         'seed': 1,\n",
    "         'epoch': 3,\n",
    "         'num_train_iter':150,\n",
    "         'net': 'wrn_28_8',\n",
    "         'optim': 'SGD',\n",
    "         'lr': 0.03,\n",
    "         'momentum': 0.9,\n",
    "         'weight_decay': 0.0005,\n",
    "         'layer_decay': 0.75,\n",
    "          'num_warmup_iter': 0,\n",
    "         'algorithm': 'fixmatch',\n",
    "         'data_dir': './data',\n",
    "         'uratio': 3,\n",
    "         'eval_batch_size': 64}\n",
    "\n",
    "parser = argparse.ArgumentParser(description='Semi-Supervised Learning (USB semilearn package)')\n",
    "args = parser.parse_args(\"\")\n",
    "# args\n",
    "for k in args_d:\n",
    "        setattr(args, k, args_d[k])\n",
    "# lb_dset, ulb_dset, eval_dset = get_cifar(args,\n",
    "#           alg=None, \n",
    "#           name='cifar10',\n",
    "#           num_labels=4000,\n",
    "#           num_classes=10,\n",
    "#           data_dir='./data',\n",
    "#           include_lb_to_ulb=True)\n",
    "dataset_dict = get_dataset(args, \n",
    "                           args.algorithm, \n",
    "                           args.dataset, \n",
    "                           args.num_labels, \n",
    "                           args.num_classes, \n",
    "                           data_dir=args.data_dir,\n",
    "                          include_lb_to_ulb=False)\n",
    "train_lb_loader = get_data_loader(args, dataset_dict['train_lb'], args.batch_size)\n",
    "train_lb_loader = get_data_loader(args, dataset_dict['train_lb'], args.batch_size)\n",
    "train_ulb_loader = get_data_loader(args, dataset_dict['train_ulb'], int(args.batch_size * args.uratio))\n",
    "eval_loader = get_data_loader(args, dataset_dict['eval'], args.eval_batch_size)\n",
    "\n",
    "optimizer = get_optimizer(m, args.optim, args.lr, args.momentum, args.weight_decay, args.layer_decay)\n",
    "scheduler = get_cosine_schedule_with_warmup(optimizer,\n",
    "                                            args.num_train_iter,\n",
    "                                            num_warmup_steps=args.num_warmup_iter)\n",
    "loss_ce = torch.nn.CrossEntropyLoss()"
   ]
  },
  {
   "cell_type": "code",
   "execution_count": 5,
   "id": "40666cf4-284f-46c6-bec8-292e2dfbf2a0",
   "metadata": {},
   "outputs": [
    {
     "name": "stderr",
     "output_type": "stream",
     "text": [
      "100%|██████████| 10/10 [00:58<00:00,  5.83s/it]\n"
     ]
    }
   ],
   "source": [
    "\n",
    "\n",
    "# m.train()\n",
    "# ema.train()\n",
    "\n",
    "\n",
    "steps,losses=trainer(train_lb_loader,\n",
    "                     m,\n",
    "                     emaA,\n",
    "                     loss_ce,\n",
    "                     scheduler, \n",
    "                     optimizer,\n",
    "                     train_ulb_loader,\n",
    "                     device,epochs=10)\n",
    "    "
   ]
  },
  {
   "cell_type": "code",
   "execution_count": 6,
   "id": "81fd66a6-9a63-453e-b44b-f56d9d0e183b",
   "metadata": {},
   "outputs": [],
   "source": [
    "# !python -m torch.utils.collect_env"
   ]
  },
  {
   "cell_type": "code",
   "execution_count": null,
   "id": "466d8143-3ea1-4920-a2a4-32eed5e026f7",
   "metadata": {},
   "outputs": [],
   "source": []
  },
  {
   "cell_type": "code",
   "execution_count": 7,
   "id": "4ae7230c-99a3-4c7f-8faa-c6511b506f09",
   "metadata": {},
   "outputs": [
    {
     "data": {
      "text/plain": [
       "[<matplotlib.lines.Line2D at 0x7f12d0599bb0>]"
      ]
     },
     "execution_count": 7,
     "metadata": {},
     "output_type": "execute_result"
    },
    {
     "data": {
      "image/png": "[encoded data removed]",
      "text/plain": [
       "<Figure size 640x480 with 1 Axes>"
      ]
     },
     "metadata": {},
     "output_type": "display_data"
    }
   ],
   "source": [
    "plt.plot(steps,losses)"
   ]
  },
  {
   "cell_type": "code",
   "execution_count": 8,
   "id": "4636aeb7-d773-462d-9a0c-6a912321d6f5",
   "metadata": {},
   "outputs": [],
   "source": [
    "# import torch.nn.functional as F"
   ]
  },
  {
   "cell_type": "code",
   "execution_count": 9,
   "id": "6e33e683-953d-47ff-9b6d-06a3fad5f6c3",
   "metadata": {},
   "outputs": [
    {
     "name": "stdout",
     "output_type": "stream",
     "text": [
      "cuda:0\n"
     ]
    }
   ],
   "source": [
    "print(device)"
   ]
  },
  {
   "cell_type": "code",
   "execution_count": 10,
   "id": "4db9dcc4-f897-475e-809b-64fcc31f8f1a",
   "metadata": {},
   "outputs": [],
   "source": [
    "import numpy as np"
   ]
  },
  {
   "cell_type": "code",
   "execution_count": 11,
   "id": "eb2bb5b3-3a96-4ffc-bbcd-94997f1114f0",
   "metadata": {},
   "outputs": [
    {
     "name": "stderr",
     "output_type": "stream",
     "text": [
      "100%|██████████| 50/50 [00:01<00:00, 25.46it/s]\n"
     ]
    }
   ],
   "source": [
    "y_pred, y_logits, y_true, total_loss = predict(m,emaA.ema,eval_loader,device,return_gt=True,use_ema_model=False)"
   ]
  },
  {
   "cell_type": "code",
   "execution_count": 12,
   "id": "c72f2f78-667a-4f33-b3ea-3333cb734687",
   "metadata": {},
   "outputs": [],
   "source": [
    "## Metrics"
   ]
  },
  {
   "cell_type": "code",
   "execution_count": null,
   "id": "5792d3a4-7a83-45d5-a724-d77aa8aab422",
   "metadata": {},
   "outputs": [],
   "source": []
  },
  {
   "cell_type": "code",
   "execution_count": 13,
   "id": "63906cf8-fc1e-41fa-b898-7f91c205d624",
   "metadata": {},
   "outputs": [
    {
     "name": "stdout",
     "output_type": "stream",
     "text": [
      "6.822980442047119\n"
     ]
    }
   ],
   "source": [
    "# y_true = data_lb['y_lb']\n",
    "# y_pred = data_lb['y_lb']\n",
    "print(total_loss)\n"
   ]
  },
  {
   "cell_type": "code",
   "execution_count": 14,
   "id": "93bc3694-6cce-4a15-a45f-5f19a3ee4aa1",
   "metadata": {},
   "outputs": [
    {
     "name": "stderr",
     "output_type": "stream",
     "text": [
      "100%|██████████| 50/50 [00:01<00:00, 25.45it/s]\n"
     ]
    }
   ],
   "source": [
    "top1,balanced_top1, precision, recall, F1, cf_mat  = eval(m,emaA.ema,eval_loader,device,return_gt=True,use_ema_model=False)\n",
    "top1,balanced_top1, precision, recall, F1, cf_mat\n",
    "no_ema = {\n",
    "    'top1':top1,\n",
    "    'balanced_top1':balanced_top1,\n",
    "    'precision':precision,\n",
    "    'recall':recall,\n",
    "    'F1':F1,\n",
    "    'cf_mat':cf_mat\n",
    "}"
   ]
  },
  {
   "cell_type": "code",
   "execution_count": 15,
   "id": "87710539-0f2f-4897-8c60-d126f9e90cc6",
   "metadata": {},
   "outputs": [],
   "source": [
    "# EMA"
   ]
  },
  {
   "cell_type": "code",
   "execution_count": 16,
   "id": "2b975ef1-9a04-4319-995e-97007923a896",
   "metadata": {},
   "outputs": [
    {
     "name": "stderr",
     "output_type": "stream",
     "text": [
      "100%|██████████| 50/50 [00:01<00:00, 25.44it/s]\n",
      "/opt/conda/envs/usb/lib/python3.8/site-packages/sklearn/metrics/_classification.py:1334: UndefinedMetricWarning: Precision is ill-defined and being set to 0.0 in labels with no predicted samples. Use `zero_division` parameter to control this behavior.\n",
      "  _warn_prf(average, modifier, msg_start, len(result))\n"
     ]
    }
   ],
   "source": [
    "top1,balanced_top1, precision, recall, F1, cf_mat  = eval(m,emaA.ema,eval_loader,device,return_gt=True,use_ema_model=True)\n",
    "ema_res = {\n",
    "    'top1':top1,\n",
    "    'balanced_top1':balanced_top1,\n",
    "    'precision':precision,\n",
    "    'recall':recall,\n",
    "    'F1':F1,\n",
    "    'cf_mat':cf_mat\n",
    "}"
   ]
  },
  {
   "cell_type": "code",
   "execution_count": 17,
   "id": "09c50f32-572f-469e-94ff-5993e1de36df",
   "metadata": {},
   "outputs": [],
   "source": [
    "# top1,balanced_top1, precision, recall, F1, cf_mat"
   ]
  },
  {
   "cell_type": "code",
   "execution_count": 18,
   "id": "3b56b183-fd8f-40b3-91af-77f204a9ed8e",
   "metadata": {},
   "outputs": [
    {
     "name": "stdout",
     "output_type": "stream",
     "text": [
      "top1 0.14 0.14125\n"
     ]
    },
    {
     "data": {
      "image/png": "[encoded data removed]",
      "text/plain": [
       "<Figure size 640x480 with 1 Axes>"
      ]
     },
     "metadata": {},
     "output_type": "display_data"
    },
    {
     "name": "stdout",
     "output_type": "stream",
     "text": [
      "balanced_top1 0.13929979622281946 0.14216215801599402\n"
     ]
    },
    {
     "data": {
      "image/png": "[encoded data removed]",
      "text/plain": [
       "<Figure size 640x480 with 1 Axes>"
      ]
     },
     "metadata": {},
     "output_type": "display_data"
    },
    {
     "name": "stdout",
     "output_type": "stream",
     "text": [
      "precision 0.17304718770643665 0.08463074301450797\n"
     ]
    },
    {
     "data": {
      "image/png": "[encoded data removed]",
      "text/plain": [
       "<Figure size 640x480 with 1 Axes>"
      ]
     },
     "metadata": {},
     "output_type": "display_data"
    },
    {
     "name": "stdout",
     "output_type": "stream",
     "text": [
      "recall 0.13929979622281946 0.14216215801599402\n"
     ]
    },
    {
     "data": {
      "image/png": "[encoded data removed]",
      "text/plain": [
       "<Figure size 640x480 with 1 Axes>"
      ]
     },
     "metadata": {},
     "output_type": "display_data"
    },
    {
     "name": "stdout",
     "output_type": "stream",
     "text": [
      "F1 0.08576444671887935 0.07154295006461477\n"
     ]
    },
    {
     "data": {
      "image/png": "[encoded data removed]",
      "text/plain": [
       "<Figure size 640x480 with 1 Axes>"
      ]
     },
     "metadata": {},
     "output_type": "display_data"
    }
   ],
   "source": [
    "for k in ema_res.keys():\n",
    "    if k!='cf_mat':\n",
    "        print(k,no_ema[k],ema_res[k])\n",
    "        plt.bar(['no_ema','ema'],[no_ema[k],ema_res[k]])\n",
    "        plt.title(\"{} No EMA vs EMA\".format(k))\n",
    "        plt.show()"
   ]
  },
  {
   "cell_type": "code",
   "execution_count": 19,
   "id": "3611fd86-e9b1-47a2-99f6-a1b35c222e12",
   "metadata": {},
   "outputs": [],
   "source": [
    "# Misc"
   ]
  },
  {
   "cell_type": "code",
   "execution_count": 20,
   "id": "92c36dc0-8deb-4091-80dc-89f6ef1eea71",
   "metadata": {},
   "outputs": [],
   "source": [
    "from flexmatch import PseudoLabelingHook"
   ]
  },
  {
   "cell_type": "code",
   "execution_count": 21,
   "id": "e9cc42ad-bb36-45ab-b978-c76cb9b625ad",
   "metadata": {},
   "outputs": [],
   "source": [
    "p = PseudoLabelingHook()"
   ]
  },
  {
   "cell_type": "code",
   "execution_count": 22,
   "id": "689b0b46-83a3-4b83-b06e-469ba14d173a",
   "metadata": {},
   "outputs": [],
   "source": [
    "import torch"
   ]
  },
  {
   "cell_type": "code",
   "execution_count": 23,
   "id": "dd5ac8bd-6c59-4c81-8ff1-39d3b927365a",
   "metadata": {},
   "outputs": [
    {
     "data": {
      "text/plain": [
       "0.011111111111111112"
      ]
     },
     "execution_count": 23,
     "metadata": {},
     "output_type": "execute_result"
    }
   ],
   "source": [
    "import math\n",
    "math.exp(math.log(1/90.))"
   ]
  },
  {
   "cell_type": "code",
   "execution_count": 24,
   "id": "5017802a-67db-4774-9e75-5463eca08102",
   "metadata": {},
   "outputs": [
    {
     "data": {
      "text/plain": [
       "torch.Size([1, 2])"
      ]
     },
     "execution_count": 24,
     "metadata": {},
     "output_type": "execute_result"
    }
   ],
   "source": [
    "# logit_test = torch.Tensor([0.9,1/90.,1/90.,1/90.,1/90.,1/90.,1/90.,1/90.,1/90.,1/90.])\n",
    "# logit_test = torch.Tensor([math.log(0.9),\n",
    "#                            math.log(1/90.),\n",
    "#                            math.log(1/90.),\n",
    "#                            math.log(1/90.),\n",
    "#                            math.log(1/90.),\n",
    "#                            math.log(1/90.),\n",
    "#                            math.log(1/90.),\n",
    "#                            math.log(1/90.),\n",
    "#                            math.log(1/90.),\n",
    "#                            math.log(1/90.)]).reshape(1,-1)# Need to be at least 2 dimensional\n",
    "logit_test = torch.Tensor([math.log(0.9),\n",
    "                           math.log(0.1)]).reshape(1,-1)# Need to be at least 2 dimensional\n",
    "logit_test.shape"
   ]
  },
  {
   "cell_type": "code",
   "execution_count": 25,
   "id": "f1f0b5e9-4bde-469e-a0b8-f3db41ea2489",
   "metadata": {},
   "outputs": [
    {
     "data": {
      "text/plain": [
       "-0.10536051565782628"
      ]
     },
     "execution_count": 25,
     "metadata": {},
     "output_type": "execute_result"
    }
   ],
   "source": [
    "math.log(0.9)"
   ]
  },
  {
   "cell_type": "code",
   "execution_count": 26,
   "id": "0ad8d3cb-5b7d-4861-9b55-26654ebd7e05",
   "metadata": {},
   "outputs": [
    {
     "data": {
      "text/plain": [
       "-2.3025850929940455"
      ]
     },
     "execution_count": 26,
     "metadata": {},
     "output_type": "execute_result"
    }
   ],
   "source": [
    "math.log(0.1)"
   ]
  },
  {
   "cell_type": "code",
   "execution_count": 27,
   "id": "f2d4f2fa-e103-44ab-9840-01324952a740",
   "metadata": {},
   "outputs": [
    {
     "data": {
      "text/plain": [
       "-4.499809670330265"
      ]
     },
     "execution_count": 27,
     "metadata": {},
     "output_type": "execute_result"
    }
   ],
   "source": [
    "math.log(1/90.)"
   ]
  },
  {
   "cell_type": "code",
   "execution_count": 28,
   "id": "41f242fe-f517-412e-88d4-ccde0245918b",
   "metadata": {},
   "outputs": [
    {
     "data": {
      "text/plain": [
       "-2.995732273553991"
      ]
     },
     "execution_count": 28,
     "metadata": {},
     "output_type": "execute_result"
    }
   ],
   "source": [
    "math.log(0.1/2.)\n"
   ]
  },
  {
   "cell_type": "code",
   "execution_count": 29,
   "id": "84097825-9bba-4447-a7c7-e68b2dc198b8",
   "metadata": {},
   "outputs": [
    {
     "data": {
      "text/plain": [
       "tensor([[0.9000, 0.1000]])"
      ]
     },
     "execution_count": 29,
     "metadata": {},
     "output_type": "execute_result"
    }
   ],
   "source": [
    "torch.softmax(logit_test,dim=-1)"
   ]
  },
  {
   "cell_type": "code",
   "execution_count": 30,
   "id": "56131ab0-f805-4d73-8eb6-2c45b58aeac2",
   "metadata": {},
   "outputs": [
    {
     "name": "stdout",
     "output_type": "stream",
     "text": [
      "tensor([[-0.1054, -2.3026]])\n"
     ]
    },
    {
     "data": {
      "text/plain": [
       "tensor([[0.9900, 0.0100]])"
      ]
     },
     "execution_count": 30,
     "metadata": {},
     "output_type": "execute_result"
    }
   ],
   "source": [
    "print(logit_test)\n",
    "p.gen_ulb_targets(logits=logit_test,\n",
    "                  use_hard_label=True, \n",
    "                  T=1.0,\n",
    "                  softmax=True, # whether to compute softmax for logits, input must be logits\n",
    "                  label_smoothing=0.01)"
   ]
  },
  {
   "cell_type": "code",
   "execution_count": 31,
   "id": "85134c99-d2c4-45d9-84e4-55f4943bb05d",
   "metadata": {},
   "outputs": [
    {
     "name": "stdout",
     "output_type": "stream",
     "text": [
      "tensor(8.7715e-10)\n",
      "tensor(1.)\n"
     ]
    }
   ],
   "source": [
    "res = p.gen_ulb_targets(logits=logit_test,\n",
    "                  use_hard_label=False, \n",
    "                  T=math.log(0.9),\n",
    "                  softmax=True, # whether to compute softmax for logits, input must be logits\n",
    "                  label_smoothing=0.01)\n",
    "for i in res[0]:\n",
    "    print(i)"
   ]
  },
  {
   "cell_type": "code",
   "execution_count": 32,
   "id": "1c5eedaf-5c57-4eb4-b295-a9cb71aaef20",
   "metadata": {},
   "outputs": [],
   "source": [
    "# Flexmatch masking"
   ]
  },
  {
   "cell_type": "code",
   "execution_count": 33,
   "id": "9033777c-700d-484d-86d3-a30abaf65bc6",
   "metadata": {},
   "outputs": [
    {
     "name": "stdout",
     "output_type": "stream",
     "text": [
      "dict_keys(['idx_ulb', 'x_ulb_w', 'x_ulb_s'])\n",
      "torch.Size([96, 3, 32, 32])\n",
      "torch.Size([96, 3, 32, 32])\n",
      "dict_keys(['idx_ulb', 'x_ulb_w', 'x_ulb_s'])\n",
      "torch.Size([96, 3, 32, 32])\n",
      "torch.Size([96, 3, 32, 32])\n",
      "dict_keys(['idx_ulb', 'x_ulb_w', 'x_ulb_s'])\n",
      "torch.Size([96, 3, 32, 32])\n",
      "torch.Size([96, 3, 32, 32])\n",
      "dict_keys(['idx_ulb', 'x_ulb_w', 'x_ulb_s'])\n",
      "torch.Size([96, 3, 32, 32])\n",
      "torch.Size([96, 3, 32, 32])\n",
      "dict_keys(['idx_ulb', 'x_ulb_w', 'x_ulb_s'])\n",
      "torch.Size([96, 3, 32, 32])\n",
      "torch.Size([96, 3, 32, 32])\n"
     ]
    }
   ],
   "source": [
    "for ind,(data_lb, data_ulb) in enumerate(zip(train_lb_loader, train_ulb_loader)):\n",
    "    print(data_ulb.keys())\n",
    "    idx_ulb = data_ulb['idx_ulb'].to(device)\n",
    "    x_ulb_w = data_ulb['x_ulb_w'].to(device)\n",
    "    x_ulb_s = data_ulb['x_ulb_s'].to(device)\n",
    "    with torch.no_grad():\n",
    "        out = m(x_ulb_w)\n",
    "        out = out['logits']\n",
    "    # print(idx_ulb)\n",
    "    print(x_ulb_w.shape)\n",
    "    print(x_ulb_s.shape)\n",
    "    if ind>3:\n",
    "        break"
   ]
  },
  {
   "cell_type": "code",
   "execution_count": 34,
   "id": "5f229b15-bc3b-4f0a-a79c-eebba57ad1eb",
   "metadata": {},
   "outputs": [],
   "source": [
    "from flexmatch import FlexMatchThresholdingHook"
   ]
  },
  {
   "cell_type": "code",
   "execution_count": 35,
   "id": "6c9d190b-4641-480f-b5e8-15ca838d87aa",
   "metadata": {},
   "outputs": [],
   "source": [
    "T=0.5\n",
    "thresh_warmup=True\n",
    "p_cutoff=0.95\n",
    "t = FlexMatchThresholdingHook(ulb_dest_len=len(dataset_dict['train_ulb']),\n",
    "                              T=T,\n",
    "                              p_cutoff=p_cutoff,\n",
    "                              num_classes=10,\n",
    "                              thresh_warmup=thresh_warmup)"
   ]
  },
  {
   "cell_type": "code",
   "execution_count": 36,
   "id": "6eab9cb6-b68e-4ab2-9143-dbd4627fb164",
   "metadata": {},
   "outputs": [],
   "source": [
    "# t.p_cutoff"
   ]
  },
  {
   "cell_type": "code",
   "execution_count": 37,
   "id": "b178e200-96d9-4920-9a72-8cd444ddf1e4",
   "metadata": {},
   "outputs": [
    {
     "data": {
      "text/plain": [
       "tensor([1., 1., 1., 1., 1., 1., 1., 1., 1., 1., 1., 1., 1., 1., 1., 1., 1., 1.,\n",
       "        1., 1., 1., 1., 1., 1., 1., 1., 1., 1., 1., 1., 1., 1., 1., 1., 1., 1.,\n",
       "        1., 1., 1., 1., 1., 1., 1., 1., 1., 1., 1., 1., 1., 1., 1., 1., 1., 1.,\n",
       "        1., 1., 1., 1., 1., 1., 1., 1., 1., 1., 1., 1., 1., 1., 1., 1., 1., 1.,\n",
       "        1., 1., 1., 1., 1., 1., 1., 1., 1., 1., 1., 1., 1., 1., 1., 1., 1., 1.,\n",
       "        1., 1., 1., 1., 1., 1.], device='cuda:0')"
      ]
     },
     "execution_count": 37,
     "metadata": {},
     "output_type": "execute_result"
    }
   ],
   "source": [
    "t.masking( out, idx_ulb, softmax_x_ulb=True)"
   ]
  },
  {
   "cell_type": "code",
   "execution_count": 38,
   "id": "9379ec88-e32a-478f-a93b-b8cc7a67761f",
   "metadata": {},
   "outputs": [
    {
     "data": {
      "text/plain": [
       "150"
      ]
     },
     "execution_count": 38,
     "metadata": {},
     "output_type": "execute_result"
    }
   ],
   "source": [
    "len(dataset_dict['train_ulb'])"
   ]
  },
  {
   "cell_type": "code",
   "execution_count": 39,
   "id": "e4de80a0-b8d3-447c-803a-893589e548a1",
   "metadata": {},
   "outputs": [],
   "source": [
    "#FlexMatch"
   ]
  },
  {
   "cell_type": "code",
   "execution_count": null,
   "id": "392b30ec-e76a-4234-bda0-0086dfa301f7",
   "metadata": {},
   "outputs": [],
   "source": []
  },
  {
   "cell_type": "code",
   "execution_count": 40,
   "id": "1be5c828-65a2-4953-a079-a270993f9a89",
   "metadata": {},
   "outputs": [],
   "source": [
    "# ema"
   ]
  },
  {
   "cell_type": "code",
   "execution_count": 42,
   "id": "a6fc5a8d-1f14-482c-96e8-7597937f7247",
   "metadata": {},
   "outputs": [],
   "source": [
    "# f = FlexMatch(T, \n",
    "#              p_cutoff, \n",
    "#              ulb_dest_len=len(dataset_dict['train_ulb']),\n",
    "#              num_classes=10,\n",
    "#              model=m)\n",
    "del m\n",
    "del ema\n",
    "del emaA\n",
    "m = wrn_28_2(pretrained=False,pretrained_path=None ,num_classes=10)\n",
    "_=m.to(device)\n",
    "ema = wrn_28_2(pretrained=False,pretrained_path=None ,num_classes=10)\n",
    "ema = set_ema_model(ema, m)\n",
    "emaA = EMADriver(model=m,ema_model=ema,ema_m=0.999)\n",
    "# emaA = EMADriver(model=m,ema_model=ema,ema_m=0.999)\n",
    "emaA.before_run()\n",
    "\n",
    "f = FlexMatch(T=1.0, \n",
    "             p_cutoff=0.95, \n",
    "             ulb_dest_len=len(dataset_dict['train_ulb']),\n",
    "             num_classes=10,\n",
    "             model=m,\n",
    "             ema_model=ema,\n",
    "             loss_ce=loss_ce,\n",
    "             scheduler=scheduler,\n",
    "             optimizer=optimizer,\n",
    "             device=device,\n",
    "             train_lb_loader=train_lb_loader,\n",
    "             train_ulb_loader=train_ulb_loader,\n",
    "             ulb_loss_ratio=1.0,\n",
    "             hard_label=True, \n",
    "             thresh_warmup=True)"
   ]
  },
  {
   "cell_type": "code",
   "execution_count": 43,
   "id": "74a0f253-4b21-47ee-84a0-a37f564d0277",
   "metadata": {},
   "outputs": [],
   "source": [
    "# f.train_step()"
   ]
  },
  {
   "cell_type": "code",
   "execution_count": 44,
   "id": "f290a959-18ad-49f0-b507-540efafa3a75",
   "metadata": {},
   "outputs": [],
   "source": [
    "# for ind,(data_lb, data_ulb) in enumerate(zip(train_lb_loader, train_ulb_loader)):\n",
    "#     print(data_lb.keys())\n",
    "#     idx_lb = data_lb['idx_lb'].to(device)\n",
    "#     x_lb = data_lb['x_lb'].to(device)\n",
    "#     y_lb = data_lb['y_lb'].to(device)\n",
    "#     idx_ulb = data_ulb['idx_ulb'].to(device)\n",
    "#     x_ulb_w = data_ulb['x_ulb_w'].to(device)\n",
    "#     x_ulb_s = data_ulb['x_ulb_s'].to(device)\n",
    "#     loss = f.train_step( x_lb, y_lb, idx_ulb, x_ulb_w, x_ulb_s)\n",
    "#     print(loss)\n",
    "#     break"
   ]
  },
  {
   "cell_type": "code",
   "execution_count": 45,
   "id": "6e950a68-ae60-41d0-adad-16f96d211199",
   "metadata": {},
   "outputs": [
    {
     "name": "stderr",
     "output_type": "stream",
     "text": [
      "  0%|          | 0/10 [00:00<?, ?it/s]\n",
      "  0%|          | 0/50 [00:00<?, ?it/s]\u001b[A\n",
      "  2%|▏         | 1/50 [00:00<00:40,  1.22it/s]\u001b[A\n",
      "  4%|▍         | 2/50 [00:01<00:31,  1.54it/s]\u001b[A\n",
      "  6%|▌         | 3/50 [00:01<00:27,  1.68it/s]\u001b[A\n",
      "  8%|▊         | 4/50 [00:02<00:26,  1.76it/s]\u001b[A\n",
      " 10%|█         | 5/50 [00:02<00:25,  1.80it/s]\u001b[A\n",
      " 12%|█▏        | 6/50 [00:03<00:24,  1.83it/s]\u001b[A\n",
      " 14%|█▍        | 7/50 [00:04<00:23,  1.85it/s]\u001b[A\n",
      " 16%|█▌        | 8/50 [00:04<00:22,  1.86it/s]\u001b[A\n",
      " 18%|█▊        | 9/50 [00:05<00:21,  1.87it/s]\u001b[A\n",
      " 20%|██        | 10/50 [00:05<00:21,  1.87it/s]\u001b[A\n",
      " 22%|██▏       | 11/50 [00:06<00:20,  1.87it/s]\u001b[A\n",
      " 24%|██▍       | 12/50 [00:06<00:20,  1.87it/s]\u001b[A\n",
      " 26%|██▌       | 13/50 [00:07<00:19,  1.87it/s]\u001b[A\n",
      " 28%|██▊       | 14/50 [00:07<00:19,  1.87it/s]\u001b[A\n",
      " 30%|███       | 15/50 [00:08<00:18,  1.88it/s]\u001b[A\n",
      " 32%|███▏      | 16/50 [00:08<00:18,  1.87it/s]\u001b[A\n",
      " 34%|███▍      | 17/50 [00:09<00:17,  1.88it/s]\u001b[A\n",
      " 36%|███▌      | 18/50 [00:09<00:16,  1.89it/s]\u001b[A\n",
      " 38%|███▊      | 19/50 [00:10<00:16,  1.89it/s]\u001b[A\n",
      " 40%|████      | 20/50 [00:10<00:15,  1.89it/s]\u001b[A\n",
      " 42%|████▏     | 21/50 [00:11<00:15,  1.89it/s]\u001b[A\n",
      " 44%|████▍     | 22/50 [00:11<00:14,  1.88it/s]\u001b[A\n",
      " 46%|████▌     | 23/50 [00:12<00:14,  1.88it/s]\u001b[A\n",
      " 48%|████▊     | 24/50 [00:13<00:13,  1.88it/s]\u001b[A\n",
      " 50%|█████     | 25/50 [00:13<00:13,  1.88it/s]\u001b[A\n",
      " 52%|█████▏    | 26/50 [00:14<00:12,  1.89it/s]\u001b[A\n",
      " 54%|█████▍    | 27/50 [00:14<00:12,  1.89it/s]\u001b[A\n",
      " 56%|█████▌    | 28/50 [00:15<00:11,  1.88it/s]\u001b[A\n",
      " 58%|█████▊    | 29/50 [00:15<00:11,  1.87it/s]\u001b[A\n",
      " 60%|██████    | 30/50 [00:16<00:10,  1.88it/s]\u001b[A\n",
      " 62%|██████▏   | 31/50 [00:16<00:10,  1.87it/s]\u001b[A\n",
      " 64%|██████▍   | 32/50 [00:17<00:09,  1.88it/s]\u001b[A\n",
      " 66%|██████▌   | 33/50 [00:17<00:09,  1.88it/s]\u001b[A\n",
      " 68%|██████▊   | 34/50 [00:18<00:08,  1.88it/s]\u001b[A\n",
      " 70%|███████   | 35/50 [00:18<00:07,  1.88it/s]\u001b[A\n",
      " 72%|███████▏  | 36/50 [00:19<00:07,  1.88it/s]\u001b[A\n",
      " 74%|███████▍  | 37/50 [00:19<00:06,  1.88it/s]\u001b[A\n",
      " 76%|███████▌  | 38/50 [00:20<00:06,  1.87it/s]\u001b[A\n",
      " 78%|███████▊  | 39/50 [00:21<00:05,  1.88it/s]\u001b[A\n",
      " 80%|████████  | 40/50 [00:21<00:05,  1.87it/s]\u001b[A\n",
      " 82%|████████▏ | 41/50 [00:22<00:04,  1.88it/s]\u001b[A\n",
      " 84%|████████▍ | 42/50 [00:22<00:04,  1.88it/s]\u001b[A\n",
      " 86%|████████▌ | 43/50 [00:23<00:03,  1.88it/s]\u001b[A\n",
      " 88%|████████▊ | 44/50 [00:23<00:03,  1.88it/s]\u001b[A\n",
      " 90%|█████████ | 45/50 [00:24<00:02,  1.87it/s]\u001b[A\n",
      " 92%|█████████▏| 46/50 [00:24<00:02,  1.87it/s]\u001b[A\n",
      " 94%|█████████▍| 47/50 [00:25<00:01,  1.88it/s]\u001b[A\n",
      " 96%|█████████▌| 48/50 [00:25<00:01,  1.87it/s]\u001b[A\n",
      " 98%|█████████▊| 49/50 [00:26<00:00,  1.88it/s]\u001b[A\n",
      "100%|██████████| 50/50 [00:26<00:00,  1.86it/s]\u001b[A\n",
      " 10%|█         | 1/10 [00:27<04:04, 27.15s/it]\n",
      "  0%|          | 0/50 [00:00<?, ?it/s]\u001b[A\n",
      "  2%|▏         | 1/50 [00:00<00:34,  1.44it/s]\u001b[A\n",
      "  4%|▍         | 2/50 [00:01<00:28,  1.66it/s]\u001b[A\n",
      "  6%|▌         | 3/50 [00:01<00:26,  1.75it/s]\u001b[A\n",
      "  8%|▊         | 4/50 [00:02<00:25,  1.79it/s]\u001b[A\n",
      " 10%|█         | 5/50 [00:02<00:24,  1.82it/s]\u001b[A\n",
      " 12%|█▏        | 6/50 [00:03<00:23,  1.84it/s]\u001b[A\n",
      " 14%|█▍        | 7/50 [00:03<00:23,  1.86it/s]\u001b[A\n",
      " 16%|█▌        | 8/50 [00:04<00:22,  1.87it/s]\u001b[A\n",
      " 18%|█▊        | 9/50 [00:04<00:21,  1.87it/s]\u001b[A\n",
      " 20%|██        | 10/50 [00:05<00:21,  1.88it/s]\u001b[A\n",
      " 22%|██▏       | 11/50 [00:06<00:20,  1.87it/s]\u001b[A\n",
      " 24%|██▍       | 12/50 [00:06<00:20,  1.87it/s]\u001b[A\n",
      " 26%|██▌       | 13/50 [00:07<00:19,  1.87it/s]\u001b[A\n",
      " 28%|██▊       | 14/50 [00:07<00:19,  1.87it/s]\u001b[A\n",
      " 30%|███       | 15/50 [00:08<00:18,  1.87it/s]\u001b[A\n",
      " 32%|███▏      | 16/50 [00:08<00:18,  1.87it/s]\u001b[A\n",
      " 34%|███▍      | 17/50 [00:09<00:17,  1.87it/s]\u001b[A\n",
      " 36%|███▌      | 18/50 [00:09<00:17,  1.85it/s]\u001b[A\n",
      " 38%|███▊      | 19/50 [00:10<00:16,  1.85it/s]\u001b[A\n",
      " 40%|████      | 20/50 [00:10<00:16,  1.86it/s]\u001b[A\n",
      " 42%|████▏     | 21/50 [00:11<00:15,  1.86it/s]\u001b[A\n",
      " 44%|████▍     | 22/50 [00:11<00:15,  1.86it/s]\u001b[A\n",
      " 46%|████▌     | 23/50 [00:12<00:14,  1.87it/s]\u001b[A\n",
      " 48%|████▊     | 24/50 [00:13<00:13,  1.86it/s]\u001b[A\n",
      " 50%|█████     | 25/50 [00:13<00:13,  1.86it/s]\u001b[A\n",
      " 52%|█████▏    | 26/50 [00:14<00:12,  1.87it/s]\u001b[A\n",
      " 54%|█████▍    | 27/50 [00:14<00:12,  1.88it/s]\u001b[A\n",
      " 56%|█████▌    | 28/50 [00:15<00:11,  1.87it/s]\u001b[A\n",
      " 58%|█████▊    | 29/50 [00:15<00:11,  1.88it/s]\u001b[A\n",
      " 60%|██████    | 30/50 [00:16<00:10,  1.87it/s]\u001b[A\n",
      " 62%|██████▏   | 31/50 [00:16<00:10,  1.88it/s]\u001b[A\n",
      " 64%|██████▍   | 32/50 [00:17<00:09,  1.88it/s]\u001b[A\n",
      " 66%|██████▌   | 33/50 [00:17<00:09,  1.88it/s]\u001b[A\n",
      " 68%|██████▊   | 34/50 [00:18<00:08,  1.87it/s]\u001b[A\n",
      " 70%|███████   | 35/50 [00:18<00:08,  1.87it/s]\u001b[A\n",
      " 72%|███████▏  | 36/50 [00:19<00:07,  1.88it/s]\u001b[A\n",
      " 74%|███████▍  | 37/50 [00:19<00:06,  1.88it/s]\u001b[A\n",
      " 76%|███████▌  | 38/50 [00:20<00:06,  1.88it/s]\u001b[A\n",
      " 78%|███████▊  | 39/50 [00:21<00:05,  1.87it/s]\u001b[A\n",
      " 80%|████████  | 40/50 [00:21<00:05,  1.87it/s]\u001b[A\n",
      " 82%|████████▏ | 41/50 [00:22<00:04,  1.87it/s]\u001b[A\n",
      " 84%|████████▍ | 42/50 [00:22<00:04,  1.87it/s]\u001b[A\n",
      " 86%|████████▌ | 43/50 [00:23<00:03,  1.88it/s]\u001b[A\n",
      " 88%|████████▊ | 44/50 [00:23<00:03,  1.88it/s]\u001b[A\n",
      " 90%|█████████ | 45/50 [00:24<00:02,  1.88it/s]\u001b[A\n",
      " 92%|█████████▏| 46/50 [00:24<00:02,  1.87it/s]\u001b[A\n",
      " 94%|█████████▍| 47/50 [00:25<00:01,  1.87it/s]\u001b[A\n",
      " 96%|█████████▌| 48/50 [00:25<00:01,  1.87it/s]\u001b[A\n",
      " 98%|█████████▊| 49/50 [00:26<00:00,  1.87it/s]\u001b[A\n",
      "100%|██████████| 50/50 [00:26<00:00,  1.86it/s]\u001b[A\n",
      " 20%|██        | 2/10 [00:54<03:37, 27.16s/it]\n",
      "  0%|          | 0/50 [00:00<?, ?it/s]\u001b[A\n",
      "  2%|▏         | 1/50 [00:01<00:49,  1.00s/it]\u001b[A\n",
      "  4%|▍         | 2/50 [00:01<00:34,  1.38it/s]\u001b[A\n",
      "  6%|▌         | 3/50 [00:02<00:30,  1.56it/s]\u001b[A\n",
      "  8%|▊         | 4/50 [00:02<00:27,  1.67it/s]\u001b[A\n",
      " 10%|█         | 5/50 [00:03<00:25,  1.74it/s]\u001b[A\n",
      " 12%|█▏        | 6/50 [00:03<00:24,  1.78it/s]\u001b[A\n",
      " 14%|█▍        | 7/50 [00:04<00:23,  1.82it/s]\u001b[A\n",
      " 16%|█▌        | 8/50 [00:04<00:22,  1.84it/s]\u001b[A\n",
      " 18%|█▊        | 9/50 [00:05<00:22,  1.85it/s]\u001b[A\n",
      " 20%|██        | 10/50 [00:05<00:21,  1.85it/s]\u001b[A\n",
      " 22%|██▏       | 11/50 [00:06<00:20,  1.86it/s]\u001b[A\n",
      " 24%|██▍       | 12/50 [00:06<00:20,  1.86it/s]\u001b[A\n",
      " 26%|██▌       | 13/50 [00:07<00:19,  1.87it/s]\u001b[A\n",
      " 28%|██▊       | 14/50 [00:07<00:19,  1.86it/s]\u001b[A\n",
      " 30%|███       | 15/50 [00:08<00:18,  1.85it/s]\u001b[A\n",
      " 32%|███▏      | 16/50 [00:09<00:18,  1.86it/s]\u001b[A\n",
      " 34%|███▍      | 17/50 [00:09<00:17,  1.86it/s]\u001b[A\n",
      " 36%|███▌      | 18/50 [00:10<00:17,  1.86it/s]\u001b[A\n",
      " 38%|███▊      | 19/50 [00:10<00:16,  1.86it/s]\u001b[A\n",
      " 40%|████      | 20/50 [00:11<00:16,  1.87it/s]\u001b[A\n",
      " 42%|████▏     | 21/50 [00:11<00:15,  1.87it/s]\u001b[A\n",
      " 44%|████▍     | 22/50 [00:12<00:14,  1.88it/s]\u001b[A\n",
      " 46%|████▌     | 23/50 [00:12<00:14,  1.88it/s]\u001b[A\n",
      " 48%|████▊     | 24/50 [00:13<00:13,  1.87it/s]\u001b[A\n",
      " 50%|█████     | 25/50 [00:13<00:13,  1.87it/s]\u001b[A\n",
      " 52%|█████▏    | 26/50 [00:14<00:12,  1.87it/s]\u001b[A\n",
      " 54%|█████▍    | 27/50 [00:14<00:12,  1.86it/s]\u001b[A\n",
      " 56%|█████▌    | 28/50 [00:15<00:11,  1.86it/s]\u001b[A\n",
      " 58%|█████▊    | 29/50 [00:15<00:11,  1.87it/s]\u001b[A\n",
      " 60%|██████    | 30/50 [00:16<00:10,  1.87it/s]\u001b[A\n",
      " 62%|██████▏   | 31/50 [00:17<00:10,  1.87it/s]\u001b[A\n",
      " 64%|██████▍   | 32/50 [00:17<00:09,  1.87it/s]\u001b[A\n",
      " 66%|██████▌   | 33/50 [00:18<00:09,  1.87it/s]\u001b[A\n",
      " 68%|██████▊   | 34/50 [00:18<00:08,  1.87it/s]\u001b[A\n",
      " 70%|███████   | 35/50 [00:19<00:08,  1.87it/s]\u001b[A\n",
      " 72%|███████▏  | 36/50 [00:19<00:07,  1.87it/s]\u001b[A\n",
      " 74%|███████▍  | 37/50 [00:20<00:06,  1.88it/s]\u001b[A\n",
      " 76%|███████▌  | 38/50 [00:20<00:06,  1.88it/s]\u001b[A\n",
      " 78%|███████▊  | 39/50 [00:21<00:05,  1.87it/s]\u001b[A\n",
      " 80%|████████  | 40/50 [00:21<00:05,  1.87it/s]\u001b[A\n",
      " 82%|████████▏ | 41/50 [00:22<00:04,  1.87it/s]\u001b[A\n",
      " 84%|████████▍ | 42/50 [00:22<00:04,  1.87it/s]\u001b[A\n",
      " 86%|████████▌ | 43/50 [00:23<00:03,  1.88it/s]\u001b[A\n",
      " 88%|████████▊ | 44/50 [00:23<00:03,  1.88it/s]\u001b[A\n",
      " 90%|█████████ | 45/50 [00:24<00:02,  1.88it/s]\u001b[A\n",
      " 92%|█████████▏| 46/50 [00:25<00:02,  1.88it/s]\u001b[A\n",
      " 94%|█████████▍| 47/50 [00:25<00:01,  1.88it/s]\u001b[A\n",
      " 96%|█████████▌| 48/50 [00:26<00:01,  1.88it/s]\u001b[A\n",
      " 98%|█████████▊| 49/50 [00:26<00:00,  1.87it/s]\u001b[A\n",
      "100%|██████████| 50/50 [00:27<00:00,  1.84it/s]\u001b[A\n",
      " 30%|███       | 3/10 [01:21<03:11, 27.30s/it]\n",
      "  0%|          | 0/50 [00:00<?, ?it/s]\u001b[A\n",
      "  2%|▏         | 1/50 [00:00<00:35,  1.38it/s]\u001b[A\n",
      "  4%|▍         | 2/50 [00:01<00:29,  1.64it/s]\u001b[A\n",
      "  6%|▌         | 3/50 [00:01<00:26,  1.74it/s]\u001b[A\n",
      "  8%|▊         | 4/50 [00:02<00:25,  1.80it/s]\u001b[A\n",
      " 10%|█         | 5/50 [00:02<00:24,  1.81it/s]\u001b[A\n",
      " 12%|█▏        | 6/50 [00:03<00:23,  1.83it/s]\u001b[A\n",
      " 14%|█▍        | 7/50 [00:03<00:23,  1.84it/s]\u001b[A\n",
      " 16%|█▌        | 8/50 [00:04<00:22,  1.85it/s]\u001b[A\n",
      " 18%|█▊        | 9/50 [00:04<00:22,  1.86it/s]\u001b[A\n",
      " 20%|██        | 10/50 [00:05<00:21,  1.87it/s]\u001b[A\n",
      " 22%|██▏       | 11/50 [00:06<00:20,  1.87it/s]\u001b[A\n",
      " 24%|██▍       | 12/50 [00:06<00:20,  1.86it/s]\u001b[A\n",
      " 26%|██▌       | 13/50 [00:07<00:19,  1.85it/s]\u001b[A\n",
      " 28%|██▊       | 14/50 [00:07<00:19,  1.86it/s]\u001b[A\n",
      " 30%|███       | 15/50 [00:08<00:18,  1.86it/s]\u001b[A\n",
      " 32%|███▏      | 16/50 [00:08<00:18,  1.87it/s]\u001b[A\n",
      " 34%|███▍      | 17/50 [00:09<00:17,  1.87it/s]\u001b[A\n",
      " 36%|███▌      | 18/50 [00:09<00:17,  1.87it/s]\u001b[A\n",
      " 38%|███▊      | 19/50 [00:10<00:16,  1.87it/s]\u001b[A\n",
      " 40%|████      | 20/50 [00:10<00:16,  1.87it/s]\u001b[A\n",
      " 42%|████▏     | 21/50 [00:11<00:15,  1.87it/s]\u001b[A\n",
      " 44%|████▍     | 22/50 [00:11<00:14,  1.87it/s]\u001b[A\n",
      " 46%|████▌     | 23/50 [00:12<00:14,  1.87it/s]\u001b[A\n",
      " 48%|████▊     | 24/50 [00:13<00:13,  1.87it/s]\u001b[A\n",
      " 50%|█████     | 25/50 [00:13<00:13,  1.87it/s]\u001b[A\n",
      " 52%|█████▏    | 26/50 [00:14<00:12,  1.87it/s]\u001b[A\n",
      " 54%|█████▍    | 27/50 [00:14<00:12,  1.87it/s]\u001b[A\n",
      " 56%|█████▌    | 28/50 [00:15<00:11,  1.87it/s]\u001b[A\n",
      " 58%|█████▊    | 29/50 [00:15<00:11,  1.87it/s]\u001b[A\n",
      " 60%|██████    | 30/50 [00:16<00:10,  1.87it/s]\u001b[A\n",
      " 62%|██████▏   | 31/50 [00:16<00:10,  1.88it/s]\u001b[A\n",
      " 64%|██████▍   | 32/50 [00:17<00:09,  1.88it/s]\u001b[A\n",
      " 66%|██████▌   | 33/50 [00:17<00:09,  1.88it/s]\u001b[A\n",
      " 68%|██████▊   | 34/50 [00:18<00:08,  1.88it/s]\u001b[A\n",
      " 70%|███████   | 35/50 [00:18<00:08,  1.87it/s]\u001b[A\n",
      " 72%|███████▏  | 36/50 [00:19<00:07,  1.87it/s]\u001b[A\n",
      " 74%|███████▍  | 37/50 [00:19<00:06,  1.86it/s]\u001b[A\n",
      " 76%|███████▌  | 38/50 [00:20<00:06,  1.85it/s]\u001b[A\n",
      " 78%|███████▊  | 39/50 [00:21<00:05,  1.86it/s]\u001b[A\n",
      " 80%|████████  | 40/50 [00:21<00:05,  1.87it/s]\u001b[A\n",
      " 82%|████████▏ | 41/50 [00:22<00:04,  1.86it/s]\u001b[A\n",
      " 84%|████████▍ | 42/50 [00:22<00:04,  1.86it/s]\u001b[A\n",
      " 86%|████████▌ | 43/50 [00:23<00:03,  1.86it/s]\u001b[A\n",
      " 88%|████████▊ | 44/50 [00:23<00:03,  1.86it/s]\u001b[A\n",
      " 90%|█████████ | 45/50 [00:24<00:02,  1.87it/s]\u001b[A\n",
      " 92%|█████████▏| 46/50 [00:24<00:02,  1.87it/s]\u001b[A\n",
      " 94%|█████████▍| 47/50 [00:25<00:01,  1.87it/s]\u001b[A\n",
      " 96%|█████████▌| 48/50 [00:25<00:01,  1.87it/s]\u001b[A\n",
      " 98%|█████████▊| 49/50 [00:26<00:00,  1.86it/s]\u001b[A\n",
      "100%|██████████| 50/50 [00:26<00:00,  1.85it/s]\u001b[A\n",
      " 40%|████      | 4/10 [01:49<02:43, 27.27s/it]\n",
      "  0%|          | 0/50 [00:00<?, ?it/s]\u001b[A\n",
      "  2%|▏         | 1/50 [00:00<00:34,  1.42it/s]\u001b[A\n",
      "  4%|▍         | 2/50 [00:01<00:28,  1.66it/s]\u001b[A\n",
      "  6%|▌         | 3/50 [00:01<00:26,  1.76it/s]\u001b[A\n",
      "  8%|▊         | 4/50 [00:02<00:25,  1.80it/s]\u001b[A\n",
      " 10%|█         | 5/50 [00:02<00:24,  1.83it/s]\u001b[A\n",
      " 12%|█▏        | 6/50 [00:03<00:23,  1.84it/s]\u001b[A\n",
      " 14%|█▍        | 7/50 [00:03<00:23,  1.85it/s]\u001b[A\n",
      " 16%|█▌        | 8/50 [00:04<00:22,  1.85it/s]\u001b[A\n",
      " 18%|█▊        | 9/50 [00:04<00:22,  1.85it/s]\u001b[A\n",
      " 20%|██        | 10/50 [00:05<00:21,  1.85it/s]\u001b[A\n",
      " 22%|██▏       | 11/50 [00:06<00:21,  1.86it/s]\u001b[A\n",
      " 24%|██▍       | 12/50 [00:06<00:20,  1.86it/s]\u001b[A\n",
      " 26%|██▌       | 13/50 [00:07<00:19,  1.86it/s]\u001b[A\n",
      " 28%|██▊       | 14/50 [00:07<00:19,  1.86it/s]\u001b[A\n",
      " 30%|███       | 15/50 [00:08<00:18,  1.86it/s]\u001b[A\n",
      " 32%|███▏      | 16/50 [00:08<00:18,  1.86it/s]\u001b[A\n",
      " 34%|███▍      | 17/50 [00:09<00:17,  1.87it/s]\u001b[A\n",
      " 36%|███▌      | 18/50 [00:09<00:17,  1.87it/s]\u001b[A\n",
      " 38%|███▊      | 19/50 [00:10<00:16,  1.87it/s]\u001b[A\n",
      " 40%|████      | 20/50 [00:10<00:16,  1.86it/s]\u001b[A\n",
      " 42%|████▏     | 21/50 [00:11<00:15,  1.85it/s]\u001b[A\n",
      " 44%|████▍     | 22/50 [00:11<00:15,  1.86it/s]\u001b[A\n",
      " 46%|████▌     | 23/50 [00:12<00:14,  1.86it/s]\u001b[A\n",
      " 48%|████▊     | 24/50 [00:13<00:14,  1.85it/s]\u001b[A\n",
      " 50%|█████     | 25/50 [00:13<00:13,  1.86it/s]\u001b[A\n",
      " 52%|█████▏    | 26/50 [00:14<00:12,  1.86it/s]\u001b[A\n",
      " 54%|█████▍    | 27/50 [00:14<00:12,  1.86it/s]\u001b[A\n",
      " 56%|█████▌    | 28/50 [00:15<00:11,  1.86it/s]\u001b[A\n",
      " 58%|█████▊    | 29/50 [00:15<00:11,  1.86it/s]\u001b[A\n",
      " 60%|██████    | 30/50 [00:16<00:10,  1.85it/s]\u001b[A\n",
      " 62%|██████▏   | 31/50 [00:16<00:10,  1.86it/s]\u001b[A\n",
      " 64%|██████▍   | 32/50 [00:17<00:09,  1.86it/s]\u001b[A\n",
      " 66%|██████▌   | 33/50 [00:17<00:09,  1.86it/s]\u001b[A\n",
      " 68%|██████▊   | 34/50 [00:18<00:08,  1.85it/s]\u001b[A\n",
      " 70%|███████   | 35/50 [00:18<00:08,  1.85it/s]\u001b[A\n",
      " 72%|███████▏  | 36/50 [00:19<00:07,  1.86it/s]\u001b[A\n",
      " 74%|███████▍  | 37/50 [00:20<00:06,  1.87it/s]\u001b[A\n",
      " 76%|███████▌  | 38/50 [00:20<00:06,  1.87it/s]\u001b[A\n",
      " 78%|███████▊  | 39/50 [00:21<00:05,  1.87it/s]\u001b[A\n",
      " 80%|████████  | 40/50 [00:21<00:05,  1.87it/s]\u001b[A\n",
      " 82%|████████▏ | 41/50 [00:22<00:04,  1.87it/s]\u001b[A\n",
      " 84%|████████▍ | 42/50 [00:22<00:04,  1.87it/s]\u001b[A\n",
      " 86%|████████▌ | 43/50 [00:23<00:03,  1.87it/s]\u001b[A\n",
      " 88%|████████▊ | 44/50 [00:23<00:03,  1.87it/s]\u001b[A\n",
      " 90%|█████████ | 45/50 [00:24<00:02,  1.87it/s]\u001b[A\n",
      " 92%|█████████▏| 46/50 [00:24<00:02,  1.87it/s]\u001b[A\n",
      " 94%|█████████▍| 47/50 [00:25<00:01,  1.87it/s]\u001b[A\n",
      " 96%|█████████▌| 48/50 [00:25<00:01,  1.87it/s]\u001b[A\n",
      " 98%|█████████▊| 49/50 [00:26<00:00,  1.86it/s]\u001b[A\n",
      "100%|██████████| 50/50 [00:27<00:00,  1.85it/s]\u001b[A\n",
      " 50%|█████     | 5/10 [02:16<02:16, 27.27s/it]\n",
      "  0%|          | 0/50 [00:00<?, ?it/s]\u001b[A\n",
      "  2%|▏         | 1/50 [00:00<00:34,  1.44it/s]\u001b[A\n",
      "  4%|▍         | 2/50 [00:01<00:28,  1.66it/s]\u001b[A\n",
      "  6%|▌         | 3/50 [00:01<00:26,  1.76it/s]\u001b[A\n",
      "  8%|▊         | 4/50 [00:02<00:25,  1.80it/s]\u001b[A\n",
      " 10%|█         | 5/50 [00:02<00:24,  1.82it/s]\u001b[A\n",
      " 12%|█▏        | 6/50 [00:03<00:24,  1.82it/s]\u001b[A\n",
      " 14%|█▍        | 7/50 [00:03<00:23,  1.84it/s]\u001b[A\n",
      " 16%|█▌        | 8/50 [00:04<00:22,  1.85it/s]\u001b[A\n",
      " 18%|█▊        | 9/50 [00:04<00:22,  1.85it/s]\u001b[A\n",
      " 20%|██        | 10/50 [00:05<00:21,  1.86it/s]\u001b[A\n",
      " 22%|██▏       | 11/50 [00:06<00:20,  1.86it/s]\u001b[A\n",
      " 24%|██▍       | 12/50 [00:06<00:20,  1.87it/s]\u001b[A\n",
      " 26%|██▌       | 13/50 [00:07<00:19,  1.87it/s]\u001b[A\n",
      " 28%|██▊       | 14/50 [00:07<00:19,  1.87it/s]\u001b[A\n",
      " 30%|███       | 15/50 [00:08<00:18,  1.86it/s]\u001b[A\n",
      " 32%|███▏      | 16/50 [00:08<00:18,  1.85it/s]\u001b[A\n",
      " 34%|███▍      | 17/50 [00:09<00:17,  1.86it/s]\u001b[A\n",
      " 36%|███▌      | 18/50 [00:09<00:17,  1.87it/s]\u001b[A\n",
      " 38%|███▊      | 19/50 [00:10<00:16,  1.87it/s]\u001b[A\n",
      " 40%|████      | 20/50 [00:10<00:16,  1.87it/s]\u001b[A\n",
      " 42%|████▏     | 21/50 [00:11<00:15,  1.87it/s]\u001b[A\n",
      " 44%|████▍     | 22/50 [00:11<00:15,  1.86it/s]\u001b[A\n",
      " 46%|████▌     | 23/50 [00:12<00:14,  1.87it/s]\u001b[A\n",
      " 48%|████▊     | 24/50 [00:13<00:13,  1.87it/s]\u001b[A\n",
      " 50%|█████     | 25/50 [00:13<00:13,  1.87it/s]\u001b[A\n",
      " 52%|█████▏    | 26/50 [00:14<00:12,  1.88it/s]\u001b[A\n",
      " 54%|█████▍    | 27/50 [00:14<00:12,  1.88it/s]\u001b[A\n",
      " 56%|█████▌    | 28/50 [00:15<00:11,  1.87it/s]\u001b[A\n",
      " 58%|█████▊    | 29/50 [00:15<00:11,  1.87it/s]\u001b[A\n",
      " 60%|██████    | 30/50 [00:16<00:10,  1.86it/s]\u001b[A\n",
      " 62%|██████▏   | 31/50 [00:16<00:10,  1.86it/s]\u001b[A\n",
      " 64%|██████▍   | 32/50 [00:17<00:09,  1.87it/s]\u001b[A\n",
      " 66%|██████▌   | 33/50 [00:17<00:09,  1.87it/s]\u001b[A\n",
      " 68%|██████▊   | 34/50 [00:18<00:08,  1.86it/s]\u001b[A\n",
      " 70%|███████   | 35/50 [00:18<00:08,  1.86it/s]\u001b[A\n",
      " 72%|███████▏  | 36/50 [00:19<00:07,  1.86it/s]\u001b[A\n",
      " 74%|███████▍  | 37/50 [00:19<00:06,  1.86it/s]\u001b[A\n",
      " 76%|███████▌  | 38/50 [00:20<00:06,  1.87it/s]\u001b[A\n",
      " 78%|███████▊  | 39/50 [00:21<00:05,  1.87it/s]\u001b[A\n",
      " 80%|████████  | 40/50 [00:21<00:05,  1.86it/s]\u001b[A\n",
      " 82%|████████▏ | 41/50 [00:22<00:04,  1.86it/s]\u001b[A\n",
      " 84%|████████▍ | 42/50 [00:22<00:04,  1.85it/s]\u001b[A\n",
      " 86%|████████▌ | 43/50 [00:23<00:03,  1.86it/s]\u001b[A\n",
      " 88%|████████▊ | 44/50 [00:23<00:03,  1.86it/s]\u001b[A\n",
      " 90%|█████████ | 45/50 [00:24<00:02,  1.85it/s]\u001b[A\n",
      " 92%|█████████▏| 46/50 [00:24<00:02,  1.85it/s]\u001b[A\n",
      " 94%|█████████▍| 47/50 [00:25<00:01,  1.85it/s]\u001b[A\n",
      " 96%|█████████▌| 48/50 [00:25<00:01,  1.85it/s]\u001b[A\n",
      " 98%|█████████▊| 49/50 [00:26<00:00,  1.86it/s]\u001b[A\n",
      "100%|██████████| 50/50 [00:27<00:00,  1.85it/s]\u001b[A\n",
      " 60%|██████    | 6/10 [02:43<01:49, 27.27s/it]\n",
      "  0%|          | 0/50 [00:00<?, ?it/s]\u001b[A\n",
      "  2%|▏         | 1/50 [00:00<00:34,  1.42it/s]\u001b[A\n",
      "  4%|▍         | 2/50 [00:01<00:29,  1.65it/s]\u001b[A\n",
      "  6%|▌         | 3/50 [00:01<00:26,  1.75it/s]\u001b[A\n",
      "  8%|▊         | 4/50 [00:02<00:25,  1.79it/s]\u001b[A\n",
      " 10%|█         | 5/50 [00:02<00:24,  1.81it/s]\u001b[A\n",
      " 12%|█▏        | 6/50 [00:03<00:24,  1.83it/s]\u001b[A\n",
      " 14%|█▍        | 7/50 [00:03<00:23,  1.84it/s]\u001b[A\n",
      " 16%|█▌        | 8/50 [00:04<00:22,  1.86it/s]\u001b[A\n",
      " 18%|█▊        | 9/50 [00:04<00:21,  1.87it/s]\u001b[A\n",
      " 20%|██        | 10/50 [00:05<00:21,  1.87it/s]\u001b[A\n",
      " 22%|██▏       | 11/50 [00:06<00:20,  1.87it/s]\u001b[A\n",
      " 24%|██▍       | 12/50 [00:06<00:20,  1.87it/s]\u001b[A\n",
      " 26%|██▌       | 13/50 [00:07<00:19,  1.86it/s]\u001b[A\n",
      " 28%|██▊       | 14/50 [00:07<00:19,  1.86it/s]\u001b[A\n",
      " 30%|███       | 15/50 [00:08<00:18,  1.86it/s]\u001b[A\n",
      " 32%|███▏      | 16/50 [00:08<00:18,  1.86it/s]\u001b[A\n",
      " 34%|███▍      | 17/50 [00:09<00:17,  1.86it/s]\u001b[A\n",
      " 36%|███▌      | 18/50 [00:09<00:17,  1.86it/s]\u001b[A\n",
      " 38%|███▊      | 19/50 [00:10<00:16,  1.86it/s]\u001b[A\n",
      " 40%|████      | 20/50 [00:10<00:16,  1.85it/s]\u001b[A\n",
      " 42%|████▏     | 21/50 [00:11<00:15,  1.86it/s]\u001b[A\n",
      " 44%|████▍     | 22/50 [00:11<00:15,  1.86it/s]\u001b[A\n",
      " 46%|████▌     | 23/50 [00:12<00:14,  1.87it/s]\u001b[A\n",
      " 48%|████▊     | 24/50 [00:13<00:14,  1.86it/s]\u001b[A\n",
      " 50%|█████     | 25/50 [00:13<00:13,  1.85it/s]\u001b[A\n",
      " 52%|█████▏    | 26/50 [00:14<00:13,  1.84it/s]\u001b[A\n",
      " 54%|█████▍    | 27/50 [00:14<00:12,  1.85it/s]\u001b[A\n",
      " 56%|█████▌    | 28/50 [00:15<00:11,  1.85it/s]\u001b[A\n",
      " 58%|█████▊    | 29/50 [00:15<00:11,  1.86it/s]\u001b[A\n",
      " 60%|██████    | 30/50 [00:16<00:10,  1.86it/s]\u001b[A\n",
      " 62%|██████▏   | 31/50 [00:16<00:10,  1.86it/s]\u001b[A\n",
      " 64%|██████▍   | 32/50 [00:17<00:09,  1.86it/s]\u001b[A\n",
      " 66%|██████▌   | 33/50 [00:17<00:09,  1.85it/s]\u001b[A\n",
      " 68%|██████▊   | 34/50 [00:18<00:08,  1.85it/s]\u001b[A\n",
      " 70%|███████   | 35/50 [00:18<00:08,  1.85it/s]\u001b[A\n",
      " 72%|███████▏  | 36/50 [00:19<00:07,  1.86it/s]\u001b[A\n",
      " 74%|███████▍  | 37/50 [00:20<00:06,  1.86it/s]\u001b[A\n",
      " 76%|███████▌  | 38/50 [00:20<00:06,  1.86it/s]\u001b[A\n",
      " 78%|███████▊  | 39/50 [00:21<00:05,  1.86it/s]\u001b[A\n",
      " 80%|████████  | 40/50 [00:21<00:05,  1.86it/s]\u001b[A\n",
      " 82%|████████▏ | 41/50 [00:22<00:04,  1.86it/s]\u001b[A\n",
      " 84%|████████▍ | 42/50 [00:22<00:04,  1.86it/s]\u001b[A\n",
      " 86%|████████▌ | 43/50 [00:23<00:03,  1.86it/s]\u001b[A\n",
      " 88%|████████▊ | 44/50 [00:23<00:03,  1.86it/s]\u001b[A\n",
      " 90%|█████████ | 45/50 [00:24<00:02,  1.86it/s]\u001b[A\n",
      " 92%|█████████▏| 46/50 [00:24<00:02,  1.86it/s]\u001b[A\n",
      " 94%|█████████▍| 47/50 [00:25<00:01,  1.86it/s]\u001b[A\n",
      " 96%|█████████▌| 48/50 [00:25<00:01,  1.86it/s]\u001b[A\n",
      " 98%|█████████▊| 49/50 [00:26<00:00,  1.86it/s]\u001b[A\n",
      "100%|██████████| 50/50 [00:27<00:00,  1.85it/s]\u001b[A\n",
      " 70%|███████   | 7/10 [03:10<01:21, 27.29s/it]\n",
      "  0%|          | 0/50 [00:00<?, ?it/s]\u001b[A\n",
      "  2%|▏         | 1/50 [00:00<00:34,  1.42it/s]\u001b[A\n",
      "  4%|▍         | 2/50 [00:01<00:28,  1.66it/s]\u001b[A\n",
      "  6%|▌         | 3/50 [00:01<00:26,  1.74it/s]\u001b[A\n",
      "  8%|▊         | 4/50 [00:02<00:25,  1.78it/s]\u001b[A\n",
      " 10%|█         | 5/50 [00:02<00:24,  1.81it/s]\u001b[A\n",
      " 12%|█▏        | 6/50 [00:03<00:24,  1.83it/s]\u001b[A\n",
      " 14%|█▍        | 7/50 [00:03<00:23,  1.84it/s]\u001b[A\n",
      " 16%|█▌        | 8/50 [00:04<00:22,  1.86it/s]\u001b[A\n",
      " 18%|█▊        | 9/50 [00:04<00:22,  1.85it/s]\u001b[A\n",
      " 20%|██        | 10/50 [00:05<00:21,  1.85it/s]\u001b[A\n",
      " 22%|██▏       | 11/50 [00:06<00:21,  1.85it/s]\u001b[A\n",
      " 24%|██▍       | 12/50 [00:06<00:20,  1.86it/s]\u001b[A\n",
      " 26%|██▌       | 13/50 [00:07<00:19,  1.86it/s]\u001b[A\n",
      " 28%|██▊       | 14/50 [00:07<00:19,  1.85it/s]\u001b[A\n",
      " 30%|███       | 15/50 [00:08<00:18,  1.86it/s]\u001b[A\n",
      " 32%|███▏      | 16/50 [00:08<00:18,  1.86it/s]\u001b[A\n",
      " 34%|███▍      | 17/50 [00:09<00:17,  1.86it/s]\u001b[A\n",
      " 36%|███▌      | 18/50 [00:09<00:17,  1.86it/s]\u001b[A\n",
      " 38%|███▊      | 19/50 [00:10<00:16,  1.86it/s]\u001b[A\n",
      " 40%|████      | 20/50 [00:10<00:16,  1.86it/s]\u001b[A\n",
      " 42%|████▏     | 21/50 [00:11<00:15,  1.86it/s]\u001b[A\n",
      " 44%|████▍     | 22/50 [00:11<00:15,  1.86it/s]\u001b[A\n",
      " 46%|████▌     | 23/50 [00:12<00:14,  1.86it/s]\u001b[A\n",
      " 48%|████▊     | 24/50 [00:13<00:14,  1.85it/s]\u001b[A\n",
      " 50%|█████     | 25/50 [00:13<00:13,  1.86it/s]\u001b[A\n",
      " 52%|█████▏    | 26/50 [00:14<00:12,  1.86it/s]\u001b[A\n",
      " 54%|█████▍    | 27/50 [00:14<00:12,  1.87it/s]\u001b[A\n",
      " 56%|█████▌    | 28/50 [00:15<00:11,  1.86it/s]\u001b[A\n",
      " 58%|█████▊    | 29/50 [00:15<00:11,  1.86it/s]\u001b[A\n",
      " 60%|██████    | 30/50 [00:16<00:10,  1.86it/s]\u001b[A\n",
      " 62%|██████▏   | 31/50 [00:16<00:10,  1.86it/s]\u001b[A\n",
      " 64%|██████▍   | 32/50 [00:17<00:09,  1.86it/s]\u001b[A\n",
      " 66%|██████▌   | 33/50 [00:17<00:09,  1.84it/s]\u001b[A\n",
      " 68%|██████▊   | 34/50 [00:18<00:08,  1.85it/s]\u001b[A\n",
      " 70%|███████   | 35/50 [00:18<00:08,  1.86it/s]\u001b[A\n",
      " 72%|███████▏  | 36/50 [00:19<00:07,  1.85it/s]\u001b[A\n",
      " 74%|███████▍  | 37/50 [00:20<00:07,  1.85it/s]\u001b[A\n",
      " 76%|███████▌  | 38/50 [00:20<00:06,  1.85it/s]\u001b[A\n",
      " 78%|███████▊  | 39/50 [00:21<00:05,  1.85it/s]\u001b[A\n",
      " 80%|████████  | 40/50 [00:21<00:05,  1.85it/s]\u001b[A\n",
      " 82%|████████▏ | 41/50 [00:22<00:04,  1.86it/s]\u001b[A\n",
      " 84%|████████▍ | 42/50 [00:22<00:04,  1.85it/s]\u001b[A\n",
      " 86%|████████▌ | 43/50 [00:23<00:03,  1.86it/s]\u001b[A\n",
      " 88%|████████▊ | 44/50 [00:23<00:03,  1.85it/s]\u001b[A\n",
      " 90%|█████████ | 45/50 [00:24<00:02,  1.85it/s]\u001b[A\n",
      " 92%|█████████▏| 46/50 [00:24<00:02,  1.86it/s]\u001b[A\n",
      " 94%|█████████▍| 47/50 [00:25<00:01,  1.86it/s]\u001b[A\n",
      " 96%|█████████▌| 48/50 [00:25<00:01,  1.87it/s]\u001b[A\n",
      " 98%|█████████▊| 49/50 [00:26<00:00,  1.87it/s]\u001b[A\n",
      "100%|██████████| 50/50 [00:27<00:00,  1.85it/s]\u001b[A\n",
      " 80%|████████  | 8/10 [03:38<00:54, 27.30s/it]\n",
      "  0%|          | 0/50 [00:00<?, ?it/s]\u001b[A\n",
      "  2%|▏         | 1/50 [00:00<00:34,  1.41it/s]\u001b[A\n",
      "  4%|▍         | 2/50 [00:01<00:29,  1.65it/s]\u001b[A\n",
      "  6%|▌         | 3/50 [00:01<00:27,  1.73it/s]\u001b[A\n",
      "  8%|▊         | 4/50 [00:02<00:25,  1.78it/s]\u001b[A\n",
      " 10%|█         | 5/50 [00:02<00:24,  1.81it/s]\u001b[A\n",
      " 12%|█▏        | 6/50 [00:03<00:24,  1.83it/s]\u001b[A\n",
      " 14%|█▍        | 7/50 [00:03<00:23,  1.85it/s]\u001b[A\n",
      " 16%|█▌        | 8/50 [00:04<00:22,  1.84it/s]\u001b[A\n",
      " 18%|█▊        | 9/50 [00:05<00:22,  1.85it/s]\u001b[A\n",
      " 20%|██        | 10/50 [00:05<00:21,  1.86it/s]\u001b[A\n",
      " 22%|██▏       | 11/50 [00:06<00:21,  1.86it/s]\u001b[A\n",
      " 24%|██▍       | 12/50 [00:06<00:20,  1.87it/s]\u001b[A\n",
      " 26%|██▌       | 13/50 [00:07<00:19,  1.86it/s]\u001b[A\n",
      " 28%|██▊       | 14/50 [00:07<00:19,  1.85it/s]\u001b[A\n",
      " 30%|███       | 15/50 [00:08<00:18,  1.86it/s]\u001b[A\n",
      " 32%|███▏      | 16/50 [00:08<00:18,  1.86it/s]\u001b[A\n",
      " 34%|███▍      | 17/50 [00:09<00:17,  1.86it/s]\u001b[A\n",
      " 36%|███▌      | 18/50 [00:09<00:17,  1.86it/s]\u001b[A\n",
      " 38%|███▊      | 19/50 [00:10<00:16,  1.87it/s]\u001b[A\n",
      " 40%|████      | 20/50 [00:10<00:16,  1.86it/s]\u001b[A\n",
      " 42%|████▏     | 21/50 [00:11<00:15,  1.86it/s]\u001b[A\n",
      " 44%|████▍     | 22/50 [00:11<00:15,  1.86it/s]\u001b[A\n",
      " 46%|████▌     | 23/50 [00:12<00:14,  1.85it/s]\u001b[A\n",
      " 48%|████▊     | 24/50 [00:13<00:14,  1.86it/s]\u001b[A\n",
      " 50%|█████     | 25/50 [00:13<00:13,  1.86it/s]\u001b[A\n",
      " 52%|█████▏    | 26/50 [00:14<00:12,  1.86it/s]\u001b[A\n",
      " 54%|█████▍    | 27/50 [00:14<00:12,  1.86it/s]\u001b[A\n",
      " 56%|█████▌    | 28/50 [00:15<00:11,  1.86it/s]\u001b[A\n",
      " 58%|█████▊    | 29/50 [00:15<00:11,  1.86it/s]\u001b[A\n",
      " 60%|██████    | 30/50 [00:16<00:10,  1.86it/s]\u001b[A\n",
      " 62%|██████▏   | 31/50 [00:16<00:10,  1.87it/s]\u001b[A\n",
      " 64%|██████▍   | 32/50 [00:17<00:09,  1.87it/s]\u001b[A\n",
      " 66%|██████▌   | 33/50 [00:17<00:09,  1.87it/s]\u001b[A\n",
      " 68%|██████▊   | 34/50 [00:18<00:08,  1.87it/s]\u001b[A\n",
      " 70%|███████   | 35/50 [00:18<00:08,  1.86it/s]\u001b[A\n",
      " 72%|███████▏  | 36/50 [00:19<00:07,  1.86it/s]\u001b[A\n",
      " 74%|███████▍  | 37/50 [00:20<00:06,  1.86it/s]\u001b[A\n",
      " 76%|███████▌  | 38/50 [00:20<00:06,  1.86it/s]\u001b[A\n",
      " 78%|███████▊  | 39/50 [00:21<00:05,  1.86it/s]\u001b[A\n",
      " 80%|████████  | 40/50 [00:21<00:05,  1.85it/s]\u001b[A\n",
      " 82%|████████▏ | 41/50 [00:22<00:04,  1.85it/s]\u001b[A\n",
      " 84%|████████▍ | 42/50 [00:22<00:04,  1.85it/s]\u001b[A\n",
      " 86%|████████▌ | 43/50 [00:23<00:03,  1.86it/s]\u001b[A\n",
      " 88%|████████▊ | 44/50 [00:23<00:03,  1.86it/s]\u001b[A\n",
      " 90%|█████████ | 45/50 [00:24<00:02,  1.86it/s]\u001b[A\n",
      " 92%|█████████▏| 46/50 [00:24<00:02,  1.86it/s]\u001b[A\n",
      " 94%|█████████▍| 47/50 [00:25<00:01,  1.86it/s]\u001b[A\n",
      " 96%|█████████▌| 48/50 [00:25<00:01,  1.86it/s]\u001b[A\n",
      " 98%|█████████▊| 49/50 [00:26<00:00,  1.86it/s]\u001b[A\n",
      "100%|██████████| 50/50 [00:27<00:00,  1.85it/s]\u001b[A\n",
      " 90%|█████████ | 9/10 [04:05<00:27, 27.31s/it]\n",
      "  0%|          | 0/50 [00:00<?, ?it/s]\u001b[A\n",
      "  2%|▏         | 1/50 [00:00<00:34,  1.42it/s]\u001b[A\n",
      "  4%|▍         | 2/50 [00:01<00:29,  1.64it/s]\u001b[A\n",
      "  6%|▌         | 3/50 [00:01<00:27,  1.73it/s]\u001b[A\n",
      "  8%|▊         | 4/50 [00:02<00:25,  1.79it/s]\u001b[A\n",
      " 10%|█         | 5/50 [00:02<00:24,  1.82it/s]\u001b[A\n",
      " 12%|█▏        | 6/50 [00:03<00:24,  1.82it/s]\u001b[A\n",
      " 14%|█▍        | 7/50 [00:03<00:23,  1.82it/s]\u001b[A\n",
      " 16%|█▌        | 8/50 [00:04<00:22,  1.84it/s]\u001b[A\n",
      " 18%|█▊        | 9/50 [00:05<00:22,  1.84it/s]\u001b[A\n",
      " 20%|██        | 10/50 [00:05<00:21,  1.85it/s]\u001b[A\n",
      " 22%|██▏       | 11/50 [00:06<00:21,  1.86it/s]\u001b[A\n",
      " 24%|██▍       | 12/50 [00:06<00:20,  1.86it/s]\u001b[A\n",
      " 26%|██▌       | 13/50 [00:07<00:19,  1.85it/s]\u001b[A\n",
      " 28%|██▊       | 14/50 [00:07<00:19,  1.86it/s]\u001b[A\n",
      " 30%|███       | 15/50 [00:08<00:18,  1.86it/s]\u001b[A\n",
      " 32%|███▏      | 16/50 [00:08<00:18,  1.86it/s]\u001b[A\n",
      " 34%|███▍      | 17/50 [00:09<00:17,  1.86it/s]\u001b[A\n",
      " 36%|███▌      | 18/50 [00:09<00:17,  1.87it/s]\u001b[A\n",
      " 38%|███▊      | 19/50 [00:10<00:16,  1.87it/s]\u001b[A\n",
      " 40%|████      | 20/50 [00:10<00:16,  1.87it/s]\u001b[A\n",
      " 42%|████▏     | 21/50 [00:11<00:15,  1.86it/s]\u001b[A\n",
      " 44%|████▍     | 22/50 [00:11<00:15,  1.87it/s]\u001b[A\n",
      " 46%|████▌     | 23/50 [00:12<00:14,  1.86it/s]\u001b[A\n",
      " 48%|████▊     | 24/50 [00:13<00:13,  1.87it/s]\u001b[A\n",
      " 50%|█████     | 25/50 [00:13<00:13,  1.87it/s]\u001b[A\n",
      " 52%|█████▏    | 26/50 [00:14<00:12,  1.86it/s]\u001b[A\n",
      " 54%|█████▍    | 27/50 [00:14<00:12,  1.86it/s]\u001b[A\n",
      " 56%|█████▌    | 28/50 [00:15<00:11,  1.86it/s]\u001b[A\n",
      " 58%|█████▊    | 29/50 [00:15<00:11,  1.86it/s]\u001b[A\n",
      " 60%|██████    | 30/50 [00:16<00:10,  1.87it/s]\u001b[A\n",
      " 62%|██████▏   | 31/50 [00:16<00:10,  1.87it/s]\u001b[A\n",
      " 64%|██████▍   | 32/50 [00:17<00:09,  1.86it/s]\u001b[A\n",
      " 66%|██████▌   | 33/50 [00:17<00:09,  1.86it/s]\u001b[A\n",
      " 68%|██████▊   | 34/50 [00:18<00:08,  1.86it/s]\u001b[A\n",
      " 70%|███████   | 35/50 [00:18<00:08,  1.86it/s]\u001b[A\n",
      " 72%|███████▏  | 36/50 [00:19<00:07,  1.86it/s]\u001b[A\n",
      " 74%|███████▍  | 37/50 [00:20<00:06,  1.86it/s]\u001b[A\n",
      " 76%|███████▌  | 38/50 [00:20<00:06,  1.85it/s]\u001b[A\n",
      " 78%|███████▊  | 39/50 [00:21<00:05,  1.86it/s]\u001b[A\n",
      " 80%|████████  | 40/50 [00:21<00:05,  1.86it/s]\u001b[A\n",
      " 82%|████████▏ | 41/50 [00:22<00:04,  1.86it/s]\u001b[A\n",
      " 84%|████████▍ | 42/50 [00:22<00:04,  1.86it/s]\u001b[A\n",
      " 86%|████████▌ | 43/50 [00:23<00:03,  1.85it/s]\u001b[A\n",
      " 88%|████████▊ | 44/50 [00:23<00:03,  1.86it/s]\u001b[A\n",
      " 90%|█████████ | 45/50 [00:24<00:02,  1.86it/s]\u001b[A\n",
      " 92%|█████████▏| 46/50 [00:24<00:02,  1.86it/s]\u001b[A\n",
      " 94%|█████████▍| 47/50 [00:25<00:01,  1.86it/s]\u001b[A\n",
      " 96%|█████████▌| 48/50 [00:25<00:01,  1.86it/s]\u001b[A\n",
      " 98%|█████████▊| 49/50 [00:26<00:00,  1.87it/s]\u001b[A\n",
      "100%|██████████| 50/50 [00:27<00:00,  1.85it/s]\u001b[A\n",
      "100%|██████████| 10/10 [04:32<00:00, 27.28s/it]\n"
     ]
    }
   ],
   "source": [
    "steps, sup_loss,unsup_loss,total_loss = f.fit()"
   ]
  },
  {
   "cell_type": "code",
   "execution_count": 48,
   "id": "9c34b632-1b1a-41a3-8395-0b30d0ca7df0",
   "metadata": {},
   "outputs": [
    {
     "data": {
      "image/png": "[encoded data removed]",
      "text/plain": [
       "<Figure size 640x480 with 1 Axes>"
      ]
     },
     "metadata": {},
     "output_type": "display_data"
    }
   ],
   "source": [
    "plt.plot(steps,sup_loss)\n",
    "plt.plot(steps,unsup_loss)\n",
    "plt.plot(steps,total_loss)\n",
    "plt.legend(['sup_loss','unsup_loss','total_loss'])\n",
    "plt.show()"
   ]
  },
  {
   "cell_type": "code",
   "execution_count": 47,
   "id": "03fde417-a63a-428c-9400-bf5d35ea9d21",
   "metadata": {},
   "outputs": [
    {
     "name": "stderr",
     "output_type": "stream",
     "text": [
      "100%|██████████| 50/50 [00:01<00:00, 25.02it/s]\n",
      "/opt/conda/envs/usb/lib/python3.8/site-packages/sklearn/metrics/_classification.py:1334: UndefinedMetricWarning: Precision is ill-defined and being set to 0.0 in labels with no predicted samples. Use `zero_division` parameter to control this behavior.\n",
      "  _warn_prf(average, modifier, msg_start, len(result))\n",
      "100%|██████████| 50/50 [00:01<00:00, 25.31it/s]\n",
      "/opt/conda/envs/usb/lib/python3.8/site-packages/sklearn/metrics/_classification.py:1334: UndefinedMetricWarning: Precision is ill-defined and being set to 0.0 in labels with no predicted samples. Use `zero_division` parameter to control this behavior.\n",
      "  _warn_prf(average, modifier, msg_start, len(result))\n"
     ]
    },
    {
     "name": "stdout",
     "output_type": "stream",
     "text": [
      "top1 0.1034375 0.1034375\n"
     ]
    },
    {
     "data": {
      "image/png": "[encoded data removed]",
      "text/plain": [
       "<Figure size 640x480 with 1 Axes>"
      ]
     },
     "metadata": {},
     "output_type": "display_data"
    },
    {
     "name": "stdout",
     "output_type": "stream",
     "text": [
      "balanced_top1 0.09795262491256593 0.09795262491256593\n"
     ]
    },
    {
     "data": {
      "image/png": "[encoded data removed]",
      "text/plain": [
       "<Figure size 640x480 with 1 Axes>"
      ]
     },
     "metadata": {},
     "output_type": "display_data"
    },
    {
     "name": "stdout",
     "output_type": "stream",
     "text": [
      "precision 0.06041337961502051 0.06041337961502051\n"
     ]
    },
    {
     "data": {
      "image/png": "[encoded data removed]",
      "text/plain": [
       "<Figure size 640x480 with 1 Axes>"
      ]
     },
     "metadata": {},
     "output_type": "display_data"
    },
    {
     "name": "stdout",
     "output_type": "stream",
     "text": [
      "recall 0.09795262491256593 0.09795262491256593\n"
     ]
    },
    {
     "data": {
      "image/png": "[encoded data removed]",
      "text/plain": [
       "<Figure size 640x480 with 1 Axes>"
      ]
     },
     "metadata": {},
     "output_type": "display_data"
    },
    {
     "name": "stdout",
     "output_type": "stream",
     "text": [
      "F1 0.01945442448436461 0.01945442448436461\n"
     ]
    },
    {
     "data": {
      "image/png": "[encoded data removed]",
      "text/plain": [
       "<Figure size 640x480 with 1 Axes>"
      ]
     },
     "metadata": {},
     "output_type": "display_data"
    }
   ],
   "source": [
    "top1,balanced_top1, precision, recall, F1, cf_mat  = eval(m,emaA.ema,eval_loader,device,return_gt=True,use_ema_model=False)\n",
    "no_ema = {\n",
    "    'top1':top1,\n",
    "    'balanced_top1':balanced_top1,\n",
    "    'precision':precision,\n",
    "    'recall':recall,\n",
    "    'F1':F1,\n",
    "    'cf_mat':cf_mat\n",
    "}\n",
    "top1,balanced_top1, precision, recall, F1, cf_mat  = eval(m,emaA.ema,eval_loader,device,return_gt=True,use_ema_model=True)\n",
    "ema_res = {\n",
    "    'top1':top1,\n",
    "    'balanced_top1':balanced_top1,\n",
    "    'precision':precision,\n",
    "    'recall':recall,\n",
    "    'F1':F1,\n",
    "    'cf_mat':cf_mat\n",
    "}\n",
    "for k in ema_res.keys():\n",
    "    if k!='cf_mat':\n",
    "        print(k,no_ema[k],ema_res[k])\n",
    "        plt.bar(['no_ema','ema'],[no_ema[k],ema_res[k]])\n",
    "        plt.title(\"{} No EMA vs EMA\".format(k))\n",
    "        plt.show()"
   ]
  },
  {
   "cell_type": "code",
   "execution_count": null,
   "id": "07634fad-b08f-468b-88b4-a1b7257b00ab",
   "metadata": {},
   "outputs": [],
   "source": [
    "# ema_res"
   ]
  },
  {
   "cell_type": "code",
   "execution_count": null,
   "id": "e01d0626-8ab6-4c20-9321-65cfcebfa704",
   "metadata": {},
   "outputs": [],
   "source": []
  }
 ],
 "metadata": {
  "kernelspec": {
   "display_name": "usb",
   "language": "python",
   "name": "usb"
  },
  "language_info": {
   "codemirror_mode": {
    "name": "ipython",
    "version": 3
   },
   "file_extension": ".py",
   "mimetype": "text/x-python",
   "name": "python",
   "nbconvert_exporter": "python",
   "pygments_lexer": "ipython3",
   "version": "3.8.13"
  }
 },
 "nbformat": 4,
 "nbformat_minor": 5
}
